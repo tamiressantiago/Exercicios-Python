{
  "cells": [
    {
      "cell_type": "markdown",
      "id": "1ed07839",
      "metadata": {
        "id": "1ed07839"
      },
      "source": [
        "# Bloco de funções"
      ]
    },
    {
      "cell_type": "code",
      "execution_count": null,
      "id": "ab1cede9",
      "metadata": {
        "id": "ab1cede9"
      },
      "outputs": [],
      "source": [
        "#1\n",
        "def divisoria():\n",
        "    print('-=' * 30)\n",
        "    print(' ' * 30)\n",
        "   \n",
        "#1.1\n",
        "def divisoria_simples():\n",
        "    print('-' * 60)\n",
        "\n",
        "#2\n",
        "def ler_inteiros():\n",
        "    num_informado = float(input('Informe o ' + str(i) + 'º número inteiro: '))\n",
        "    return verificar_inteiros(num_informado)  # Retorna o número inteiro verificado\n",
        "\n",
        "#2.2\n",
        "def ler_reais():\n",
        "  num = float(input(f\"Informe o {i}º número real: \"))\n",
        "  return lista.append(num)\n",
        "\n",
        "#3\n",
        "def verificar_inteiros(numero):\n",
        "    while numero != int(numero):\n",
        "        numero = float(input(\"Erro. Digite um valor INTEIRO: \"))\n",
        "    return int(numero)  # Converte o número para inteiro antes de retornar\n",
        "\n",
        "#4\n",
        "def ler_notas():\n",
        "    nota = float(input('Informe o valor da ' + str(i) + 'ª nota: '))\n",
        "    while nota < 0 or nota > 10:\n",
        "        nota = float(input('Erro, informe um valor entre 0 e 10: '))\n",
        "    return nota\n",
        "\n",
        "#5\n",
        "def media(lista):\n",
        "    return sum(lista) / int(len(lista))\n",
        "\n",
        "#6\n",
        "def acima_7(lista_media):\n",
        "    cont = 0\n",
        "    for i in lista_media:\n",
        "        if i >= 7:\n",
        "            cont += 1\n",
        "    return cont\n",
        "\n",
        "#7\n",
        "def multiplicar_lista(lista):\n",
        "    resultado = 1\n",
        "    for numero in lista:\n",
        "        resultado *= numero\n",
        "    return resultado\n",
        "\n",
        "#8\n",
        "def ler_altura():\n",
        "    altura = float(input(f\"Digite a altura da {i}ª pessoa em metros: \"))\n",
        "    while altura < 0 or altura > 100:\n",
        "        altura = float(input('Erro. Digite um valor positivo e em metros: '))\n",
        "    return altura\n",
        "\n",
        "#9\n",
        "def ler_idade():\n",
        "    idade = float(input(f\"Digite a idade da {i}ª pessoa: \"))\n",
        "    while idade < 0 or idade != int(idade):\n",
        "        idade = float(input('Erro. Digite um valor positivo e inteiro: '))\n",
        "    return int(idade)\n",
        "\n",
        "#10\n",
        "def verificar_positivos(num):\n",
        "    while num < 0:\n",
        "        num = float(input(\"Digite um número inteiro positivo: \"))\n",
        "    return int(num)\n",
        "\n",
        "#11\n",
        "def acima_media(lista):\n",
        "    valor_acima = 0.0\n",
        "    media = sum(lista) / int (len(lista))\n",
        "    for i in range(len(lista)):\n",
        "      if lista[i] > media:\n",
        "        valor_acima += 1\n",
        "    return valor_acima\n",
        "\n",
        "#12\n",
        "def abaixo_7(lista):\n",
        "    valor_abaixo = 0\n",
        "    media = 0\n",
        "    media = sum(lista) / int (len(lista))\n",
        "    for i in range(len(lista)):\n",
        "      if lista[i] < 7:\n",
        "        valor_abaixo += 1\n",
        "    return valor_abaixo\n",
        "\n",
        "#13\n",
        "def verificar_negativo(nota):\n",
        "    while nota < -1:\n",
        "        nota = float(input('Erro: Informe um valor POSITIVO: '))\n",
        "    return nota\n",
        "\n",
        "#13.3\n",
        "def verificar_num_negativo(valor):\n",
        "    while valor < 0:\n",
        "        valor = float(input('Erro: Informe um valor POSITIVO: '))\n",
        "    return valor\n",
        "\n",
        "#14\n",
        "def encontrar_segundo_maior(lista):   \n",
        "    maior = lista[0]\n",
        "    segundo_maior = lista[1]\n",
        "    \n",
        "    if segundo_maior > maior:\n",
        "        maior, segundo_maior = segundo_maior, maior\n",
        "    \n",
        "    for i in range(2, len(lista)):\n",
        "        if lista[i] > maior:\n",
        "            segundo_maior = maior\n",
        "            maior = lista[i]\n",
        "        elif lista[i] > segundo_maior:\n",
        "            segundo_maior = lista[i]\n",
        "    \n",
        "    return segundo_maior\n",
        "\n",
        "#15\n",
        "def criar_matriz_vazia(linhas, colunas):\n",
        "  matriz = []\n",
        "  for i in range(linhas):\n",
        "      linha = []\n",
        "      for j in range(colunas):\n",
        "          linha.append(0)\n",
        "      matriz.append(linha)\n",
        "  return matriz\n",
        "\n",
        "#16\n",
        "def printar_matriz(matriz):       \n",
        "  for i in range(len(matriz)):\n",
        "      print(matriz[i])\n",
        "\n",
        "def printar_matriz_formatada(matriz):\n",
        "    for linha in matriz:\n",
        "        for elemento in linha:\n",
        "            print(f'{elemento:>5}', end=\" \")\n",
        "        print()\n",
        "\n",
        "def printar_matriz_formatada_2019(matriz):\n",
        "  for linha in matriz:\n",
        "        for elemento in linha:\n",
        "            print(f'{elemento:>8}', end=\" \")\n",
        "        print()\n",
        "\n",
        "#17\n",
        "def matriz_4x4():\n",
        "    matriz = criar_matriz_vazia(4, 4) #def 15\n",
        "    for linha in range(4):\n",
        "        for coluna in range(4):\n",
        "            resposta = float(input(f\"Digite um valor para [{linha}, {coluna}] : \"))\n",
        "            matriz[linha][coluna] = resposta\n",
        "    return matriz\n",
        "\n",
        "#18\n",
        "def matriz_5x5():\n",
        "  matriz = criar_matriz_vazia(5, 5)\n",
        "  for linha in range(0, 5):\n",
        "      for coluna in range(0, 5):\n",
        "          resposta = float(input(f\"Digite um valor para [{linha}, {coluna}] : \"))\n",
        "          matriz[linha][coluna] = resposta\n",
        "  return matriz\n",
        "\n",
        "#19\n",
        "def alterar_diagonal_principal(matriz, linha, coluna):\n",
        "  for l in range(linha):\n",
        "      for c in range(coluna):\n",
        "          if l == c:  # se a posição atual estiver na diagonal principal\n",
        "              matriz[l][c] = 1  # atribui o valor 1\n",
        "\n",
        "#20 \n",
        "def procurar_em_matriz(matriz, elemento):\n",
        "    for linha in range(len(matriz)):\n",
        "        for coluna in range(len(matriz[linha])):\n",
        "            if matriz[linha][coluna] == elemento:\n",
        "                return linha, coluna\n",
        "    return None\n",
        "\n",
        "#21\n",
        "def matriz4_maiores_valores(matriz1, matriz2):\n",
        "    matriz_resultante = []\n",
        "    for i in range(4):\n",
        "        linha = []\n",
        "        for j in range(4):\n",
        "            maior = max(matriz1[i][j], matriz2[i][j])\n",
        "            linha.append(maior)\n",
        "        matriz_resultante.append(linha)\n",
        "    return matriz_resultante\n",
        "\n",
        "#22\n",
        "def matriz_3x3():\n",
        "  matriz = criar_matriz_vazia(3, 3)\n",
        "  for linha in range(0, 3):\n",
        "      for coluna in range(0, 3):\n",
        "          resposta = float(input(f\"Digite um valor para [{linha}, {coluna}] : \"))\n",
        "          matriz[linha][coluna] = resposta\n",
        "  return matriz\n",
        "\n",
        "#23\n",
        "def somar_acima_diagonal():\n",
        "  soma = 0\n",
        "  for i in range(3):\n",
        "      for j in range(3):\n",
        "          if j > i:\n",
        "              soma += matriz[i][j]\n",
        "  return soma\n",
        "\n",
        "#24\n",
        "def somar_diagonal_principal():\n",
        "  soma = 0\n",
        "  for i in range(3):   \n",
        "      soma += matriz[i][i]\n",
        "  return soma\n",
        "\n",
        "#25\n",
        "def soma_diagonal_secundaria():\n",
        "  soma = 0\n",
        "  for i in range(3):\n",
        "      for j in range(3):\n",
        "          if j == 2 - i:\n",
        "              soma += matriz[i][j]\n",
        "  return soma \n",
        "\n",
        "#25\n",
        "def acima_diagonal_principal_0(matriz):\n",
        "  for i in range(4):\n",
        "      for j in range(4):\n",
        "          if j > i:\n",
        "              matriz[i][j] = 0\n",
        "  return matriz\n",
        "\n",
        "#26\n",
        "def matriz_2x2():\n",
        "  matriz = criar_matriz_vazia(2, 2)\n",
        "  for linha in range(2):\n",
        "      for coluna in range(2):\n",
        "          resposta = float(input(f\"Digite um valor para [{linha}, {coluna}] : \"))\n",
        "          matriz[linha][coluna] = resposta\n",
        "  return matriz\n",
        "\n",
        "#27\n",
        "def soma_de_matrizes(matriz1, matriz2):\n",
        "  matriz3 = criar_matriz_vazia(len(matriz1, len(matriz1)))       \n",
        "  for i in range(len(matriz1)):\n",
        "      for j in range(len(matriz1)):\n",
        "          matriz3[i][j] = matriz1[i][j] + matriz2[i][j]\n",
        "  return matriz3\n",
        "\n",
        "#28\n",
        "def subtrair_matrizes(matriz1, matriz2):\n",
        "  matriz3 = criar_matriz_vazia(len(matriz1, len(matriz1)))       \n",
        "  for i in range(len(matriz1)):\n",
        "      for j in range(len(matriz1)):\n",
        "          matriz3[i][j] = matriz2[i][j] - matriz1[i][j]\n",
        "  return matriz3\n",
        "\n",
        "#29\n",
        "def adicionar_a_matriz(num, matriz): \n",
        "  for i in range(len(matriz)):\n",
        "      for j in range(len(matriz[0])):\n",
        "          matriz[i][j] = matriz[i][j] + num         \n",
        "  return matriz\n",
        "\n",
        "#30\n",
        "def verificar_inteirosEpositivos(num):\n",
        "  while num < 0 or num != int(num):\n",
        "    num = float(input('Informe um valor inteiro e positivo: '))\n",
        "  return int(num)   \n",
        "\n",
        "#31\n",
        "def preencher_matrizes(linhas, colunas, descricao):\n",
        "  matriz = criar_matriz_vazia(linhas, colunas)\n",
        "  for i in range(linhas):\n",
        "    linha = []\n",
        "    for j in range(colunas):\n",
        "      qnt = float(input(f\"Informe {descricao}: \"))\n",
        "      verificar_positivos(qnt)\n",
        "      linha.append(qnt)\n",
        "    matriz.append(linha)\n",
        "  return matriz\n",
        "\n",
        "#32\n",
        "def preencher_graos(linhas, colunas):\n",
        "    matriz = []\n",
        "    regioes = [\"Sudeste\", \"Centro-Oeste\", \"Sul\"] \n",
        "    graos = [\"Soja\", \"Feijão\", \"Arroz\", \"Milho\"]   \n",
        "    for i in range(linhas):\n",
        "        divisoria_simples()\n",
        "        print(f\"{regioes[i]}\")  # Imprime a região correspondente\n",
        "        divisoria_simples()\n",
        "        linha = []\n",
        "        for j in range(colunas):\n",
        "            print(graos[j], end=\" - \")\n",
        "            qnt = float(input())\n",
        "            verificar_positivos(qnt)\n",
        "            linha.append(qnt)\n",
        "        matriz.append(linha)\n",
        "    \n",
        "    return matriz\n",
        "\n",
        "#33\n",
        "def transformar_em_binario(num, sinal ):\n",
        "  numBinario = []\n",
        "  while num > 0:\n",
        "            resto = num % 2\n",
        "            numBinario.append(resto)\n",
        "            num = num // 2\n",
        "  for i in range(7-len(numBinario)):\n",
        "        numBinario.append(0)\n",
        "  numBinario.append(sinal)\n",
        "  numBinario.reverse()\n",
        "  return numBinario\n",
        "    \n",
        "#34\n",
        "def matriz_input(num):\n",
        "  for linha in range(num):\n",
        "      for coluna in range(num):\n",
        "          resposta = float(input(f\"Digite um valor para [{linha}, {coluna}] : \"))\n",
        "          matriz[linha][coluna] = resposta\n",
        "  return matriz\n",
        "\n",
        "\n"
      ]
    },
    {
      "cell_type": "markdown",
      "id": "9f29ad97",
      "metadata": {
        "id": "9f29ad97"
      },
      "source": [
        "1. Faça um Programa que leia 5 números inteiros, armazene-os em uma lista."
      ]
    },
    {
      "cell_type": "code",
      "execution_count": null,
      "id": "2b7d9c91",
      "metadata": {
        "colab": {
          "base_uri": "https://localhost:8080/"
        },
        "id": "2b7d9c91",
        "outputId": "2c2e788a-a060-42ac-d201-f5b48a5d24b7"
      },
      "outputs": [
        {
          "output_type": "stream",
          "name": "stdout",
          "text": [
            "Informe o 1º número inteiro: 1\n",
            "Informe o 2º número inteiro: 2.2\n",
            "Erro. Digite um valor INTEIRO: 2\n",
            "Informe o 3º número inteiro: -3\n",
            "Informe o 4º número inteiro: 4\n",
            "Informe o 5º número inteiro: 5\n",
            "-=-=-=-=-=-=-=-=-=-=-=-=-=-=-=-=-=-=-=-=-=-=-=-=-=-=-=-=-=-=\n",
            "                              \n",
            "Os números digitados foram: [1, 2, -3, 4, 5]\n"
          ]
        }
      ],
      "source": [
        "lista = []\n",
        "#lista = [1, 2, 3, 4, 5]\n",
        "\n",
        "for i in range(1, 6):        \n",
        "    n_inteiro = ler_inteiros() #def 2\n",
        "    lista.append(n_inteiro)\n",
        "\n",
        "divisoria() #1\n",
        "print(\"Os números digitados foram:\", lista)"
      ]
    },
    {
      "cell_type": "markdown",
      "id": "b4a10505",
      "metadata": {
        "id": "b4a10505"
      },
      "source": [
        "2. Faça um Programa que leia 10 números reais e mostre-os na ordem inversa."
      ]
    },
    {
      "cell_type": "code",
      "execution_count": null,
      "id": "3ee74d8f",
      "metadata": {
        "colab": {
          "base_uri": "https://localhost:8080/"
        },
        "id": "3ee74d8f",
        "outputId": "fae2f80c-c877-46aa-d9fb-1ee38bfaef5c"
      },
      "outputs": [
        {
          "output_type": "stream",
          "name": "stdout",
          "text": [
            "Informe o 1º número real: 1\n",
            "Informe o 2º número real: 2.2\n",
            "Informe o 3º número real: -3\n",
            "Informe o 4º número real: 4\n",
            "Informe o 5º número real: 5\n",
            "-=-=-=-=-=-=-=-=-=-=-=-=-=-=-=-=-=-=-=-=-=-=-=-=-=-=-=-=-=-=\n",
            "                              \n",
            "[5.0, 4.0, -3.0, 2.2, 1.0]\n"
          ]
        }
      ],
      "source": [
        "lista = []\n",
        "for i in range(1, 6): #lendo só cinco valores      \n",
        "    n_real = ler_reais()  #def 2.2\n",
        "\n",
        "lista.reverse()\n",
        "divisoria() #def 1\n",
        "print(lista)\n"
      ]
    },
    {
      "cell_type": "markdown",
      "id": "ff5e23df",
      "metadata": {
        "id": "ff5e23df"
      },
      "source": [
        "3. Faça um Programa que leia 40 notas, mostre as notas e a média na tela."
      ]
    },
    {
      "cell_type": "code",
      "execution_count": null,
      "id": "eb945c23",
      "metadata": {
        "colab": {
          "base_uri": "https://localhost:8080/"
        },
        "id": "eb945c23",
        "outputId": "dc4b8a90-ab15-434f-f7b7-cdd8c1fa0f2d"
      },
      "outputs": [
        {
          "output_type": "stream",
          "name": "stdout",
          "text": [
            "Informe o valor da 1ª nota: 10\n",
            "Informe o valor da 2ª nota: 9\n",
            "Informe o valor da 3ª nota: 8\n",
            "Informe o valor da 4ª nota: 7\n",
            "-=-=-=-=-=-=-=-=-=-=-=-=-=-=-=-=-=-=-=-=-=-=-=-=-=-=-=-=-=-=\n",
            "                              \n",
            "Notas:  [10.0, 9.0, 8.0, 7.0]\n",
            "Média:  8.5\n"
          ]
        }
      ],
      "source": [
        "lista_notas = [] \n",
        "for i in range(1, 5): #fiz só com 4\n",
        "    lista_notas.append(ler_notas()) #def 4\n",
        "\n",
        "divisoria() #def 1\n",
        "print(\"Notas: \", lista_notas)\n",
        "print(\"Média: \", media(lista_notas)) #def 5"
      ]
    },
    {
      "cell_type": "markdown",
      "id": "2c0d411a",
      "metadata": {
        "id": "2c0d411a"
      },
      "source": [
        "4. Faça um Programa que leia 20 números inteiros e armazene-os numa lista. Armazene os números pares na lista PAR e os números IMPARES na lista impar. Imprima as três listas."
      ]
    },
    {
      "cell_type": "code",
      "execution_count": null,
      "id": "1ba5bb3f",
      "metadata": {
        "colab": {
          "base_uri": "https://localhost:8080/"
        },
        "id": "1ba5bb3f",
        "outputId": "25abac92-f299-4965-bfbb-9e9e9a776543"
      },
      "outputs": [
        {
          "output_type": "stream",
          "name": "stdout",
          "text": [
            "Informe o 1º número inteiro: 1\n",
            "Informe o 2º número inteiro: 2\n",
            "Informe o 3º número inteiro: 3\n",
            "Informe o 4º número inteiro: 4\n",
            "-=-=-=-=-=-=-=-=-=-=-=-=-=-=-=-=-=-=-=-=-=-=-=-=-=-=-=-=-=-=\n",
            "                              \n",
            "Lista completa: [1, 2, 3, 4].\n",
            "Lista de números pares: [2, 4].\n",
            "Lista de números ímpares: [1, 3].\n"
          ]
        }
      ],
      "source": [
        "def classificacaoNum(num):\n",
        "    if num == 0:\n",
        "        return \"Neutro\"\n",
        "    elif num % 2 == 0:\n",
        "        return \"par\"\n",
        "    else:\n",
        "        return \"impar\"\n",
        "\n",
        "lista = []\n",
        "lista_pares = []\n",
        "lista_impares = []\n",
        "\n",
        "for i in range(1, 5):\n",
        "    num = ler_inteiros() #def 2\n",
        "    lista.append(num)\n",
        "    classificacao = classificacaoNum(num)\n",
        "    if classificacao == \"par\":\n",
        "        lista_pares.append(num)\n",
        "    elif classificacao == \"impar\":\n",
        "        lista_impares.append(num)\n",
        "    else:\n",
        "        print('O zero é um valor neutro e não será colocado na lista de pares ou ímpares.')\n",
        "\n",
        "divisoria() #def 1\n",
        "print(f\"Lista completa: {lista}.\\nLista de números pares: {lista_pares}.\\nLista de números ímpares: {lista_impares}.\")\n",
        "\n"
      ]
    },
    {
      "cell_type": "markdown",
      "id": "a307d7e2",
      "metadata": {
        "id": "a307d7e2"
      },
      "source": [
        "5. Faça um Programa que peça as quatro notas de 10 alunos, calcule e armazene\n",
        "numa lista a média de cada aluno, imprima o número de alunos com média\n",
        "maior ou igual a 7.0."
      ]
    },
    {
      "cell_type": "code",
      "execution_count": null,
      "id": "6ffa61ce",
      "metadata": {
        "id": "6ffa61ce",
        "outputId": "9db425eb-08ed-494d-8ef3-be06581d2432",
        "colab": {
          "base_uri": "https://localhost:8080/"
        }
      },
      "outputs": [
        {
          "output_type": "stream",
          "name": "stdout",
          "text": [
            "1 º aluno------\n",
            "Informe o valor da 1ª nota: 10\n",
            "Informe o valor da 2ª nota: 9\n",
            "Informe o valor da 3ª nota: 8\n",
            "Informe o valor da 4ª nota: 7\n",
            "[10.0, 9.0, 8.0, 7.0]\n",
            "2 º aluno------\n",
            "Informe o valor da 1ª nota: 1\n",
            "Informe o valor da 2ª nota: 2\n",
            "Informe o valor da 3ª nota: 3\n",
            "Informe o valor da 4ª nota: 4\n",
            "[1.0, 2.0, 3.0, 4.0]\n",
            "-=-=-=-=-=-=-=-=-=-=-=-=-=-=-=-=-=-=-=-=-=-=-=-=-=-=-=-=-=-=\n",
            "                              \n",
            "Há 1 aluno(s) com a média maior ou igual a 7.\n"
          ]
        }
      ],
      "source": [
        "lista_media = []\n",
        "\n",
        "for alunos in range(1, 3): #fiz com 2 alunos\n",
        "    print(alunos, 'º aluno------')\n",
        "    lista_notas = []\n",
        "    for i in range(1, 5):\n",
        "        nota = ler_notas() #def 4\n",
        "        lista_notas.append(nota)\n",
        "    media_aluno = media(lista_notas) #def 5\n",
        "    lista_media.append(media_aluno)\n",
        "\n",
        "cont = acima_7(lista_media) #def 6\n",
        "divisoria() #1\n",
        "print(f\"Há {cont} aluno(s) com a média maior ou igual a 7.\")\n"
      ]
    },
    {
      "cell_type": "markdown",
      "id": "b37110fa",
      "metadata": {
        "id": "b37110fa"
      },
      "source": [
        "6. Faça um Programa que leia e armazene 50 números inteiros, mostre a soma, a\n",
        "multiplicação e os números."
      ]
    },
    {
      "cell_type": "code",
      "execution_count": null,
      "id": "e400657d",
      "metadata": {
        "id": "e400657d",
        "outputId": "689bb35c-26af-4ad4-d4c2-477022ec362b",
        "colab": {
          "base_uri": "https://localhost:8080/"
        }
      },
      "outputs": [
        {
          "output_type": "stream",
          "name": "stdout",
          "text": [
            "Informe o 1º número inteiro: 1\n",
            "Informe o 2º número inteiro: 2\n",
            "Informe o 3º número inteiro: 3.3\n",
            "Erro. Digite um valor INTEIRO: 3\n",
            "Informe o 4º número inteiro: 4\n",
            "Informe o 5º número inteiro: 5\n",
            "-=-=-=-=-=-=-=-=-=-=-=-=-=-=-=-=-=-=-=-=-=-=-=-=-=-=-=-=-=-=\n",
            "                              \n",
            "Os números informados foram [1, 2, 3, 4, 5].\n",
            "A soma deles resulta em 15.\n",
            "A multiplicação entre eles resulta em 120.  \n",
            "\n"
          ]
        }
      ],
      "source": [
        "lista = []\n",
        "for i in range(1, 6): #fiz com 5\n",
        "    numero = ler_inteiros() #2\n",
        "    lista.append(numero)\n",
        "\n",
        "mult = multiplicar_lista(lista) #def 7   \n",
        "divisoria() #def 1\n",
        "  \n",
        "print(f\"\"\"Os números informados foram {lista}.\n",
        "A soma deles resulta em {int(sum(lista))}.\n",
        "A multiplicação entre eles resulta em {int(mult)}.  \n",
        "\"\"\")\n"
      ]
    },
    {
      "cell_type": "markdown",
      "id": "711b7273",
      "metadata": {
        "id": "711b7273"
      },
      "source": [
        "7. Faça um Programa que peça a idade e a altura de 10 pessoas, armazene cada\n",
        "informação na sua respectiva lista. Imprima a idade da pessoa que possui\n",
        "maior altura."
      ]
    },
    {
      "cell_type": "code",
      "execution_count": null,
      "id": "7e85255a",
      "metadata": {
        "id": "7e85255a",
        "outputId": "2efc26f0-20da-477c-a820-29c544e9fd5d",
        "colab": {
          "base_uri": "https://localhost:8080/"
        }
      },
      "outputs": [
        {
          "output_type": "stream",
          "name": "stdout",
          "text": [
            "Digite a altura da 1ª pessoa em metros: 1.80\n",
            "Digite a idade da 1ª pessoa: 20\n",
            "Digite a altura da 2ª pessoa em metros: 1.60\n",
            "Digite a idade da 2ª pessoa: 30\n",
            "\n",
            "A maior altura é 1.80m.\n",
            "A idade da pessoa com maior altura é 20 anos.\n"
          ]
        }
      ],
      "source": [
        "lista_idade = []\n",
        "lista_altura = []\n",
        "\n",
        "for i in range(1, 3): #fiz com duas pessoas\n",
        "    altura = ler_altura() #def 8\n",
        "    lista_altura.append(altura)\n",
        "    idade = ler_idade() #def 9\n",
        "    lista_idade.append(idade)\n",
        "\n",
        "maior_altura = max(lista_altura)\n",
        "posicao_maior_altura = lista_altura.index(maior_altura)\n",
        "idade_maior_altura = lista_idade[posicao_maior_altura]\n",
        "\n",
        "print(f\"\\nA maior altura é {maior_altura:.2f}m.\")\n",
        "print(f\"A idade da pessoa com maior altura é {idade_maior_altura} anos.\")"
      ]
    },
    {
      "cell_type": "markdown",
      "id": "38b690e5",
      "metadata": {
        "id": "38b690e5"
      },
      "source": [
        "8. Faça um Programa que leia uma lista A com 10 números inteiros, calcule e\n",
        "mostre a soma dos quadrados dos elementos do vetor."
      ]
    },
    {
      "cell_type": "code",
      "execution_count": null,
      "id": "184d412d",
      "metadata": {
        "id": "184d412d",
        "outputId": "cbce116a-07e7-4684-d07d-7e936e5ff581",
        "colab": {
          "base_uri": "https://localhost:8080/"
        }
      },
      "outputs": [
        {
          "output_type": "stream",
          "name": "stdout",
          "text": [
            "Informe o 1º número inteiro: 1\n",
            "Informe o 2º número inteiro: 2\n",
            "Informe o 3º número inteiro: 3\n",
            "Informe o 4º número inteiro: 4\n",
            "Informe o 5º número inteiro: 5\n",
            "A soma dos quadrados dos elementos do vetor é: 55\n"
          ]
        }
      ],
      "source": [
        "def soma_dos_quadrados(lista):\n",
        "    soma_quadrados = 0\n",
        "    for numero in lista:\n",
        "        soma_quadrados += numero ** 2\n",
        "    return soma_quadrados\n",
        "\n",
        "lista = []\n",
        "for i in range(1, 6): #fiz com cinco números\n",
        "    num = ler_inteiros() #def 2\n",
        "    lista.append(num)\n",
        "\n",
        "soma_quadrados = soma_dos_quadrados(lista)\n",
        "\n",
        "print(\"A soma dos quadrados dos elementos do vetor é:\", soma_quadrados)\n"
      ]
    },
    {
      "cell_type": "markdown",
      "id": "3b6ecc94",
      "metadata": {
        "id": "3b6ecc94"
      },
      "source": [
        "9. Faça um Programa que leia duas listas com 10 elementos cada. Gere uma\n",
        "terceira lista de 20 elementos, cujos valores deverão ser compostos pelos\n",
        "elementos intercalados das duas outras listas."
      ]
    },
    {
      "cell_type": "code",
      "execution_count": null,
      "id": "65e2b0d5",
      "metadata": {
        "id": "65e2b0d5",
        "colab": {
          "base_uri": "https://localhost:8080/"
        },
        "outputId": "6ded70d5-a7fd-4820-ed86-371f929b513b"
      },
      "outputs": [
        {
          "output_type": "stream",
          "name": "stdout",
          "text": [
            "\n",
            "A lista 1 é [1, 2, 3], a lista 2 é [4, 5, 6]. \n",
            "A união dessas duas listas, de forma intercalada é [1, 4, 2, 5, 3, 6].\n"
          ]
        }
      ],
      "source": [
        "def intercalar_lista(lista1, lista2):\n",
        "    lista_intercalada = []\n",
        "    for i in range(len(lista1)):\n",
        "        lista_intercalada.append(lista1[i])\n",
        "        lista_intercalada.append(lista2[i])\n",
        "    return lista_intercalada\n",
        "\n",
        "lista1 = [1, 2, 3]\n",
        "lista2= [4, 5, 6]\n",
        "\n",
        "# lista1 = []\n",
        "# lista2 = []\n",
        "# for i in range(1, 3):\n",
        "#     num = float(input(f\"\\nDigite o {i}º elemento da lista 1: \"))\n",
        "#     lista1.append(int(num))\n",
        "#     num = float(input(f\"Digite o {i}º elemento da lista 2: \"))\n",
        "#     lista2.append(int(num))\n",
        "\n",
        "lista3 = intercalar_lista(lista1, lista2)\n",
        "\n",
        "print(f\"\\nA lista 1 é {lista1}, a lista 2 é {lista2}. \\nA união dessas duas listas, de forma intercalada é {lista3}.\")"
      ]
    },
    {
      "cell_type": "markdown",
      "id": "1de40201",
      "metadata": {
        "id": "1de40201"
      },
      "source": [
        "11. Foram anotadas as idades e alturas de 30 alunos. Faça um Programa que\n",
        "determine quantos alunos com mais de 13 anos possuem altura inferior à\n",
        "média de altura desses alunos."
      ]
    },
    {
      "cell_type": "code",
      "execution_count": null,
      "id": "540d21b3",
      "metadata": {
        "id": "540d21b3",
        "outputId": "bb5c5fd5-004f-4e8b-d302-edc4e0aa31ab",
        "colab": {
          "base_uri": "https://localhost:8080/"
        }
      },
      "outputs": [
        {
          "output_type": "stream",
          "name": "stdout",
          "text": [
            "A média de altura dos alunos é de 1.51\n",
            "A quantidade de alunos com mais de 13 anos que possuem a altura menor que a média é de 3\n"
          ]
        }
      ],
      "source": [
        "#fiz com 8 alunos\n",
        "idade = [10, 11, 15, 13, 12, 14, 15, 16]\n",
        "altura = [1.40, 1.50, 1.40, 1.50, 1.60, 1.50, 1.75, 1.45] \n",
        "\n",
        "media_altura = media(altura) #def 5\n",
        "\n",
        "qnt_alunos_abaixo_media = 0\n",
        "\n",
        "for i in range(len(idade)):\n",
        "    if idade[i] > 13 and altura[i] < media_altura:\n",
        "        qnt_alunos_abaixo_media += 1\n",
        "\n",
        "print('A média de altura dos alunos é de {:.2f}'.format(media_altura))\n",
        "print('A quantidade de alunos com mais de 13 anos que possuem a altura menor que a média é de', qnt_alunos_abaixo_media)"
      ]
    },
    {
      "cell_type": "markdown",
      "id": "b40a0152",
      "metadata": {
        "id": "b40a0152"
      },
      "source": [
        "12. Escreva um algoritmo que permita a leitura dos nomes de 10 pessoas e\n",
        "armazene os nomes lidos em uma lista. Após isto, o algoritmo deve permitir a\n",
        "leitura de mais 1 nome qualquer de pessoa e depois escrever a mensagem\n",
        "ACHEI, se o nome estiver entre os 10 nomes lidos anteriormente (guardados\n",
        "na lista), ou NÃO ACHEI caso contrário."
      ]
    },
    {
      "cell_type": "code",
      "execution_count": null,
      "id": "66ccec19",
      "metadata": {
        "id": "66ccec19",
        "outputId": "62e27f81-a926-45cd-c1bc-2e12c6cb2d42",
        "colab": {
          "base_uri": "https://localhost:8080/"
        }
      },
      "outputs": [
        {
          "output_type": "stream",
          "name": "stdout",
          "text": [
            "Digite nomes: \n",
            "1º nome: maria\n",
            "2º nome: pedro\n",
            "3º nome: joao\n",
            "-=-=-=-=-=-=-=-=-=-=-=-=-=-=-=-=-=-=-=-=-=-=-=-=-=-=-=-=-=-=\n",
            "                              \n",
            "Informe um nome para procurar na lista: joao\n",
            "Achei\n"
          ]
        }
      ],
      "source": [
        "def ler_nomes():\n",
        "    nome = input(f\"{i}º nome: \")\n",
        "    return lista_nomes.append(nome)\n",
        "    \n",
        "lista_nomes = []\n",
        "print('Digite nomes: ')\n",
        "for i in range(1, 4): #fiz com 3\n",
        "    ler_nomes()\n",
        "\n",
        "divisoria() #def 1\n",
        "nomeAProcurar = input('Informe um nome para procurar na lista: ')\n",
        "\n",
        "if nomeAProcurar in lista_nomes:\n",
        "    print(\"Achei\")\n",
        "else:\n",
        "    print(\"Não achei\")\n"
      ]
    },
    {
      "cell_type": "markdown",
      "id": "a7fe052c",
      "metadata": {
        "id": "a7fe052c"
      },
      "source": [
        "13. Faça um programa que receba a temperatura média de cada mês do ano e\n",
        "armazene-as em uma lista. Após isto, calcule a média anual das temperaturas\n",
        "e mostre todas as temperaturas acima da média anual, e em que mês elas\n",
        "ocorreram (mostrar o mês por extenso: 1 – Janeiro, 2 – Fevereiro, . . . )."
      ]
    },
    {
      "cell_type": "code",
      "execution_count": null,
      "id": "4ea22a61",
      "metadata": {
        "id": "4ea22a61",
        "colab": {
          "base_uri": "https://localhost:8080/"
        },
        "outputId": "f50a9392-1628-4330-e76a-771501ca3da9"
      },
      "outputs": [
        {
          "output_type": "stream",
          "name": "stdout",
          "text": [
            "\n",
            "Temperaturas acima da média anual (28.5):\n",
            "Janeiro: 30.0\n",
            "Agosto: 29.0\n",
            "Setembro: 30.0\n",
            "Outubro: 33.0\n",
            "Novembro: 34.0\n",
            "Dezembro: 35.0\n"
          ]
        }
      ],
      "source": [
        "def temp_acima_media_anual(temperatura, media_anual):\n",
        "  temp_acima_media = []\n",
        "  for i in range(len(temperatura)):\n",
        "      if temperatura[i] > media_anual:\n",
        "          temp_acima_media.append((i, temperatura[i]))\n",
        "  return temp_acima_media\n",
        "\n",
        "\n",
        "meses = ['Janeiro', 'Fevereiro', 'Março', 'Abril', 'Maio', 'Junho', 'Julho', 'Agosto', 'Setembro'\n",
        ", 'Outubro', 'Novembro', 'Dezembro']\n",
        "\n",
        "temperatura = [30, 21, 24, 25, 26, 27, 28, 29, 30, 33, 34, 35]\n",
        "\n",
        "# temperatura = []\n",
        "# for i in range(12):\n",
        "#     temp = float(input(f\"Digite a temperatura média de {meses[i]}: \"))\n",
        "#     temperatura.append(temp)\n",
        "    \n",
        "media_anual = media(temperatura) #def 5\n",
        "\n",
        "temp_acima_media = temp_acima_media_anual(temperatura, media_anual)\n",
        "\n",
        "\n",
        "print(f\"\\nTemperaturas acima da média anual ({media_anual:.1f}):\")\n",
        "for mes, temp in temp_acima_media:\n",
        "    print(f\"{meses[mes]}: {temp:.1f}\")"
      ]
    },
    {
      "cell_type": "markdown",
      "id": "416226d9",
      "metadata": {
        "id": "416226d9"
      },
      "source": [
        "14. Faça um programa que leia um número indeterminado de valores, correspondentes a notas, encerrando a entrada de dados quando for informado um valor igual a -1 (que não deve ser armazenado). Após esta entrada de dados, faça:\n",
        "\n",
        "a. Mostre a quantidade de valores que foram lidos;\n",
        "\n",
        "b. Exiba todos os valores na ordem em que foram informados\n",
        "\n",
        "c. Exiba todos os valores na ordem inversa à que foram informados\n",
        "\n",
        "d. Calcule e mostre a soma dos valores;\n",
        "\n",
        "e. Calcule e mostre a média dos valores;\n",
        "\n",
        "f. Calcule e mostre a quantidade de valores acima da média calculada;\n",
        "\n",
        "g. Calcule e mostre a quantidade de valores abaixo de sete;\n",
        "\n",
        "h. Encerre o programa com uma mensagem."
      ]
    },
    {
      "cell_type": "code",
      "execution_count": null,
      "id": "1d6f5cc9",
      "metadata": {
        "id": "1d6f5cc9",
        "colab": {
          "base_uri": "https://localhost:8080/"
        },
        "outputId": "1e487e97-2cdb-4ea2-c506-4d3a23595c9b"
      },
      "outputs": [
        {
          "output_type": "stream",
          "name": "stdout",
          "text": [
            "Informe uma nota ou -1 para encerrar: 1\n",
            "Informe uma nota ou -1 para encerrar: 2\n",
            "Informe uma nota ou -1 para encerrar: 3\n",
            "Informe uma nota ou -1 para encerrar: -8\n",
            "Erro: Informe um valor POSITIVO: -1\n",
            "\n",
            "PROGRAMA ENCERRADO.\n",
            "-=-=-=-=-=-=-=-=-=-=-=-=-=-=-=-=-=-=-=-=-=-=-=-=-=-=-=-=-=-=\n",
            "                              \n",
            "  A quantidade de notas lidas foi de 3\n",
            "  As notas na ordem em que foram informadas é [1.0, 2.0, 3.0]\n",
            "  As notas na ordem inversa à que foram informadas é [3.0, 2.0, 1.0]\n",
            "  O resultado da soma de todos as notas é de 6.0\n",
            "  A média das notas informadas é de 2.0\n",
            "  A quantidade de notas acima da média é de 1.0 \n",
            "  A quantidade de notas abaixo de 7 é de 3\n",
            "  \n",
            "Programa encerrado!\n"
          ]
        }
      ],
      "source": [
        "notas = []\n",
        "nota = 1\n",
        "while nota >= 0:\n",
        "    nota = float(input('Informe uma nota ou -1 para encerrar: '))\n",
        "    nota = verificar_negativo(nota)\n",
        "    if nota == -1:\n",
        "        print('\\nPROGRAMA FINALIZADO.')\n",
        "    else:\n",
        "        notas.append(nota) #def 13\n",
        "\n",
        "#def 11 e 12\n",
        "if len(notas) > 0:\n",
        "  divisoria()\n",
        "  print(f\"\"\"  A quantidade de notas lidas foi de {len(notas)}\n",
        "  As notas na ordem em que foram informadas é {notas}\n",
        "  As notas na ordem inversa à que foram informadas é {list(reversed(notas))}\n",
        "  O resultado da soma de todos as notas é de {sum(notas)}\n",
        "  A média das notas informadas é de {media(notas)}\n",
        "  A quantidade de notas acima da média é de {acima_media(notas)} \n",
        "  A quantidade de notas abaixo de 7 é de {abaixo_7(notas)}\n",
        "  \\nPrograma encerrado!\"\"\")"
      ]
    },
    {
      "cell_type": "markdown",
      "id": "8b3d6d01",
      "metadata": {
        "id": "8b3d6d01"
      },
      "source": [
        "15. Uma empresa de pesquisas precisa tabular os resultados da seguinte enquete feita a uma grande quantidade de organizações:\n",
        "&quot;Qual o melhor Sistema Operacional para uso em servidores?&quot;\n",
        "As possíveis respostas são:\n",
        "\n",
        "1- Windows Server\n",
        "\n",
        "2- Unix\n",
        "\n",
        "3- Linux\n",
        "\n",
        "4- Netware\n",
        "\n",
        "5- Mac OS\n",
        "\n",
        "6- Outro\n",
        "\n",
        "Você foi contratado para desenvolver um programa que leia o resultado da enquete e informe ao final o resultado da mesma. O programa deverá ler os valores até ser informado o valor 0, que encerra a entrada dos dados. Não deverão ser aceitos valores além dos válidos para o programa (0 a 6). Os valores referentes a cada uma das opções devem ser armazenados numa lista. Após os dados terem sido\n",
        "completamente informados, o programa deverá calcular o percentual de cada um dos concorrentes e informar o vencedor da enquete. O formato da saída foi dado pela empresa, e é o seguinte:\n",
        "\n",
        "Sistema Operacional Votos %\n",
        "\n",
        "------------------- ----- ---\n",
        "\n",
        "Windows Server 1500 17%\n",
        "\n",
        "Unix 3500 40%\n",
        "\n",
        "Linux 3000 34%\n",
        "\n",
        "Netware 500 5%\n",
        "\n",
        "Mac OS 150 2%\n",
        "\n",
        "Outro 150 2%\n",
        "\n",
        "------------------- -----\n",
        "\n",
        "Total 8800\n",
        "\n",
        "O Sistema Operacional mais votado foi o Unix, com 3500 votos, correspondendo a 40% dos votos."
      ]
    },
    {
      "cell_type": "code",
      "execution_count": null,
      "id": "d75a866d",
      "metadata": {
        "id": "d75a866d",
        "colab": {
          "base_uri": "https://localhost:8080/"
        },
        "outputId": "b24e26e7-b4fc-415d-8ed6-c7edc528369b"
      },
      "outputs": [
        {
          "output_type": "stream",
          "name": "stdout",
          "text": [
            "VOTE: Qual o melhor Sistema Operacional para uso em servidores?\n",
            "1ª resposta: 1\n",
            "2ª resposta: 2\n",
            "3ª resposta: 4\n",
            "4ª resposta: 1\n",
            "5ª resposta: 1\n",
            "6ª resposta: 0\n",
            "\n",
            "Enquete encerrada.\n",
            "\n",
            "O resultado da enquete foi:\n",
            "--------------------------------------------------\n",
            "Sistema Operacional        Votos       %\n",
            "--------------------------------------------------\n",
            "Windows Server               3        60.0%\n",
            "Unix                         1        20.0%\n",
            "Linux                        0        0.0%\n",
            "Netware                      1        20.0%\n",
            "Mac OS                       0        0.0%\n",
            "Outro                        0        0.0%\n",
            "--------------------------------------------------\n",
            "TOTAL DE VOTOS: 5\n",
            "    \n"
          ]
        }
      ],
      "source": [
        "enquete = []\n",
        "resposta = numeracao = 1\n",
        "print('VOTE: Qual o melhor Sistema Operacional para uso em servidores?')\n",
        "while resposta != 0:\n",
        "    resposta = float(input(f\"{numeracao}ª resposta: \"))\n",
        "    if resposta == 0:\n",
        "        print('\\nEnquete encerrada.\\n')\n",
        "    elif resposta < 0 or resposta > 6 or resposta != int(resposta):\n",
        "        while resposta < 0 or resposta > 6 or resposta != int(resposta):\n",
        "            print('Valor inválido. Digite um número correspondente às opções acima. ')\n",
        "            resposta = float(input(f\"{numeracao}ª resposta: \"))\n",
        "    if 0 < resposta <= 6:\n",
        "        enquete.append(resposta)\n",
        "    numeracao += 1\n",
        "\n",
        "total_votos = len(enquete)\n",
        "\n",
        "def calcular_porcentagem(votos, total_votos):\n",
        "    return (votos / total_votos) * 100\n",
        "\n",
        "\n",
        "print(f\"\"\"O resultado da enquete foi:\n",
        "{'-' * 50}\n",
        "Sistema Operacional        Votos       %\n",
        "{'-' * 50}\n",
        "Windows Server               {enquete.count(1)}        {calcular_porcentagem(enquete.count(1), total_votos):.1f}%\n",
        "Unix                         {enquete.count(2)}        {calcular_porcentagem(enquete.count(2), total_votos):.1f}%\n",
        "Linux                        {enquete.count(3)}        {calcular_porcentagem(enquete.count(3), total_votos):.1f}%\n",
        "Netware                      {enquete.count(4)}        {calcular_porcentagem(enquete.count(4), total_votos):.1f}%\n",
        "Mac OS                       {enquete.count(5)}        {calcular_porcentagem(enquete.count(5), total_votos):.1f}%\n",
        "Outro                        {enquete.count(6)}        {calcular_porcentagem(enquete.count(6), total_votos):.1f}%\n",
        "{'-' * 50}\n",
        "TOTAL DE VOTOS: {total_votos}\n",
        "    \"\"\")\n"
      ]
    },
    {
      "cell_type": "markdown",
      "id": "13743a68",
      "metadata": {
        "id": "13743a68"
      },
      "source": [
        "16. Escreva um programa em Python para encontrar o segundo maior elemento de uma lista com 20 números inteiros.\n",
        "\n",
        "OBS: todos os valores informados serão de valores diferentes e a solução não deve fazer este tratamento das entradas. Além disso, a solução não deve modificar a lista original com a ordem fornecida dos números."
      ]
    },
    {
      "cell_type": "code",
      "execution_count": null,
      "id": "bf2d7769",
      "metadata": {
        "id": "bf2d7769",
        "colab": {
          "base_uri": "https://localhost:8080/"
        },
        "outputId": "7454da64-6941-48e1-fba7-e1dd21c20c7e"
      },
      "outputs": [
        {
          "output_type": "stream",
          "name": "stdout",
          "text": [
            "Informe 5 números inteiros: \n",
            "Informe o 1º número inteiro: 1\n",
            "Informe o 2º número inteiro: 2\n",
            "Informe o 3º número inteiro: 3\n",
            "Informe o 4º número inteiro: -4\n",
            "Informe o 5º número inteiro: 5.5\n",
            "Erro. Digite um valor INTEIRO: 5.5\n",
            "Erro. Digite um valor INTEIRO: 5\n",
            "O segundo maior valor informado é 3.\n"
          ]
        }
      ],
      "source": [
        "elementos = []\n",
        "\n",
        "print('Informe 5 números inteiros: ')\n",
        "for i in range(1, 6):\n",
        "    numero = ler_inteiros() #def 2\n",
        "    elementos.append(numero)\n",
        "    \n",
        "segundo_maior = encontrar_segundo_maior(elementos) #def 14\n",
        "\n",
        "print('O segundo maior valor informado é {}.'.format(segundo_maior))"
      ]
    },
    {
      "cell_type": "markdown",
      "id": "afefdb66",
      "metadata": {
        "id": "afefdb66"
      },
      "source": [
        "17. Escreva um programa em Python para converter um número inteiro em binário\n",
        "de acordo com a representação de grandeza com sinal (sinal e magnitude). O\n",
        "programa deve receber um número inteiro e produzir como saída uma lista com\n",
        "os bits do número convertido (um bit para cada posição da lista). Além disso\n",
        "deve ser feita a verificação se o número pode ser representado, considere uma\n",
        "representação com 8 bits (um para o sinal e 7 para a magnitude)."
      ]
    },
    {
      "cell_type": "code",
      "execution_count": null,
      "id": "f218e220",
      "metadata": {
        "id": "f218e220",
        "colab": {
          "base_uri": "https://localhost:8080/"
        },
        "outputId": "a769299e-fc16-4493-c97a-76b88274b361"
      },
      "outputs": [
        {
          "output_type": "stream",
          "name": "stdout",
          "text": [
            "Informe o número: 2\n",
            "[0, 0, 0, 0, 0, 0, 1, 0]\n"
          ]
        }
      ],
      "source": [
        "num  = float(input(\"Informe o número: \"))\n",
        "num = verificar_inteiros(num)\n",
        "\n",
        "if num > 127 or num < -127:\n",
        "    print(\"Não é possível representar\")\n",
        "\n",
        "else: \n",
        "    # Analisa o sinal\n",
        "    if num < 0 : \n",
        "        sinal = 1\n",
        "        num = num * (-1) # Converte o número para um valor positivo - facilitar condição do while\n",
        "        \n",
        "    else: \n",
        "        sinal = 0\n",
        "   \n",
        "numBinario = transformar_em_binario(num, sinal) #def 33\n",
        "print(numBinario)"
      ]
    },
    {
      "cell_type": "markdown",
      "id": "8c38a1c8",
      "metadata": {
        "id": "8c38a1c8"
      },
      "source": [
        "18. Leia uma matriz 4 x 4, conte e escreva quantos valores maiores que 10 ela\n",
        "possui."
      ]
    },
    {
      "cell_type": "code",
      "execution_count": null,
      "id": "e4426879",
      "metadata": {
        "id": "e4426879",
        "colab": {
          "base_uri": "https://localhost:8080/"
        },
        "outputId": "fcb6f606-8efc-47cc-ad62-989ce1b46951"
      },
      "outputs": [
        {
          "output_type": "stream",
          "name": "stdout",
          "text": [
            "-=-=-=-=-=-=-=-=-=-=-=-=-=-=-=-=-=-=-=-=-=-=-=-=-=-=-=-=-=-=\n",
            "                              \n",
            "[1, 2, 3, 14]\n",
            "[1, 1, 2, 13]\n",
            "[7, 8, 9, 10]\n",
            "[4, 5, 6, 17]\n",
            "\n",
            "A matriz possui 3 valores maiores que 10.\n"
          ]
        }
      ],
      "source": [
        "#matriz = matriz_input(4) #17\n",
        "matriz = [[1, 2, 3, 14], [1, 1, 2, 13], [7, 8, 9, 10], [4, 5, 6, 17]]        \n",
        "\n",
        "divisoria()\n",
        "printar_matriz(matriz) #16\n",
        "\n",
        "#para descobrir quantos valores são maiores que 10:\n",
        "contador = 0\n",
        "for linha in range(0, 4):\n",
        "    for coluna in range(0, 4):\n",
        "        if matriz[linha][coluna] > 10:\n",
        "            contador += 1\n",
        "\n",
        "print(f\"\\nA matriz possui {contador} valores maiores que 10.\")\n",
        " "
      ]
    },
    {
      "cell_type": "markdown",
      "id": "02688ff9",
      "metadata": {
        "id": "02688ff9"
      },
      "source": [
        "19. Declare uma matriz 5 x 5. Preencha com 1 a diagonal principal e com 0 os\n",
        "demais elementos. Escreva ao ﬁnal a matriz obtida."
      ]
    },
    {
      "cell_type": "code",
      "source": [
        "matriz = criar_matriz_vazia(5, 5) #def 15\n",
        "\n",
        "alterar_diagonal_principal(matriz, 5, 5) #def 19\n",
        "\n",
        "printar_matriz(matriz) #16"
      ],
      "metadata": {
        "colab": {
          "base_uri": "https://localhost:8080/"
        },
        "id": "b09Ldeh9eOTB",
        "outputId": "385bc21e-5af9-4040-d56c-d401c45f5346"
      },
      "id": "b09Ldeh9eOTB",
      "execution_count": null,
      "outputs": [
        {
          "output_type": "stream",
          "name": "stdout",
          "text": [
            "[1, 0, 0, 0, 0]\n",
            "[0, 1, 0, 0, 0]\n",
            "[0, 0, 1, 0, 0]\n",
            "[0, 0, 0, 1, 0]\n",
            "[0, 0, 0, 0, 1]\n"
          ]
        }
      ]
    },
    {
      "cell_type": "markdown",
      "source": [
        "20. Leia uma matriz 5 x 5. Leia também um valor X. O programa deverá fazer uma\n",
        "busca desse valor na matriz e, ao ﬁnal, escrever a localizacão (linha e coluna)\n",
        "ou uma mensagem de “não encontrado”."
      ],
      "metadata": {
        "id": "sbb1pRnBVk1s"
      },
      "id": "sbb1pRnBVk1s"
    },
    {
      "cell_type": "code",
      "source": [
        "#matriz = matriz_5x5()\n",
        "matriz = [[1, 2, 3, 14, 32], [1, 4, 2, 13, 77], [7, 8, 9, 10, 5], [4, 5, 6, 17, 20]]\n",
        "\n",
        "elementoAProcurar = float(input('Digite um valor para procurar na matriz: '))\n",
        "\n",
        "posicao = procurar_em_matriz(matriz, elementoAProcurar) #def 20\n",
        "\n",
        "if posicao is not None:\n",
        "    print(f'O elemento {elementoAProcurar} foi encontrado na posição {posicao}')\n",
        "else:\n",
        "    print('O elemento não foi encontrado na matriz.')"
      ],
      "metadata": {
        "colab": {
          "base_uri": "https://localhost:8080/"
        },
        "id": "4_NMkTogfJup",
        "outputId": "f95c2ceb-91c3-48cc-e0b1-5e10a96dbbad"
      },
      "id": "4_NMkTogfJup",
      "execution_count": null,
      "outputs": [
        {
          "output_type": "stream",
          "name": "stdout",
          "text": [
            "Digite um valor para procurar na matriz: 77\n",
            "O elemento 77.0 foi encontrado na posição (1, 4)\n"
          ]
        }
      ]
    },
    {
      "cell_type": "markdown",
      "source": [
        "21. Leia duas matrizes 4x4 e escreva uma terceira com os maiores valores de\n",
        "cada posição das matrizes lidas."
      ],
      "metadata": {
        "id": "GWMNsPvQVkyn"
      },
      "id": "GWMNsPvQVkyn"
    },
    {
      "cell_type": "code",
      "source": [
        "'''\n",
        "print(\"Digite os elementos da primeira matriz 4x4:\") #17\n",
        "matriz1 = matriz_4x4()   \n",
        "print(\"Digite os elementos da segunda matriz 4x4:\") #17\n",
        "matriz2 = matriz_4x4()\n",
        "'''\n",
        "matriz1 = [[1, 2, 3, 4], [5, 6, 7, 8], [9, 10, 11, 12], [13, 14, 15, 16]]\n",
        "matriz2 = [[16, 15, 14, 13], [12, 11, 10, 9], [8, 7, 6, 5], [4, 3, 2, 1]]\n",
        "\n",
        "matriz_resultante = matriz4_maiores_valores(matriz1, matriz2) #21\n",
        "\n",
        "print(\"Matriz resultante:\")\n",
        "printar_matriz(matriz_resultante) #16"
      ],
      "metadata": {
        "colab": {
          "base_uri": "https://localhost:8080/"
        },
        "id": "ipPScwTxm9d4",
        "outputId": "719adcc9-f138-49ab-9aad-eff6b91879f1"
      },
      "id": "ipPScwTxm9d4",
      "execution_count": null,
      "outputs": [
        {
          "output_type": "stream",
          "name": "stdout",
          "text": [
            "Matriz resultante:\n",
            "[16, 15, 14, 13]\n",
            "[12, 11, 10, 9]\n",
            "[9, 10, 11, 12]\n",
            "[13, 14, 15, 16]\n"
          ]
        }
      ]
    },
    {
      "cell_type": "markdown",
      "source": [
        "22. Gerar e imprimir uma matriz de tamanho 10 x 10, onde seus elementos são da\n",
        "forma:\n",
        "a. A[i][j] = 2i + 7j −2 se i &lt; j;\n",
        "b. A[i][j] = 3i 2 −1 se i = j;\n",
        "c. A[i][j] = 4i 3 −5j 2 + 1 se i &gt; j."
      ],
      "metadata": {
        "id": "ZCqPUK8TVkvt"
      },
      "id": "ZCqPUK8TVkvt"
    },
    {
      "cell_type": "code",
      "source": [
        "matriz = criar_matriz_vazia(10, 10)\n",
        "\n",
        "for i in range(10):\n",
        "  for j in range(10):\n",
        "    if i < j:\n",
        "      matriz[i][j] = 2*i + 7*j - 2 \n",
        "    else:\n",
        "      if i == j:\n",
        "        matriz[i][j] = 3*(i**2) - 1 \n",
        "      else:\n",
        "        if i > j:\n",
        "            matriz[i][j] = 4*(i**3) - 5*(j**2) + 1 \n",
        "\n",
        "printar_matriz_formatada(matriz)"
      ],
      "metadata": {
        "colab": {
          "base_uri": "https://localhost:8080/"
        },
        "id": "LcZ2x9ErRMUH",
        "outputId": "40944bc3-efd0-4c9b-bfba-d8d072f53907"
      },
      "id": "LcZ2x9ErRMUH",
      "execution_count": null,
      "outputs": [
        {
          "output_type": "stream",
          "name": "stdout",
          "text": [
            "   -1     5    12    19    26    33    40    47    54    61 \n",
            "    5     2    14    21    28    35    42    49    56    63 \n",
            "   33    28    11    23    30    37    44    51    58    65 \n",
            "  109   104    89    26    32    39    46    53    60    67 \n",
            "  257   252   237   212    47    41    48    55    62    69 \n",
            "  501   496   481   456   421    74    50    57    64    71 \n",
            "  865   860   845   820   785   740   107    59    66    73 \n",
            " 1373  1368  1353  1328  1293  1248  1193   146    68    75 \n",
            " 2049  2044  2029  2004  1969  1924  1869  1804   191    77 \n",
            " 2917  2912  2897  2872  2837  2792  2737  2672  2597   242 \n"
          ]
        }
      ]
    },
    {
      "cell_type": "markdown",
      "source": [
        "23. Leia uma matriz de 3 x 3 elementos. Calcule a soma dos elementos que estão\n",
        "acima da diagonal principal."
      ],
      "metadata": {
        "id": "Dfovdo0rVkjq"
      },
      "id": "Dfovdo0rVkjq"
    },
    {
      "cell_type": "code",
      "source": [
        "#matriz = matriz_3x3() # def 22\n",
        "matriz = [[1, 2, 3], [1, 2, 3], [1, 2, 3]]\n",
        "\n",
        "soma = somar_acima_diagonal()\n",
        "\n",
        "print(\"A soma dos elementos acima da diagonal principal é:\", soma)"
      ],
      "metadata": {
        "colab": {
          "base_uri": "https://localhost:8080/"
        },
        "id": "nUFFxIDUp5qt",
        "outputId": "b24aa210-0c20-42eb-c4af-3790817d6b1f"
      },
      "id": "nUFFxIDUp5qt",
      "execution_count": null,
      "outputs": [
        {
          "output_type": "stream",
          "name": "stdout",
          "text": [
            "A soma dos elementos acima da diagonal principal é: 8\n"
          ]
        }
      ]
    },
    {
      "cell_type": "markdown",
      "source": [
        "24. Leia uma matriz de 3 x 3 elementos. Calcule a soma dos elementos que estão\n",
        "na diagonal principal."
      ],
      "metadata": {
        "id": "lZ4odW0UVkgw"
      },
      "id": "lZ4odW0UVkgw"
    },
    {
      "cell_type": "code",
      "source": [
        "#matriz = matriz_3x3() # def 22\n",
        "matriz = [[1, 2, 3], [1, 2, 3], [1, 2, 3]]\n",
        "\n",
        "soma = somar_diagonal_principal() #24\n",
        "\n",
        "print(\"A soma dos elementos da diagonal principal é:\", soma)"
      ],
      "metadata": {
        "colab": {
          "base_uri": "https://localhost:8080/"
        },
        "id": "fH5yLXnsrecs",
        "outputId": "3d5be17a-0941-43d6-99c3-e97f7a89dda7"
      },
      "id": "fH5yLXnsrecs",
      "execution_count": null,
      "outputs": [
        {
          "output_type": "stream",
          "name": "stdout",
          "text": [
            "A soma dos elementos da diagonal principal é: 6\n"
          ]
        }
      ]
    },
    {
      "cell_type": "markdown",
      "source": [
        "25. Leia uma matriz de 3 x 3 elementos. Calcule a soma dos elementos que estão\n",
        "na diagonal secundária."
      ],
      "metadata": {
        "id": "rB-4hgGjVkd5"
      },
      "id": "rB-4hgGjVkd5"
    },
    {
      "cell_type": "code",
      "source": [
        "#matriz = matriz_3x3() # def 22\n",
        "matriz = [[1, 2, 3], [1, 2, 3], [1, 2, 3]]\n",
        "\n",
        "soma = soma_diagonal_secundaria()\n",
        "print(\"A soma dos elementos da diagonal secundária é\", soma)"
      ],
      "metadata": {
        "colab": {
          "base_uri": "https://localhost:8080/"
        },
        "id": "-Sd2T8OzsYmp",
        "outputId": "bf37935d-9e15-4f0f-8fda-5ead17d3361d"
      },
      "id": "-Sd2T8OzsYmp",
      "execution_count": null,
      "outputs": [
        {
          "output_type": "stream",
          "name": "stdout",
          "text": [
            "A soma dos elementos da diagonal secundária é 6\n"
          ]
        }
      ]
    },
    {
      "cell_type": "markdown",
      "source": [
        "26. Escreva um programa que transforme uma matriz 4x4 numa matriz triangular\n",
        "inferior, ou seja, atribuindo zero a todos os elementos acima da diagonal\n",
        "principal. Imprima a matriz original e a matriz transformada."
      ],
      "metadata": {
        "id": "FJ2iBBCqVka2"
      },
      "id": "FJ2iBBCqVka2"
    },
    {
      "cell_type": "code",
      "source": [
        "matriz = [[1, 2, 3, 4], [5, 6, 7, 8], [1, 2, 3, 4], [5, 6, 7, 8]]\n",
        "\n",
        "print('Matriz original:')\n",
        "printar_matriz(matriz) #16\n",
        "\n",
        "print('\\nMatriz transformada:')\n",
        "printar_matriz(acima_diagonal_principal_0(matriz)) #def 16 e def 25"
      ],
      "metadata": {
        "colab": {
          "base_uri": "https://localhost:8080/"
        },
        "id": "TLSrH1TUtQgw",
        "outputId": "ad912ba5-4d8f-40d8-b075-15f3ebf080e3"
      },
      "id": "TLSrH1TUtQgw",
      "execution_count": null,
      "outputs": [
        {
          "output_type": "stream",
          "name": "stdout",
          "text": [
            "Matriz original:\n",
            "[1, 2, 3, 4]\n",
            "[5, 6, 7, 8]\n",
            "[1, 2, 3, 4]\n",
            "[5, 6, 7, 8]\n",
            "\n",
            "Matriz transformada:\n",
            "[1, 0, 0, 0]\n",
            "[5, 6, 0, 0]\n",
            "[1, 2, 3, 0]\n",
            "[5, 6, 7, 8]\n"
          ]
        }
      ]
    },
    {
      "cell_type": "markdown",
      "source": [
        "27. Faça um programa que leia duas matrizes 2 x 2 com valores reais. Ofereça ao\n",
        "usuário um menu de opções: \n",
        "\n",
        "(a) somar as duas matrizes \n",
        "\n",
        "(b) subtrair a primeira matriz da segunda \n",
        "\n",
        "(c) adicionar uma constante `as duas matrizes \n",
        "\n",
        "(d) imprimir as matrizes. \n",
        "\n",
        "Nas duas primeiras opções uma terceira matriz deve ser criada.\n",
        "Na terceira opção o valor da constante deve ser lido e o resultado da adição da\n",
        "constante deve ser armazenado na própria matriz."
      ],
      "metadata": {
        "id": "wusLDuOFVkQ3"
      },
      "id": "wusLDuOFVkQ3"
    },
    {
      "cell_type": "code",
      "source": [
        "'''\n",
        "print(\"Digite os valores para a primeira matriz:\") #def 26\n",
        "matriz1 = matriz_2x2()\n",
        "print(\"Digite os valores para a segunda matriz:\") #def 27\n",
        "matriz2 = matriz_2x2()\n",
        "'''     \n",
        "matriz1 = [[5, 5], [6, 6]]\n",
        "matriz2 = [[2, 3], [2, 3]]\n",
        "\n",
        "divisoria() #def 1  \n",
        "print(f\"\"\"MENU DE OPÇÕES:\n",
        "\n",
        "a) Somar as duas matrizes\n",
        "b) Subtrair a primeira matriz da segunda\n",
        "c) Adicionar uma constante às duas matrizes\n",
        "d) Imprimir as matrizes\n",
        "\n",
        "Digite 0 para sair:\n",
        "\"\"\")\n",
        "\n",
        "operacao = 'a'\n",
        "while operacao != '0':\n",
        "    divisoria_simples() #def 1.2\n",
        "    operacao = (input('Informe qual operação deseja realizar (a, b, c ou d): '))\n",
        "\n",
        "    if operacao == 'a' or operacao == 'A':\n",
        "        #soma de matrizes\n",
        "        matriz3 = soma_de_matrizes(matriz1, matriz2) #def 27\n",
        "        print('\\nO resultado da soma da matriz 1 com a matriz 2 é:')\n",
        "        printar_matriz(matriz3) #def 16\n",
        "\n",
        "    elif operacao == 'b' or operacao == 'B':\n",
        "        #subtraição de matrizes\n",
        "        matriz3 = subtrair_matrizes(matriz1, matriz2) #def 28\n",
        "        print('\\nO resultado da subtração da matriz 1 com a matriz 2 é:')\n",
        "        printar_matriz(matriz3) #def 16\n",
        "\n",
        "    elif operacao == 'c' or operacao == 'C':\n",
        "        num = int(input('Qual constante deseja adicionar:'))\n",
        "        matriz1 = adicionar_a_matriz(num, matriz1) #def 29\n",
        "        matriz2 = adicionar_a_matriz(num, matriz2) #def 29\n",
        "        print('Matrizes com constantes adicionadas.')\n",
        "\n",
        "        print('Matriz 1:')\n",
        "        printar_matriz(matriz1) #def 16\n",
        "        print('Matriz 2:')\n",
        "        printar_matriz(matriz2) #def 16\n",
        "\n",
        "    elif operacao == 'd' or operacao == 'D':\n",
        "        print('Matriz 1:')\n",
        "        printar_matriz(matriz1) #def 16\n",
        "        print('Matriz 2:')\n",
        "        printar_matriz(matriz2) #def 16\n",
        "            \n",
        "    elif operacao == '0':\n",
        "        print('PROGRAMA ENCERRADO.\\n')\n",
        "        divisoria() #def 1\n",
        "        \n",
        "    else:\n",
        "        print('Valor inválido. Digite novamente.')"
      ],
      "metadata": {
        "colab": {
          "base_uri": "https://localhost:8080/"
        },
        "id": "reKk-gM3uhx2",
        "outputId": "ee942b94-842e-47a9-ac40-e47d0fb9f50e"
      },
      "id": "reKk-gM3uhx2",
      "execution_count": null,
      "outputs": [
        {
          "output_type": "stream",
          "name": "stdout",
          "text": [
            "-=-=-=-=-=-=-=-=-=-=-=-=-=-=-=-=-=-=-=-=-=-=-=-=-=-=-=-=-=-=\n",
            "                              \n",
            "MENU DE OPÇÕES:\n",
            "\n",
            "a) Somar as duas matrizes\n",
            "b) Subtrair a primeira matriz da segunda\n",
            "c) Adicionar uma constante às duas matrizes\n",
            "d) Imprimir as matrizes\n",
            "\n",
            "Digite 0 para sair:\n",
            "\n",
            "------------------------------------------------------------\n",
            "Informe qual operação deseja realizar (a, b, c ou d): d\n",
            "Matriz 1:\n",
            "[5, 5]\n",
            "[6, 6]\n",
            "Matriz 2:\n",
            "[2, 3]\n",
            "[2, 3]\n",
            "------------------------------------------------------------\n",
            "Informe qual operação deseja realizar (a, b, c ou d): 0\n",
            "PROGRAMA ENCERRADO.\n",
            "\n",
            "-=-=-=-=-=-=-=-=-=-=-=-=-=-=-=-=-=-=-=-=-=-=-=-=-=-=-=-=-=-=\n",
            "                              \n"
          ]
        }
      ]
    },
    {
      "cell_type": "markdown",
      "source": [
        "28. Escreva um programa em Python para corrigir uma prova com 10 questões de\n",
        "múltipla escolha (a, b, c, d ou e), em uma turma com 15 alunos. Cada questão\n",
        "vale 1 ponto. Leia o gabarito apenas uma vez, e para cada aluno leia sua\n",
        "matricula (número inteiro) e suas respostas. Calcule e escreva para cada aluno:\n",
        "sua matrícula, suas respostas, e sua nota. OBS: utilizar matrizes na solução."
      ],
      "metadata": {
        "id": "f3XmMzU_WBEG"
      },
      "id": "f3XmMzU_WBEG"
    },
    {
      "cell_type": "code",
      "source": [
        "matrizAlunos = []\n",
        "gabarito = [\"a\", \"b\",\"a\", \"b\",\"a\", \"b\",\"a\", \"b\",\"a\", \"b\"]\n",
        "\n",
        "\n",
        "for i in range(1, 3): # 15, para todos os 15 alunos\n",
        "    linha = []\n",
        "    contrespostasCertas = 0\n",
        "    matricula = float(input(f\"Informe o número da matricula do {i}º aluno: \"))\n",
        "    verificar_inteiros(matricula) #def 3\n",
        "    verificar_num_negativo(matricula) #def 13.3\n",
        "    linha.append(matricula)\n",
        "    for i in range(1, 5): #são 10\n",
        "        resposta = input(f\"Resposta da {i}ª questão: \")\n",
        "        linha.append(resposta)\n",
        "        if resposta == gabarito[i]:\n",
        "            contrespostasCertas += 1\n",
        "    linha.append(contrespostasCertas)\n",
        "    matrizAlunos.append(linha)\n",
        "\n",
        "\n",
        "print(\"GABARITO: \", gabarito)\n",
        "printar_matriz(matrizAlunos) #def 16\n"
      ],
      "metadata": {
        "colab": {
          "base_uri": "https://localhost:8080/"
        },
        "id": "xBJyyrW0fLIU",
        "outputId": "389ec5d3-38e6-4990-84ee-668fbdde918b"
      },
      "id": "xBJyyrW0fLIU",
      "execution_count": null,
      "outputs": [
        {
          "output_type": "stream",
          "name": "stdout",
          "text": [
            "Informe o número da matricula do 1º aluno: 1\n",
            "Resposta da 1ª questão: a\n",
            "Resposta da 2ª questão: a\n",
            "Resposta da 3ª questão: a\n",
            "Resposta da 4ª questão: a\n",
            "Informe o número da matricula do 2º aluno: 2\n",
            "Resposta da 1ª questão: b\n",
            "Resposta da 2ª questão: b\n",
            "Resposta da 3ª questão: b\n",
            "Resposta da 4ª questão: b\n",
            "GABARITO:  ['a', 'b', 'a', 'b', 'a', 'b', 'a', 'b', 'a', 'b']\n",
            "[1.0, 'a', 'a', 'a', 'a', 2]\n",
            "[2.0, 'b', 'b', 'b', 'b', 2]\n"
          ]
        }
      ]
    },
    {
      "cell_type": "markdown",
      "source": [
        "29. Uma loja vende sapatos femininos de três marcas: A, B e C e tamanhos de 35 a 40. O gerente da loja lhe solicitou um programa para manipular dados referentes ao estoque desta loja. Desta forma, você deve ler para cada marca de sapato e numeração a sua respectiva quantidade e informar a numeração que possui a maior quantidade em estoque. A seguir é apresentado um exemplo de tabela com\n",
        "os dados do estoque.\n",
        "\n",
        "Tamanhos\n",
        "\n",
        "Numeração com maior\n",
        "quantidade em estoque: 36 (270\n",
        "\n",
        "unidades)\n",
        "OBS: a solução deve utilizar\n",
        "matrizes.\n",
        "\n",
        "3\n",
        "5\n",
        "36 3\n",
        "7\n",
        "38 3\n",
        "9\n",
        "4\n",
        "0\n",
        "\n",
        "Marca\n",
        "A\n",
        "3\n",
        "0\n",
        "50 2\n",
        "0\n",
        "20 1\n",
        "8\n",
        "1\n",
        "0\n",
        "\n",
        "Marca\n",
        "B\n",
        "4\n",
        "0\n",
        "10\n",
        "0\n",
        "3\n",
        "0\n",
        "10 1\n",
        "8\n",
        "3\n",
        "\n",
        "Marca\n",
        "C\n",
        "5\n",
        "0\n",
        "12\n",
        "0\n",
        "6\n",
        "5\n",
        "11 4 6"
      ],
      "metadata": {
        "id": "N0_-FVP1WA7h"
      },
      "id": "N0_-FVP1WA7h"
    },
    {
      "cell_type": "code",
      "source": [
        "'''\n",
        "estoque = criar_matriz_vazia(3, 6) #def 15\n",
        "# Inserir a quantidade de sapatos em estoque para cada marca e tamanho\n",
        "for i in range(3):\n",
        "    if i == 0:\n",
        "      print(f\"Insira a quantidade de sapatos da marca A:\")\n",
        "    elif i == 1:\n",
        "        print(f\"Insira a quantidade de sapatos da marca B:\")\n",
        "    elif i == 2:\n",
        "        print(f\"Insira a quantidade de sapatos da marca C:\")\n",
        "    for j in range(6):\n",
        "        tamanho = 35+j\n",
        "        quantidade = float(input(f\"Tamanho {tamanho}:\\n\"))\n",
        "        verificar_inteirosEpositivos(quantidade) #def 30\n",
        "        estoque[i][j] = quantidade\n",
        "printar_matriz(estoque) #def 16\n",
        "'''\n",
        "estoque = [[30, 50, 20, 20, 18, 10], [40, 100, 30, 10, 18, 3], [50, 120, 65, 11, 4, 6]]\n",
        "printar_matriz(estoque) #def 16\n",
        "divisoria() #def 1\n",
        "# Encontrar o tamanho com a maior quantidade de sapatos em estoque\n",
        "maior_quantidade = 0\n",
        "tamanho_max = 35\n",
        "for j in range(6):\n",
        "    quantidade_x = sum([estoque[i][j] for i in range(3)])\n",
        "    if quantidade_x > maior_quantidade:\n",
        "        maior_quantidade = quantidade_x\n",
        "        tamanho_max = 35+j\n",
        "\n",
        "# Imprimir o tamanho com a maior quantidade de sapatos em estoque\n",
        "print(f\"O tamanho com maior quantidade de sapatos em estoque é: {tamanho_max}, com {maior_quantidade} unidades.\")\n"
      ],
      "metadata": {
        "id": "GpmrPj4br9_V",
        "colab": {
          "base_uri": "https://localhost:8080/"
        },
        "outputId": "60939006-b8c0-4ce7-ca57-bf1b82005ffc"
      },
      "id": "GpmrPj4br9_V",
      "execution_count": null,
      "outputs": [
        {
          "output_type": "stream",
          "name": "stdout",
          "text": [
            "[30, 50, 20, 20, 18, 10]\n",
            "[40, 100, 30, 10, 18, 3]\n",
            "[50, 120, 65, 11, 4, 6]\n",
            "-=-=-=-=-=-=-=-=-=-=-=-=-=-=-=-=-=-=-=-=-=-=-=-=-=-=-=-=-=-=\n",
            "                              \n",
            "O tamanho com maior quantidade de sapatos em estoque é: 36, com 270 unidades.\n"
          ]
        }
      ]
    },
    {
      "cell_type": "markdown",
      "source": [
        "30. Um produtor agrícola lhe contratou para desenvolver um sistema de controle de grãos\n",
        "produzidos em três regiões; Sul, Sudeste e Centro-Oeste. A ideia da solução consistem\n",
        "em inserir a quantidade de grãos produzidos por cada região nos anos de 2017 e 2018\n",
        "e ao final o programa deve gerar uma nova matriz com previsão de produção para o\n",
        "ano de 2019. A previsão é calculada a partir da porcentagem de crescimento para cada\n",
        "tipo de grão, que se mantém fixa a cada ano. A seguir é apresentado um exemplo de\n",
        "tabelas com os dados fornecidos pelo produtor.\n"
      ],
      "metadata": {
        "id": "iN07yE_MWAw8"
      },
      "id": "iN07yE_MWAw8"
    },
    {
      "cell_type": "code",
      "source": [
        "ano_2017 = [[100,200,300,400],[2700,450,600,1200],[600,400,550,450]]\n",
        "\n",
        "ano_2018 = [[130,230,600,500],[3000,500,700,1200],[500,200,200,100]]\n",
        "\n",
        "ano_2019 = criar_matriz_vazia(3, 4) #def 15\n",
        "\n",
        "'''\n",
        "divisoria()\n",
        "print('ANO DE 2017')\n",
        "ano_2017 = preencher_graos(3, 4)\n",
        "divisoria()\n",
        "print('ANO DE 2018')\n",
        "ano_2018 = preencher_graos(3, 4)\n",
        "'''\n",
        "ano_2019 = criar_matriz_vazia(3,4)\n",
        "\n",
        "for i in range(len(ano_2017)):\n",
        "    for j in range(len(ano_2017[0])):\n",
        "        porcentagem = (ano_2018[i][j] - ano_2017[i][j])/ano_2017[i][j]\n",
        "        ano_2019[i][j] = float(f\"{(1 + porcentagem) * ano_2018[i][j]:.2f}\")\n",
        "\n",
        "print('       ANO DE 2017')\n",
        "printar_matriz_formatada(ano_2017) #16\n",
        "divisoria_simples()\n",
        "print('       ANO DE 2018')\n",
        "printar_matriz_formatada(ano_2018)\n",
        "divisoria()\n",
        "print('      PREVISÃO PARA O ANO DE 2019')\n",
        "printar_matriz_formatada_2019(ano_2019)\n"
      ],
      "metadata": {
        "id": "iKfgWbKXtQpN",
        "colab": {
          "base_uri": "https://localhost:8080/"
        },
        "outputId": "e03961d1-3b4f-4004-f902-1457265ae83f"
      },
      "id": "iKfgWbKXtQpN",
      "execution_count": null,
      "outputs": [
        {
          "output_type": "stream",
          "name": "stdout",
          "text": [
            "       ANO DE 2017\n",
            "  100   200   300   400 \n",
            " 2700   450   600  1200 \n",
            "  600   400   550   450 \n",
            "------------------------------------------------------------\n",
            "       ANO DE 2018\n",
            "  130   230   600   500 \n",
            " 3000   500   700  1200 \n",
            "  500   200   200   100 \n",
            "-=-=-=-=-=-=-=-=-=-=-=-=-=-=-=-=-=-=-=-=-=-=-=-=-=-=-=-=-=-=\n",
            "                              \n",
            "      PREVISÃO PARA O ANO DE 2019\n",
            "   169.0    264.5   1200.0    625.0 \n",
            " 3333.33   555.56   816.67   1200.0 \n",
            "  416.67    100.0    72.73    22.22 \n"
          ]
        }
      ]
    }
  ],
  "metadata": {
    "kernelspec": {
      "display_name": "Python 3 (ipykernel)",
      "language": "python",
      "name": "python3"
    },
    "language_info": {
      "codemirror_mode": {
        "name": "ipython",
        "version": 3
      },
      "file_extension": ".py",
      "mimetype": "text/x-python",
      "name": "python",
      "nbconvert_exporter": "python",
      "pygments_lexer": "ipython3",
      "version": "3.10.9"
    },
    "colab": {
      "provenance": []
    }
  },
  "nbformat": 4,
  "nbformat_minor": 5
}