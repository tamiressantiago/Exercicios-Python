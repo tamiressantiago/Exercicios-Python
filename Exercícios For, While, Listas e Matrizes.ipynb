{
 "cells": [
  {
   "cell_type": "markdown",
   "id": "37a02d92",
   "metadata": {
    "id": "37a02d92"
   },
   "source": [
    "# --------------- LISTA III - FOR E WHILE ---------------"
   ]
  },
  {
   "cell_type": "markdown",
   "id": "019414c7",
   "metadata": {
    "id": "019414c7"
   },
   "source": [
    "1. Escreva um programa que calcula a média de 30 alunos e informa a situação (reprovado, aprovado ou recuperação)."
   ]
  },
  {
   "cell_type": "code",
   "execution_count": null,
   "id": "cf6d17fa",
   "metadata": {
    "colab": {
     "base_uri": "https://localhost:8080/"
    },
    "id": "cf6d17fa",
    "outputId": "4be88efa-f395-4b91-8d51-cdf2355b8a97"
   },
   "outputs": [
    {
     "name": "stdout",
     "output_type": "stream",
     "text": [
      "Primeira nota: 10\n",
      "Segunda nota: 9\n",
      "APROVADO\n",
      "Primeira nota: 5\n",
      "Segunda nota: 4\n",
      "RECUPERAÇÃO\n",
      "Primeira nota: 1\n",
      "Segunda nota: 2\n",
      "REPROVADO\n"
     ]
    }
   ],
   "source": [
    "for i in range(3):\n",
    "    nota1= float(input('Primeira nota: '))\n",
    "    while nota1 < 0:\n",
    "        print('Erro: a nota deve ser positiva.')\n",
    "        nota1 = float(input('Primeira nota: '))\n",
    "\n",
    "    nota2= float(input('Segunda nota: '))\n",
    "    while nota2 < 0:\n",
    "        print('Erro: a nota deve ser positiva.')\n",
    "        nota2 = float(input('Segunda nota: '))\n",
    "\n",
    "    media= (nota1 + nota2) / 2\n",
    "    if media < 4:\n",
    "        print('REPROVADO')\n",
    "    elif media >= 4 and media < 7:\n",
    "        print('RECUPERAÇÃO')\n",
    "    else:\n",
    "        print('APROVADO')\n"
   ]
  },
  {
   "cell_type": "markdown",
   "id": "051f10a4",
   "metadata": {
    "id": "051f10a4"
   },
   "source": [
    "2. Escreva um programa que leia 10 números e informe o maior e o menor número."
   ]
  },
  {
   "cell_type": "code",
   "execution_count": null,
   "id": "6b8b3d55",
   "metadata": {
    "colab": {
     "base_uri": "https://localhost:8080/"
    },
    "id": "6b8b3d55",
    "outputId": "dd2c0c42-d143-456f-cb9f-0a90644d165c"
   },
   "outputs": [
    {
     "name": "stdout",
     "output_type": "stream",
     "text": [
      "Digite números para comparação:\n",
      "10\n",
      "7\n",
      "2\n",
      "6\n",
      "4\n",
      "0\n",
      "7\n",
      "3\n",
      "-5\n",
      "-1\n",
      "O menor número é -5.0 e o maior número é 10.0\n"
     ]
    }
   ],
   "source": [
    "print('Digite números para comparação:')\n",
    "numero = float(input())\n",
    "maiornumero = numero\n",
    "menornumero = numero\n",
    "\n",
    "for i in range(9):\n",
    "    numero = float(input())\n",
    "    \n",
    "    if numero < menornumero:\n",
    "        menornumero = numero\n",
    "    elif numero > maiornumero:\n",
    "        maiornumero = numero\n",
    "\n",
    "print('O menor número é {} e o maior número é {}'.format(menornumero, maiornumero))\n"
   ]
  },
  {
   "cell_type": "markdown",
   "id": "54609b14",
   "metadata": {
    "id": "54609b14"
   },
   "source": [
    "3. Escreva um programa que calcula o fatorial de um dado número N."
   ]
  },
  {
   "cell_type": "code",
   "execution_count": null,
   "id": "1e713217",
   "metadata": {
    "colab": {
     "base_uri": "https://localhost:8080/"
    },
    "id": "1e713217",
    "outputId": "8bfb6d9c-b0e5-4b3e-8d02-92833742ea9e"
   },
   "outputs": [
    {
     "name": "stdout",
     "output_type": "stream",
     "text": [
      "Digite um número para o calculo fatorial: 5\n",
      "\n",
      "O resultado do calculo fatorial do número 5.0 é 120\n"
     ]
    }
   ],
   "source": [
    "N = float(input('Digite um número para o calculo fatorial: ')) \n",
    "fatorial = 1\n",
    "\n",
    "while N < 0 or N != int(N): \n",
    "    print('Erro: o número deve ser inteiro e positivo.')\n",
    "    N = float(input('Digite um número para o calculo fatorial: '))\n",
    "\n",
    "for i in range(1, int(N) +1):\n",
    "    fatorial *= i\n",
    "    \n",
    "print(f\"\\nO resultado do calculo fatorial do número {N} é {fatorial}\")\n"
   ]
  },
  {
   "cell_type": "markdown",
   "id": "701dd6cb",
   "metadata": {
    "id": "701dd6cb"
   },
   "source": [
    "4. Faça um programa para somar os números pares positivos < 1000 e ao final escrever o resultado."
   ]
  },
  {
   "cell_type": "code",
   "execution_count": null,
   "id": "d98d95dd",
   "metadata": {
    "colab": {
     "base_uri": "https://localhost:8080/"
    },
    "id": "d98d95dd",
    "outputId": "cdb7e5c9-0beb-4e4c-c929-16ed811d8fef"
   },
   "outputs": [
    {
     "name": "stdout",
     "output_type": "stream",
     "text": [
      "A soma dos números pares positivos < 1000 é de 249500\n"
     ]
    }
   ],
   "source": [
    "contador = 0\n",
    "\n",
    "for i in range(1000):\n",
    "    if i % 2 == 0:\n",
    "        contador += i\n",
    "                \n",
    "print('A soma dos números pares positivos < 1000 é de', contador)\n"
   ]
  },
  {
   "cell_type": "markdown",
   "id": "f31a85a9",
   "metadata": {
    "id": "f31a85a9"
   },
   "source": [
    "5. Faça um programa para calcular a área de N quadriláteros. Fórmula: Área = Lado * Lado."
   ]
  },
  {
   "cell_type": "code",
   "execution_count": null,
   "id": "08841f45",
   "metadata": {
    "colab": {
     "base_uri": "https://localhost:8080/"
    },
    "id": "08841f45",
    "outputId": "d1cf30f2-d9c5-4184-cc54-c32de8eef95f"
   },
   "outputs": [
    {
     "name": "stdout",
     "output_type": "stream",
     "text": [
      "Quantos quadriláteros você deseja calcular?: 2\n",
      "Informe o lado do quadrilátero número 1: 4\n",
      "A área do quadrilátero 1 é 16.0 \n",
      "\n",
      "Informe o lado do quadrilátero número 2: 3\n",
      "A área do quadrilátero 2 é 9.0 \n",
      "\n"
     ]
    }
   ],
   "source": [
    "n_quadrilateros = float(input('Quantos quadriláteros você deseja calcular?: '))\n",
    "area=0\n",
    "\n",
    "while n_quadrilateros // 1 != n_quadrilateros:\n",
    "    print('Erro: Reinicie o programa e informe um valor INTEIRO.')\n",
    "    n_quadrilateros = float(input('Quantos quadriláteros você deseja calcular?: '))  \n",
    "while n_quadrilateros < 0:\n",
    "        print('Erro: Reinicie o programa e informe um valor POSITIVO.')\n",
    "        n_quadrilateros = float(input('Quantos quadriláteros você deseja calcular?: '))  \n",
    "\n",
    "for i in range (1, int(n_quadrilateros)+1):\n",
    "    lado = float(input('Informe o lado do quadrilátero número {}: '.format(i)))\n",
    "    area = lado * lado\n",
    "    while lado < 0:\n",
    "        print('Erro: Digite um valor positivo.')\n",
    "        lado = float(input('Informe o lado do quadrilátero número {}: '.format(i)))\n",
    "        area = lado * lado\n",
    "    print('A área do quadrilátero {} é {}'.format(i, area), '\\n')\n"
   ]
  },
  {
   "cell_type": "markdown",
   "id": "a8f9d6fa",
   "metadata": {
    "id": "a8f9d6fa"
   },
   "source": [
    "6. Faça um programa para calcular um valor A elevado a um expoente B. Os valores A e B deverão ser lidos. Não usar A** B e sim uma estrutura de repetição."
   ]
  },
  {
   "cell_type": "code",
   "execution_count": null,
   "id": "45eaf7a8",
   "metadata": {
    "colab": {
     "base_uri": "https://localhost:8080/"
    },
    "id": "45eaf7a8",
    "outputId": "f86da2c2-1a78-42f8-d886-04da72e0be98"
   },
   "outputs": [
    {
     "name": "stdout",
     "output_type": "stream",
     "text": [
      "Informe o valor do expoente: 3\n",
      "Informe o valor da base: 5\n",
      "125.0\n"
     ]
    }
   ],
   "source": [
    "expoente = float(input('Informe o valor do expoente: '))\n",
    "if expoente < 0 or expoente // 1 != expoente:\n",
    "    print('Erro: Valor inválido.')\n",
    "else:\n",
    "    base = float(input('Informe o valor da base: '))\n",
    "    resultado = 1\n",
    "    for i in range (int(expoente)):        \n",
    "        resultado *= base\n",
    "    print(resultado)\n"
   ]
  },
  {
   "cell_type": "markdown",
   "id": "a00df8bb",
   "metadata": {
    "id": "a00df8bb"
   },
   "source": [
    "7. Sendo H = 1 + 1/2 + 1/3 + 1/4 + ... + 1/N. Faça um programa para gerar e mostrar o número H. O número N será fornecido como entrada."
   ]
  },
  {
   "cell_type": "code",
   "execution_count": null,
   "id": "8e93ea0b",
   "metadata": {
    "colab": {
     "base_uri": "https://localhost:8080/"
    },
    "id": "8e93ea0b",
    "outputId": "e05aae35-3f0f-49d0-f5e9-9579c3e67337"
   },
   "outputs": [
    {
     "name": "stdout",
     "output_type": "stream",
     "text": [
      "Informe o valor de N: 3\n",
      "O valor de H é 1.83\n"
     ]
    }
   ],
   "source": [
    "N = float(input('Informe o valor de N: '))\n",
    "if N // 1 != N or N < 0:\n",
    "    print('Entrada inválida: Digite um número INTEIRO e POSITIVO.')\n",
    "else:\n",
    "    H = 0\n",
    "    for i in range (1, int(N)+1):\n",
    "        H += 1/i\n",
    "    print(f\"O valor de H é {H:.2f}\")\n"
   ]
  },
  {
   "cell_type": "markdown",
   "id": "fc7655e0",
   "metadata": {
    "id": "fc7655e0"
   },
   "source": [
    "8. Faça um programa para:\n",
    "\n",
    "a) Ler um valor x qualquer\n",
    "\n",
    "b) Calcular Y = (x+1)+(x+2)+(x+3)+(x+4)+(x+5)+…(x+100)."
   ]
  },
  {
   "cell_type": "code",
   "execution_count": null,
   "id": "732212ba",
   "metadata": {
    "colab": {
     "base_uri": "https://localhost:8080/"
    },
    "id": "732212ba",
    "outputId": "b7adb995-c712-4080-d93e-69bab94b6eeb"
   },
   "outputs": [
    {
     "name": "stdout",
     "output_type": "stream",
     "text": [
      "Insira o valor de X: 3\n",
      "5350.0\n"
     ]
    }
   ],
   "source": [
    "x = float(input('Insira o valor de X: '))\n",
    "y = 0\n",
    "for i in range (1, 101):\n",
    "    y += (x + i)\n",
    "\n",
    "print(y)\n"
   ]
  },
  {
   "cell_type": "markdown",
   "id": "a2524196",
   "metadata": {
    "id": "a2524196"
   },
   "source": [
    "9. Fazer um programa que calcule e escreva a soma dos 50 primeiros termos da seguinte série:\n",
    "1000/1 + 997/2 + 994/3 + 991/4 + ...\n",
    "\n"
   ]
  },
  {
   "cell_type": "code",
   "execution_count": null,
   "id": "9e806bf7",
   "metadata": {
    "id": "9e806bf7",
    "outputId": "0aeb4684-f67a-4e0b-ecc0-5ce6db07bead"
   },
   "outputs": [
    {
     "name": "stdout",
     "output_type": "stream",
     "text": [
      "A soma dos 50 primeiros termos da série é: 4362.702954344412\n"
     ]
    }
   ],
   "source": [
    "#em cima pula de 3 em 3 e em baixo pula de 1 em 1\n",
    "numerador = 1000\n",
    "denominador = 1\n",
    "soma = 0\n",
    "\n",
    "for i in range(50):\n",
    "    soma += numerador / denominador\n",
    "    denominador += 1\n",
    "    numerador -= 3\n",
    "\n",
    "print(\"A soma dos 50 primeiros termos da série é:\", soma)"
   ]
  },
  {
   "cell_type": "markdown",
   "id": "eca6cece",
   "metadata": {
    "id": "eca6cece"
   },
   "source": [
    "10. Faça um programa que recebe o número real x como entrada e devolva uma aproximação do arco tangente de x (em radianos) através da série: ------ (prof fez em sala)\n"
   ]
  },
  {
   "cell_type": "code",
   "execution_count": null,
   "id": "0e7c89ed",
   "metadata": {
    "id": "0e7c89ed",
    "outputId": "d1a6df29-5ed7-4e9d-892b-96754bfef31a"
   },
   "outputs": [
    {
     "name": "stdout",
     "output_type": "stream",
     "text": [
      "Valor x:2\n",
      "-5.10087530205269e+27\n"
     ]
    }
   ],
   "source": [
    "#Professora fez em sala\n",
    "expoente = 1\n",
    "sinal = 1\n",
    "arctan = 0\n",
    "\n",
    "x = float(input(\"Valor x:\"))\n",
    "\n",
    "for i in range(50):\n",
    "    arctan += sinal * ((x**expoente)/expoente) \n",
    "    expoente += 2\n",
    "    sinal *= -1\n",
    "    \n",
    "print(arctan)"
   ]
  },
  {
   "cell_type": "markdown",
   "id": "2b91e243",
   "metadata": {
    "id": "2b91e243"
   },
   "source": [
    "11. Faça um programa que mostre os n termos da Série a seguir:\n",
    "\n",
    "S = 1/1 + 2/3 + 3/5 + 4/7 + 5/9 + ... + n/m."
   ]
  },
  {
   "cell_type": "code",
   "execution_count": null,
   "id": "4233aa57",
   "metadata": {
    "colab": {
     "base_uri": "https://localhost:8080/"
    },
    "id": "4233aa57",
    "outputId": "1eb785ef-0ff8-4db7-f31b-692eab7ac30f"
   },
   "outputs": [
    {
     "name": "stdout",
     "output_type": "stream",
     "text": [
      "Informe o número de termos da equação: 3\n",
      "\n",
      "O valor de S é 2.27\n"
     ]
    }
   ],
   "source": [
    "ntermos = float(input('Informe o número de termos da equação: '))\n",
    "while ntermos < 0 or ntermos != int(ntermos):\n",
    "    print('Valor inválido, digite novamente.')\n",
    "    ntermos = float(input('Informe o número de termos da equação: '))\n",
    "s = 0\n",
    "denominador = 1\n",
    "for i in range(1, int(ntermos)+1):\n",
    "    s += i / denominador\n",
    "    denominador += 2\n",
    "print('\\nO valor de S é {:.2f}'.format(s))    "
   ]
  },
  {
   "cell_type": "markdown",
   "id": "89af5acb",
   "metadata": {
    "id": "89af5acb"
   },
   "source": [
    "12. Cada espectador de um cinema respondeu a um questionário no qual constava sua idade e a sua opinião em relação ao filme: \n",
    "\n",
    "ótimo - 3, bom - 2, regular - 1.\n",
    "\n",
    "Faça um programa que receba a idade e a opinião de 15 espectadores, calcule e imprima:\n",
    "\n",
    "a) A média das idades das pessoas que responderam ótimo;\n",
    "\n",
    "b) A quantidade de pessoas que responderam regular;\n",
    "\n",
    "c) A porcentagem de pessoas que responderam bom entre todos os\n",
    "espectadores analisados."
   ]
  },
  {
   "cell_type": "code",
   "execution_count": null,
   "id": "9a18a738",
   "metadata": {
    "colab": {
     "base_uri": "https://localhost:8080/"
    },
    "id": "9a18a738",
    "outputId": "9b60ea1d-3cc8-4915-db5e-13dc451687af"
   },
   "outputs": [
    {
     "name": "stdout",
     "output_type": "stream",
     "text": [
      "Informe sua idade: 10\n",
      "Qual a sua opinião em relação ao filme? \n",
      "Digite 1 para REGULAR, 2 para BOM e 3 para ÓTIMO: 2\n",
      "Informe sua idade: 15\n",
      "Qual a sua opinião em relação ao filme? \n",
      "Digite 1 para REGULAR, 2 para BOM e 3 para ÓTIMO: 3\n",
      "Informe sua idade: 0\n",
      "Qual a sua opinião em relação ao filme? \n",
      "Digite 1 para REGULAR, 2 para BOM e 3 para ÓTIMO: 0\n",
      "Entrada inválida, por gentileza, tenha mais atenção e informe a sua nota corretamente. \n",
      " Qual a sua opinião em relação ao filme? \n",
      "Digite 1 para REGULAR, 2 para BOM e 3 para ÓTIMO: 1\n",
      "\n",
      "A média de idade das pessoas que responderam BOM foi de 8.33. \n",
      "A quantidade de pessoas que responderam REGULAR foi de 1.\n",
      "A porcentagem do nº de pessoas que responderam BOM, entre todos os espectadores, foi de 33.3%.\n"
     ]
    }
   ],
   "source": [
    "idade = espectadores = somaidade = quantiaBom = quantiaRegular = 0\n",
    "\n",
    "for i in range (3): #coloquei só 3 no lugar de 15\n",
    "    idade = float(input('Informe sua idade: '))\n",
    "    #Tratamento\n",
    "    while (idade != int(idade)) or (idade < 0):\n",
    "        idade = int(input('Digite novamente a idade, o valor deve ser inteiro e não pode ser negativo: '))\n",
    "    #Fimtratamento\n",
    "    somaidade += idade\n",
    "    espectadores += 1     \n",
    "    opiniao = float(input('Qual a sua opinião em relação ao filme? \\nDigite 1 para REGULAR, 2 para BOM e 3 para ÓTIMO: '))\n",
    "   #Tratamento\n",
    "    while (opiniao != int(opiniao)) or (opiniao < 1) or (opiniao > 3):\n",
    "        opiniao = float(input('Entrada inválida, por gentileza, tenha mais atenção e informe a sua nota corretamente. \\n Qual a sua opinião em relação ao filme? \\nDigite 1 para REGULAR, 2 para BOM e 3 para ÓTIMO: '))\n",
    "    #FimTratamento\n",
    "    if opiniao == 1:\n",
    "        quantiaRegular += 1\n",
    "    elif opiniao == 2:\n",
    "        quantiaBom += 1\n",
    "    \n",
    "mediaIdade = somaidade / espectadores\n",
    "porcentagemBom = (quantiaBom / espectadores) * 100\n",
    "\n",
    "print(f\"\\nA média de idade das pessoas que responderam BOM foi de {mediaIdade:.2f}. \\nA quantidade de pessoas que responderam REGULAR foi de {quantiaRegular}.\\nA porcentagem do nº de pessoas que responderam BOM, entre todos os espectadores, foi de {porcentagemBom:.1f}%.\")\n",
    "    "
   ]
  },
  {
   "cell_type": "markdown",
   "id": "e7d51cfa",
   "metadata": {
    "id": "e7d51cfa"
   },
   "source": [
    "13. Faça um programa que receba dois números inteiros e gere os números inteiros que estão no intervalo compreendido por eles."
   ]
  },
  {
   "cell_type": "code",
   "execution_count": null,
   "id": "110e064d",
   "metadata": {
    "colab": {
     "base_uri": "https://localhost:8080/"
    },
    "id": "110e064d",
    "outputId": "8e6dd4ba-72ec-4375-ef74-83b4e09890c9"
   },
   "outputs": [
    {
     "name": "stdout",
     "output_type": "stream",
     "text": [
      "Digite o primeiro número inteiro: 2\n",
      "Digite o segundo número: 7\n",
      "Os números que estão entre 2.0 e 7.0 são:\n",
      "3\n",
      "4\n",
      "5\n",
      "6\n"
     ]
    }
   ],
   "source": [
    "n1 = float(input('Digite o primeiro número inteiro: '))\n",
    "while (n1 // 1 != n1):\n",
    "    n1 = float(input('Entrada invalida, digite um número inteiro.'))\n",
    "\n",
    "n2 = float(input('Digite o segundo número: '))\n",
    "while (n2 // 1 != n2):\n",
    "    n2 = float(input('Entrada invalida, digite um número inteiro.'))\n",
    "\n",
    "print('Os números que estão entre {} e {} são:'.format(n1,n2))\n",
    "#range não lê float\n",
    "for i in range (int(n1)+1, int(n2)):\n",
    "    print(i)"
   ]
  },
  {
   "cell_type": "markdown",
   "id": "494256ee",
   "metadata": {
    "id": "494256ee"
   },
   "source": [
    "14. Desenvolva um gerador de tabuada, capaz de gerar a tabuada de qualquer\n",
    "número inteiro entre 1 a 10. O usuário deve informar de qual numero ele deseja\n",
    "ver a tabuada. A saída deve ser conforme o exemplo abaixo:\n",
    "\n",
    "Tabuada de 5:\n",
    "\n",
    "5 X 1 = 5\n",
    "\n",
    "5 X 2 = 10\n",
    "\n",
    "...\n",
    "\n",
    "5 X 10 = 50"
   ]
  },
  {
   "cell_type": "code",
   "execution_count": null,
   "id": "8aa9b842",
   "metadata": {
    "colab": {
     "base_uri": "https://localhost:8080/"
    },
    "id": "8aa9b842",
    "outputId": "b9c5bcc4-3688-4cdb-f716-90787f0b9deb"
   },
   "outputs": [
    {
     "name": "stdout",
     "output_type": "stream",
     "text": [
      "Informe o número: 5\n",
      "5 X 1 = 5\n",
      "5 X 2 = 10\n",
      "5 X 3 = 15\n",
      "5 X 4 = 20\n",
      "5 X 5 = 25\n",
      "5 X 6 = 30\n",
      "5 X 7 = 35\n",
      "5 X 8 = 40\n",
      "5 X 9 = 45\n",
      "5 X 10 = 50\n"
     ]
    }
   ],
   "source": [
    "numero = int (input(\"Informe o número: \"))\n",
    "if numero < 0:\n",
    "    print(\"Inválido\")\n",
    "else:\n",
    "    for i in range(1,11):\n",
    "        print(numero,\"X\",i,\"=\",numero*i) \n"
   ]
  },
  {
   "cell_type": "markdown",
   "id": "31a6e48c",
   "metadata": {
    "id": "31a6e48c"
   },
   "source": [
    "15. Faça um programa que peça um número inteiro e determine se ele é ou não um número primo. Um número primo é aquele que é divisível somente por ele mesmo e por 1."
   ]
  },
  {
   "cell_type": "code",
   "execution_count": null,
   "id": "746e27b0",
   "metadata": {
    "colab": {
     "base_uri": "https://localhost:8080/"
    },
    "id": "746e27b0",
    "outputId": "8c0c628f-2d00-49cd-9ab4-0bfc19e1578b"
   },
   "outputs": [
    {
     "name": "stdout",
     "output_type": "stream",
     "text": [
      "Digite um número inteiro: 7\n",
      "Este número é primo.\n"
     ]
    }
   ],
   "source": [
    "num = float(input('Digite um número inteiro: '))\n",
    "while (num // 1!= num):\n",
    "    num = float(input('Por favor, digite um número inteiro: '))\n",
    "\n",
    "divisao = 0\n",
    "if num == 0 or num == 1:\n",
    "    print('Este número não é primo.')\n",
    "else:\n",
    "    #Transformando num em inteiro para passar no range utilizando a função int\n",
    "    for i in range(2, int(num)):\n",
    "        if num % i == 0:\n",
    "            divisao += 1\n",
    "    if divisao == 0:\n",
    "        print('Este número é primo.')\n",
    "    else:\n",
    "        print('Este número não é primo.')\n",
    "        "
   ]
  },
  {
   "cell_type": "markdown",
   "id": "987bc0b9",
   "metadata": {
    "id": "987bc0b9"
   },
   "source": [
    "16. Faça um programa que peça para n pessoas a sua idade, ao final o programa deverá verificar se a média de idade da turma varia entre 0 e 25, 26 e 60 e maior que 60; e então, dizer se a turma é jovem, adulta ou idosa, conforme a média calculada."
   ]
  },
  {
   "cell_type": "code",
   "execution_count": null,
   "id": "98887730",
   "metadata": {
    "colab": {
     "base_uri": "https://localhost:8080/"
    },
    "id": "98887730",
    "outputId": "60a50ba7-b8ab-45eb-e56c-1da3a2d7c6ff"
   },
   "outputs": [
    {
     "name": "stdout",
     "output_type": "stream",
     "text": [
      "Informe o número de pessoas: 0\n",
      "Informe um número inteiro e positivo: 1\n",
      "Informe a idade: 5\n",
      "\n",
      "A turma é jovem!\n"
     ]
    }
   ],
   "source": [
    "Npessoas = float(input('Informe o número de pessoas: '))\n",
    "soma_idade = 0\n",
    "\n",
    "while Npessoas != int(Npessoas) or Npessoas <= 0 :\n",
    "    Npessoas = float(input('Informe um número inteiro e positivo: '))\n",
    "\n",
    "for i in range(int(Npessoas)):\n",
    "    idade = float(input('Informe a idade: '))\n",
    "    while (idade != int(idade)) or idade < 0 :\n",
    "            idade = float(input('Informe um número inteiro e positivo: '))\n",
    "    soma_idade += idade\n",
    "media = soma_idade / Npessoas\n",
    "\n",
    "if media >= 0 and media <= 25:\n",
    "    print('\\nA turma é jovem!')\n",
    "elif media >= 26 and media < 60:\n",
    "    print('\\nA turma é adulta!')\n",
    "else:\n",
    "    print('\\nA turma é idosa!')\n",
    "    "
   ]
  },
  {
   "cell_type": "markdown",
   "id": "d3d7ad34",
   "metadata": {
    "id": "d3d7ad34"
   },
   "source": [
    "17. A série de FETUCCINE é gerada da seguinte forma: os dois primeiros termos são fornecidos pelo usuário; a partir daí, os termos são gerados com a soma ou subtração dos dois termos anteriores, ou seja:\n",
    "\n",
    "A(i) = A(i - 1) + A(i - 2)   para i par\n",
    "\n",
    "A(i) = A(i - 1) - A(i - 2)   para i impar\n",
    "\n",
    "Faça um programa em Python para mostrar os N primeiros termos da série de FETUCCINE, sabendo-se que para existir esta série serão necessários pelo menos três termos.\n",
    "\n"
   ]
  },
  {
   "cell_type": "code",
   "execution_count": null,
   "id": "5a8f21ec",
   "metadata": {
    "colab": {
     "base_uri": "https://localhost:8080/"
    },
    "id": "5a8f21ec",
    "outputId": "5199a692-11b5-4d1b-c2c3-3661006e4a7c"
   },
   "outputs": [
    {
     "name": "stdout",
     "output_type": "stream",
     "text": [
      "Digite o primeiro número: 7\n",
      "Digite o segundo número: 2\n",
      "Digite a quantidade de termos (min. 3): 5\n",
      "-5.0\n",
      "-3.0\n",
      "2.0\n"
     ]
    }
   ],
   "source": [
    "termo1 = float(input('Digite o primeiro número: '))\n",
    "termo2 = float(input('Digite o segundo número: '))\n",
    "nTermos = float(input('Digite a quantidade de termos (min. 3): '))\n",
    "\n",
    "if (nTermos < 3):\n",
    "    print('São necessários pelo menos três termos.')\n",
    "else:\n",
    "  for i in range (3, int(nTermos)+1):  \n",
    "      if i % 2 == 0: \n",
    "          termoN = termo2 + termo1\n",
    "          print(termoN)\n",
    "      else:\n",
    "          termoN = termo2 - termo1\n",
    "          print(termoN)\n",
    "      termo1 = termo2\n",
    "      termo2 = termoN\n",
    "\n"
   ]
  },
  {
   "cell_type": "markdown",
   "id": "0b5dd37b",
   "metadata": {
    "id": "0b5dd37b"
   },
   "source": [
    "18. Escreva um programa que imprima os N termos de uma Progressão Aritmética,\n",
    "conforme fórmula a seguir. O usuário deverá fornecer o valor de: n (número de\n",
    "termos), r (razão) e a1 (primeiro termo da série).\n",
    "\n",
    "a 1 = a 1\n",
    "\n",
    "a 2 = a 1 + r\n",
    "\n",
    "a 3 = a 2 + r\n",
    "\n",
    "a 4 = a 3 + r\n",
    "\n",
    "a n = a 1 + + (n-1).r"
   ]
  },
  {
   "cell_type": "code",
   "execution_count": null,
   "id": "c42d5f49",
   "metadata": {
    "id": "c42d5f49"
   },
   "outputs": [],
   "source": [
    "a1 = float(input(\"a1: \"))\n",
    "r = float(input(\"r: \"))\n",
    "numTermos = float(input(\"n termos: \"))\n",
    "while (a1 // 1 != a1) or (r // 1 != r) or (numTermos // 1 != numTermos):\n",
    "    print (\"Algum número não é inteiro, informe novamente os números.\")\n",
    "    a1 = float(input(\"a1: \"))\n",
    "    r = float(input(\"r: \"))\n",
    "    numTermos = float(input(\"n termos: \"))\n",
    "\n",
    "an = a1\n",
    "for i in range(int(numTermos)):\n",
    "    print(an)\n",
    "    an = an + r"
   ]
  },
  {
   "cell_type": "markdown",
   "id": "bb75a8a8",
   "metadata": {
    "id": "bb75a8a8"
   },
   "source": [
    "19. O Departamento Estadual de Meteorologia lhe contratou para desenvolver um programa que leia um conjunto indeterminado de temperaturas, e informe ao final a menor e a maior temperatura informada, bem como a média das temperaturas."
   ]
  },
  {
   "cell_type": "code",
   "execution_count": null,
   "id": "594ad501",
   "metadata": {
    "id": "594ad501",
    "outputId": "5aa8b14a-2514-4870-a152-13b27f53f32e"
   },
   "outputs": [
    {
     "name": "stdout",
     "output_type": "stream",
     "text": [
      "Informe a quantia de temperaturas a serem comparadas: 2\n",
      "Digite o valor da temperatura: 15\n",
      "Digite o valor da temperatura: 18\n",
      "MAIOR TEMPERATURA: 18.0 \n",
      "MENOR TEMPERATURA: 15.0 \n",
      "MÉDIA DAS TEMPERATURAS: 16.50\n"
     ]
    }
   ],
   "source": [
    "conjunto = float(input('Informe a quantia de temperaturas a serem comparadas: '))\n",
    "while (conjunto // 1 != conjunto) and conjunto < 0:\n",
    "     conjunto = float(input('Informe um valor inteiro e positivo: '))\n",
    "\n",
    "temperatura = float(input('Digite o valor da temperatura: '))\n",
    "quantidadeT = 1\n",
    "media = temperatura\n",
    "maiorT = temperatura\n",
    "menorT = temperatura\n",
    "\n",
    "for i in range (int(conjunto)-1):\n",
    "        temperatura2 = float(input('Digite o valor da temperatura: '))\n",
    "        quantidadeT += 1\n",
    "        media += temperatura2\n",
    "        if temperatura2 > maiorT:\n",
    "            maiorT = temperatura2\n",
    "        else:\n",
    "            menorT = temperatura2\n",
    "\n",
    "media = media / quantidadeT\n",
    "print('MAIOR TEMPERATURA: {} \\nMENOR TEMPERATURA: {} \\nMÉDIA DAS TEMPERATURAS: {:.2f}'.format(maiorT, menorT, media))"
   ]
  },
  {
   "cell_type": "markdown",
   "id": "49c83496",
   "metadata": {
    "id": "49c83496"
   },
   "source": [
    "20. Faça um programa que receba o valor de uma dívida e mostre uma tabela com os seguintes dados: valor da dívida, valor dos juros, quantidade de parcelas e valor da parcela.\n",
    "\n",
    "Os juros e a quantidade de parcelas seguem a tabela abaixo:\n",
    "\n",
    "Quantidade de Parcelas-----------% de Juros sobre o valor inicial da dívida\n",
    "\n",
    "1............................................................... 0\n",
    "\n",
    "3.............................................................. 10\n",
    "\n",
    "6.............................................................. 15\n",
    "\n",
    "Exemplo de saída do programa:\n",
    "\n",
    "Valor da Dívida ----- Valor dos Juros-----  Quantidade de Parcelas-----  Valor da Parcela\n",
    "\n",
    "RS 1.000,00..................0.................................... 1 ............................R$ 1.000,00\n",
    "\n",
    "RS 1.100,00............... 100.................................. 3 ............................R$ 366,00\n",
    "\n",
    "RS 1.150,00............... 150.................................. 6 ............................R$ 191,67"
   ]
  },
  {
   "cell_type": "code",
   "execution_count": null,
   "id": "c4a7df3f",
   "metadata": {
    "colab": {
     "base_uri": "https://localhost:8080/"
    },
    "id": "c4a7df3f",
    "outputId": "8e894b98-7f83-4a9a-a41e-74fb0b40f4ce"
   },
   "outputs": [
    {
     "name": "stdout",
     "output_type": "stream",
     "text": [
      "Digite o valor da dívida: R$ 250\n",
      "Valor da Dívida ----- Valor dos Juros ----- Quantidade de Parcelas ----- Valor da Parcela\n",
      "250.00                     0.00                        1                    250.00\n",
      "275.00                     25.00                        3                    91.67\n",
      "287.50                     37.50                        6                    47.92\n"
     ]
    }
   ],
   "source": [
    "valorD = float(input('Digite o valor da dívida: R$ '))\n",
    "while valorD < 0:\n",
    "    valorD = float(input('Informe um valor positivo: R$ '))\n",
    "juros = 0\n",
    "valorJuros = 0\n",
    "parcelas = 1\n",
    "dividaJuros = valorD\n",
    "valorParcela = (valorD / parcelas) + juros\n",
    "print('Valor da Dívida ----- Valor dos Juros ----- Quantidade de Parcelas ----- Valor da Parcela')\n",
    "for i in range(1, 4):\n",
    "    print(f\"{dividaJuros:.2f}{' ' * 21}{valorJuros:.2f}{' ' * 24}{parcelas}{' ' * 20}{valorParcela:.2f}\")\n",
    "    parcelas += 1 + i\n",
    "    if parcelas == 3:\n",
    "        juros = 10\n",
    "    elif parcelas == 6:\n",
    "        juros = 15\n",
    "        \n",
    "    valorJuros = valorD * (juros/100)      \n",
    "    dividaJuros = valorD + valorJuros\n",
    "    valorParcela = dividaJuros / parcelas"
   ]
  },
  {
   "cell_type": "markdown",
   "id": "367be3ae",
   "metadata": {
    "id": "367be3ae"
   },
   "source": [
    "21. Uma grande firma deseja saber qual é o empregado mais recente e qual é o mais antigo. Desenvolver um programa para ler um número indeterminado de informações contendo o número do empregado e o número de meses de trabalho deste empregado e imprimir o mais recente e o mais antigo. Obs.: A última informação contém os dois números iguais a zero. Não existem dois empregados admitidos no mesmo mês."
   ]
  },
  {
   "cell_type": "code",
   "execution_count": null,
   "id": "f7e70edd",
   "metadata": {
    "colab": {
     "base_uri": "https://localhost:8080/"
    },
    "id": "f7e70edd",
    "outputId": "0363e1c1-53d4-4b24-b13b-898b72e14d32"
   },
   "outputs": [
    {
     "name": "stdout",
     "output_type": "stream",
     "text": [
      "Para encerrar o programa, digite 0 nas duas caixas de entrada.\n",
      "Insira o número do empregado: 5.5\n",
      "Insira o número de meses de trabalho deste empregado: 5.5\n",
      "Erro. Informe valores positivos e inteiros.\n",
      "Insira o número do empregado: 5\n",
      "Insira o número de meses de trabalho deste empregado: 5\n",
      "Insira o número do empregado: 9\n",
      "Insira o número de meses de trabalho deste empregado: 5.5\n",
      "Erro: Informe valores inteiros e positivos.\n",
      "Insira o número do empregado: -9\n",
      "Insira o número de meses de trabalho deste empregado: -9\n",
      "Erro: Informe valores inteiros e positivos.\n",
      "Insira o número do empregado: -9\n",
      "Insira o número de meses de trabalho deste empregado: 9\n",
      "Erro: Informe valores inteiros e positivos.\n",
      "Insira o número do empregado: 10\n",
      "Insira o número de meses de trabalho deste empregado: 0\n",
      "\n",
      "O empregado mais recente é o de número 10 com 0 meses de trabalho.\n",
      "O empregado mais antigo é o de número 5 com 5 meses de trabalho.\n"
     ]
    }
   ],
   "source": [
    "print('Para encerrar o programa, digite 0 nas duas caixas de entrada.')\n",
    "nEmpregado = float(input('Insira o número do empregado: '))\n",
    "nMeses = float(input('Insira o número de meses de trabalho deste empregado: '))\n",
    "\n",
    "while (nEmpregado // 1 != nEmpregado) or (nMeses // 1 != nMeses):\n",
    "    print(\"Erro. Informe valores positivos e inteiros.\")\n",
    "    nEmpregado = float(input('Insira o número do empregado: '))\n",
    "    nMeses = float(input('Insira o número de meses de trabalho deste empregado: '))\n",
    "    \n",
    "if nEmpregado == 0 or nMeses == 0:\n",
    "    print('Entrada inicial inválida. Informe um valor maior que 0 para iniciar.')\n",
    "else:   \n",
    "    nEmpregadoRecente = nEmpregado\n",
    "    nEmpregadoAntigo = nEmpregado\n",
    "    nMesesRecente = nMeses\n",
    "    nMesesAntigo = nMeses\n",
    "\n",
    "    while nEmpregado != 0 and nMeses != 0:\n",
    "        nEmpregado = float(input('Insira o número do empregado: '))\n",
    "        nMeses = float(input('Insira o número de meses de trabalho deste empregado: '))\n",
    "        if (nEmpregado > 0) and (nMeses > 0):\n",
    "            while (nEmpregado // 1 != nEmpregado) or (nMeses // 1 != nMeses) or nEmpregado < 0 or nMeses < 0:\n",
    "                print(\"Erro: Informe valores inteiros e positivos.\")\n",
    "                nEmpregado = float(input('Insira o número do empregado: '))\n",
    "                nMeses = float(input('Insira o número de meses de trabalho deste empregado: '))\n",
    "            if nMeses > nMesesAntigo:\n",
    "                nMesesAntigo = nMeses\n",
    "                nEmpregadoAntigo = nEmpregado\n",
    "            elif nMeses < nMesesRecente:\n",
    "                nMesesRecente = nMeses\n",
    "                nEmpregadoRecente = nEmpregado\n",
    "\n",
    "    print(f\"\"\"\\nO empregado mais recente é o de número {int(nEmpregadoRecente)} com {int(nMesesRecente)} meses de trabalho.\n",
    "O empregado mais antigo é o de número {int(nEmpregadoAntigo)} com {int(nMesesAntigo)} meses de trabalho.\"\"\")"
   ]
  },
  {
   "cell_type": "markdown",
   "id": "536eb061",
   "metadata": {
    "id": "536eb061"
   },
   "source": [
    "22. A prefeitura de uma cidade fez uma pesquisa entre seus habitantes, coletando dados sobre o salário e número de filhos. A prefeitura deseja saber:\n",
    "\n",
    "a) Média do salário da população;\n",
    "\n",
    "b) Média do número de filhos;\n",
    "\n",
    "c) Maior salário;\n",
    "\n",
    "d) Percentual de pessoas com salário até R$250,00.\n",
    "\n",
    "Desenvolver um programa para calcular e escrever o que foi pedido nos itens a, b, c e d. O final da leitura de dados se dará com a entrada de um salário negativo."
   ]
  },
  {
   "cell_type": "code",
   "execution_count": null,
   "id": "81d1a323",
   "metadata": {
    "colab": {
     "base_uri": "https://localhost:8080/"
    },
    "id": "81d1a323",
    "outputId": "c6e15c0a-77a4-49b1-d674-c7134c6b3c39",
    "scrolled": false
   },
   "outputs": [
    {
     "name": "stdout",
     "output_type": "stream",
     "text": [
      "Digite o valor do salário: 1000\n",
      "Digite o número de filhos: 5\n",
      "Digite o valor do salário: -4\n",
      "MÉDIA DO SALÁRIO DA POPULAÇÃO = 1000.0 \n",
      "MÉDIA DO NÚMERO DE FILHOS = 5.0 \n",
      "MAIOR SALÁRIO = 1000.0 \n",
      "PERCENTUAL DE PESSOAS COM SÁLARIO ATÉ R$ 250,00 = 0.0\n"
     ]
    }
   ],
   "source": [
    "salario = soma_salario = maior_salario = salario_250 = n_filhos = soma_filhos = n_respostas =  0\n",
    "\n",
    "while salario >= 0:\n",
    "    salario = float(input('Digite o valor do salário: '))\n",
    "    if salario >= 0:\n",
    "      n_respostas += 1\n",
    "      if salario > maior_salario:\n",
    "        maior_salario = salario\n",
    "      if salario <= 250:\n",
    "        salario_250 += 1\n",
    "      soma_salario += salario\n",
    "      n_filhos = float(input('Digite o número de filhos: '))\n",
    "      while (n_filhos < 0) or (n_filhos // 1 != n_filhos):\n",
    "        n_filhos = float(input('O valor de filhos não é válido, por gentileza, informe o valor correto. '))\n",
    "      soma_filhos += n_filhos\n",
    "\n",
    "    media_salario = soma_salario / n_respostas\n",
    "    media_filhos = soma_filhos / n_respostas\n",
    "    percentual_s_250 = (salario_250 / n_respostas) * 100\n",
    "\n",
    "print(f\"MÉDIA DO SALÁRIO DA POPULAÇÃO = {media_salario} \\nMÉDIA DO NÚMERO DE FILHOS = {media_filhos} \\nMAIOR SALÁRIO = {maior_salario} \\nPERCENTUAL DE PESSOAS COM SÁLARIO ATÉ R$ 250,00 = {percentual_s_250}\")"
   ]
  },
  {
   "cell_type": "markdown",
   "id": "b3ff34b8",
   "metadata": {
    "id": "b3ff34b8"
   },
   "source": [
    "23. Faça um programa que leia uma quantidade não determinada de números positivos. Calcule a quantidade de números pares e ímpares, a média de valores pares e a média geral dos números lidos. O número que encerrará a leitura será zero."
   ]
  },
  {
   "cell_type": "code",
   "execution_count": null,
   "id": "c0836320",
   "metadata": {
    "colab": {
     "base_uri": "https://localhost:8080/"
    },
    "id": "c0836320",
    "outputId": "2c429674-b36f-4c17-a348-beabb5e1f13a"
   },
   "outputs": [
    {
     "name": "stdout",
     "output_type": "stream",
     "text": [
      "Digite números positivos:\n",
      "10\n",
      "9\n",
      "8\n",
      "5.5\n",
      "Números decimais não são pares ou ímpares. Digite novamente informando um valor inteiro:0\n",
      "\n",
      "A quantidade de números pares é 2 e a quantidade de números ímpares é 1.\n",
      "A média dos valores pares é 9.0.\n",
      "A média geral dos números lidos é 9.00.\n"
     ]
    }
   ],
   "source": [
    "n = 1\n",
    "qnt_pares = qnt_impares = pares = impares = 0\n",
    "\n",
    "print('Digite números positivos:')\n",
    "while n != 0:\n",
    "    n = float(input(''))\n",
    "    if n!= int(n):\n",
    "      while n != int(n):\n",
    "        n = float(input('Números decimais não são pares ou ímpares. Digite novamente informando um valor inteiro:'))\n",
    "    else:\n",
    "      if n > 0:       \n",
    "          if n % 2 == 0:\n",
    "              pares += n\n",
    "              qnt_pares += 1\n",
    "          else:\n",
    "              impares += n\n",
    "              qnt_impares += 1\n",
    "      elif n < 0:\n",
    "        print(\"Esse valor é negativo, por favor, insira um valor positivo.\")\n",
    "\n",
    "total = (qnt_pares + qnt_impares)\n",
    "        \n",
    "print(f\"\\nA quantidade de números pares é {qnt_pares} e a quantidade de números ímpares é {qnt_impares}.\")\n",
    "\n",
    "if qnt_pares > 0:\n",
    "  print(f\"A média dos valores pares é {pares / qnt_pares}.\")\n",
    "print(f\"A média geral dos números lidos é {(pares + impares) / total:.1f}.\")\n"
   ]
  },
  {
   "cell_type": "markdown",
   "id": "a64c3a2c",
   "metadata": {
    "id": "a64c3a2c"
   },
   "source": [
    "24. O cardápio de uma lanchonete é o seguinte:\n",
    "    \n",
    "Especificação............ Código............ Preço\n",
    "\n",
    "Cachorro Quente............ 100............ R$ 1,20\n",
    "\n",
    "Bauru Simples............ 101............ R$ 1,30\n",
    "\n",
    "Bauru com ovo............ 102............ R$ 1,50\n",
    "\n",
    "Hambúrguer............ 103............ R$ 1,20\n",
    "\n",
    "Cheeseburguer............ 104............ R$ 1,30\n",
    "\n",
    "Refrigerante............ 105............ R$ 1,00\n",
    "\n",
    "Faça um programa que leia o código dos itens pedidos e as quantidades desejadas. Calcule e mostre o valor a ser pago por item (preço * quantidade) e\n",
    "o total geral do pedido. Considere que o cliente deve informar quando o pedido deve ser encerrado."
   ]
  },
  {
   "cell_type": "code",
   "execution_count": null,
   "id": "c811df8c",
   "metadata": {
    "colab": {
     "base_uri": "https://localhost:8080/"
    },
    "id": "c811df8c",
    "outputId": "ba3c0144-1a8a-4483-b648-24f98084322c"
   },
   "outputs": [
    {
     "name": "stdout",
     "output_type": "stream",
     "text": [
      "Digite o número do código: 105\n",
      "Digite a quantidade desejada: 2\n",
      "Digite o número do código: 101\n",
      "Digite a quantidade desejada: 2\n",
      "Digite o número do código: 103\n",
      "Digite a quantidade desejada: 1\n",
      "Digite o número do código: 0\n",
      "=-=-=-=-=-=-=-=-=-=-=-=-=-=-=-=-=-=-=-=-\n",
      "Bauru simples =\n",
      " Quantidade: 2, Valor por unidade: R$ 1.3, Total do item: R$ 2.6\n",
      "\n",
      "Hambúrguer =\n",
      " Quantidade: 1, Valor por unidade: R$ 1.2, Total do item: R$ 1.2\n",
      "\n",
      "Refrigerante =\n",
      " Quantidade: 2, Valor por unidade: R$ 1, Total do item: R$ 2.0\n",
      "\n",
      "Quantidade total  de itens = 5 \n",
      "=-=-=-=-=-=-=-=-=-=-=-=-=-=-=-=-=-=-=-=-\n",
      "Valor total do pedido = R$ 5.8\n",
      "\n"
     ]
    }
   ],
   "source": [
    "codigo = 1\n",
    "c100 = c101 = c102 = c103 = c104 = c105 = 0\n",
    "preco100 = preco101 = preco102 = preco103 = preco104 = preco105 = 0\n",
    "\n",
    "while codigo != 0:\n",
    "    codigo = int(input('Digite o número do código: '))\n",
    "    if codigo != 0:\n",
    "      qnt = int(input('Digite a quantidade desejada: '))\n",
    "      if codigo == 100:\n",
    "          c100 += qnt\n",
    "          preco100 = c100 * 1.20\n",
    "      elif codigo == 101:\n",
    "          c101 += qnt\n",
    "          preco101 = c101 * 1.30\n",
    "      elif codigo == 102:\n",
    "          c102 += qnt\n",
    "          preco102 = c102 * 1.50\n",
    "      elif codigo == 103:\n",
    "          c103 += qnt\n",
    "          preco103 = c103 * 1.20\n",
    "      elif codigo == 104:\n",
    "          c104 += qnt\n",
    "          preco104 = c104 * 1.30\n",
    "      elif codigo == 105:\n",
    "          c105 += qnt\n",
    "          preco105 = c105 * 1.00\n",
    "      else:\n",
    "        print (\"O código do produto não é válido, por gentileza, informe um valor válido.\")\n",
    "\n",
    "qnt_itens_total = c100 + c101 + c102 + c103 + c104 + c105\n",
    "valor_total = preco100 + preco101 + preco102 + preco103 + preco104 + preco105\n",
    "\n",
    "print('=-' * 20)\n",
    "\n",
    "if c100 > 0:\n",
    "    print(f\"Cachorro quente =\\n Quantidade: {c100}, Valor por unidade: R$ {1.20}, Total do item: R$ {preco100}\\n\")\n",
    "if c101 > 0:\n",
    "    print(f\"Bauru simples =\\n Quantidade: {c101}, Valor por unidade: R$ {1.30}, Total do item: R$ {preco101}\\n\")\n",
    "if c102 > 0:\n",
    "    print(f\"Bauru com ovo =\\n Quantidade: {c102}, Valor por unidade: R$ {1.50}, Total do item: R$ {preco102}\\n\")\n",
    "if c103 > 0:\n",
    "    print(f\"Hambúrguer =\\n Quantidade: {c103}, Valor por unidade: R$ {1.20}, Total do item: R$ {preco103}\\n\")\n",
    "if c104 > 0:\n",
    "    print(f\"Cheeseburguer =\\n Quantidade: {c104}, Valor por unidade: R$ {1.30}, Total do item: R$ {preco104}\\n\")\n",
    "if c105 > 0:\n",
    "    print(f\"Refrigerante =\\n Quantidade: {c105}, Valor por unidade: R$ {1}, Total do item: R$ {preco105}\\n\")\n",
    "\n",
    "print(f\"Quantidade total  de itens = {qnt_itens_total} \\n{'=-' * 20}\\nValor total do pedido = R$ {valor_total}\\n\")   \n"
   ]
  },
  {
   "cell_type": "markdown",
   "id": "a0c3706e",
   "metadata": {
    "id": "a0c3706e"
   },
   "source": [
    "25. Você foi contratado para escrever um algoritmo que calcule quantos pontos fez um time num campeonato de futebol. Para os que não conhecem futebol uma vitória vale três pontos, um empate vale 1 ponto e a derrota não vale ponto. A entrada será composta por pares de números indicando o resultado de cada jogo. O primeiro número sempre corresponde ao total de gols que o time fez no jogo. A leitura dos dados será finalizada quando for fornecido um número de gols negativo."
   ]
  },
  {
   "cell_type": "code",
   "execution_count": null,
   "id": "5fb83db8",
   "metadata": {
    "colab": {
     "base_uri": "https://localhost:8080/"
    },
    "id": "5fb83db8",
    "outputId": "e588c95c-13d1-4b49-e185-cbc523f2d49e"
   },
   "outputs": [
    {
     "name": "stdout",
     "output_type": "stream",
     "text": [
      "Digite o número de gols do time: 5\n",
      "Digite o número de gols do adversário: 3\n",
      "Digite o número de gols do time: 5\n",
      "Digite o número de gols do adversário: -5\n",
      "O time fez 3 pontos.\n"
     ]
    }
   ],
   "source": [
    "vitoria = empate = 0\n",
    "resultado = 1\n",
    "adversario = 0\n",
    "while resultado >= 0:\n",
    "    resultado = float(input(\"Digite o número de gols do time: \")) \n",
    "    if resultado >= 0:\n",
    "        while (resultado // 1 != resultado):\n",
    "                resultado = float(input(\"O valor de gols do time precisa ser inteiro, por favor, informe novamente: \"))\n",
    "        adversario = float(input(\"Digite o número de gols do adversário: \"))\n",
    "        while (adversario // 1 != adversario):\n",
    "              adversario = float(input(\"O valor de gols do time precisa ser inteiro, por favor, informe novamente: \"))\n",
    "        if adversario < 0:\n",
    "          resultado = -1\n",
    "        else:\n",
    "          if resultado > adversario:\n",
    "                vitoria += 3\n",
    "          elif resultado == adversario:\n",
    "                empate += 1\n",
    "        \n",
    "pontos = vitoria  + empate\n",
    "\n",
    "print('O time fez', pontos, 'pontos.')\n",
    "        "
   ]
  },
  {
   "cell_type": "markdown",
   "id": "aef97616",
   "metadata": {
    "id": "aef97616"
   },
   "source": [
    "26. Faça um programa que receba um número e verifique se ele é ou não triangular.\n",
    "\n",
    "OBS: um número é triangular quando é resultado do produto de 3 números consecutivos. Exemplo: o número 24 é triangular, pois, 24 = 2 * 3 * 4."
   ]
  },
  {
   "cell_type": "code",
   "execution_count": null,
   "id": "223714ad",
   "metadata": {
    "colab": {
     "base_uri": "https://localhost:8080/"
    },
    "id": "223714ad",
    "outputId": "d1f1fd9d-47fc-482d-b50b-a2a30d969da0"
   },
   "outputs": [
    {
     "name": "stdout",
     "output_type": "stream",
     "text": [
      "Digite um número: 6.6\n",
      "Informe um número inteiro e positivo: -5\n",
      "Informe um número inteiro e positivo: 24\n",
      "24.0 é um número triangular!\n"
     ]
    }
   ],
   "source": [
    "num = float(input('Digite um número: '))\n",
    "while num != int(num) or num < 0:\n",
    "  num = float(input('Informe um número inteiro e positivo: '))\n",
    "cont = 1\n",
    "produto = 0\n",
    "\n",
    "while num > produto:\n",
    "  produto = cont * (cont+1) * (cont+2)\n",
    "  cont+= 1\n",
    "\n",
    "if num == produto:\n",
    "  print(num, 'é um número triangular!')\n",
    "else:\n",
    "  print(num, 'Não é um número triangular!')\n"
   ]
  },
  {
   "cell_type": "markdown",
   "id": "127a7959",
   "metadata": {
    "id": "127a7959"
   },
   "source": [
    "27. Faça um programa para validar o login e a senha de um usuário. Caso o usuário informe algum valor inválido informar o erro e pedir novamente os dados. A leitura dos dados deve ser encerrada quando o usuário digitar 3 vezes um valor inválido (login ou senha). \n",
    "\n",
    "Considere o login válido como &quot;kezia&quot; e a senha como &quot;123&quot;."
   ]
  },
  {
   "cell_type": "code",
   "execution_count": null,
   "id": "70fc38b3",
   "metadata": {
    "id": "70fc38b3"
   },
   "outputs": [],
   "source": [
    "tentativas = 0\n",
    "\n",
    "while tentativas < 3:\n",
    "    login = input('Insira o login: ')\n",
    "    senha = input('Insira a senha: ')\n",
    "    tentativas += 1\n",
    "    if login == \"kezia\" and senha == \"123\":\n",
    "        print(\"Acesso liberado\")\n",
    "        tentativas = 3\n",
    "    elif tentativas == 3:\n",
    "        print(\"Acabaram as chances\")\n",
    "    else:\n",
    "        print(\"Login ou senha incorretos. Tente novamente.\")\n"
   ]
  },
  {
   "cell_type": "markdown",
   "id": "2d8c1acc",
   "metadata": {
    "id": "2d8c1acc"
   },
   "source": [
    "# ------------- LISTA IV - LISTAS E MATRIZES -------------"
   ]
  },
  {
   "cell_type": "markdown",
   "id": "bdb95162",
   "metadata": {
    "id": "bdb95162"
   },
   "source": [
    "1. Faça um Programa que leia 5 números inteiros, armazene-os em uma lista."
   ]
  },
  {
   "cell_type": "code",
   "execution_count": null,
   "id": "53cdd7f5",
   "metadata": {
    "colab": {
     "base_uri": "https://localhost:8080/"
    },
    "id": "53cdd7f5",
    "outputId": "c4c8cf0e-08a3-44ea-c724-c7e4f2ad6af0"
   },
   "outputs": [
    {
     "name": "stdout",
     "output_type": "stream",
     "text": [
      "Digite um número inteiro: 1\n",
      "Digite um número inteiro: 2\n",
      "Digite um número inteiro: -5\n",
      "Digite um número inteiro: 5.5\n",
      "Por favor, digite um número INTEIRO: 4\n",
      "Digite um número inteiro: 2\n",
      "[1, 2, -5, 4, 2]\n"
     ]
    }
   ],
   "source": [
    "lista = []\n",
    "\n",
    "for i in range (5):\n",
    "    numb = float(input('Digite um número inteiro: '))\n",
    "    while numb != int(numb):\n",
    "        numb = float(input('Por favor, digite um número INTEIRO: '))\n",
    "    lista.append(int(numb))\n",
    "    \n",
    "print(lista)\n"
   ]
  },
  {
   "cell_type": "markdown",
   "id": "4d228857",
   "metadata": {
    "id": "4d228857"
   },
   "source": [
    "2. Faça um Programa que leia 10 números reais e mostre-os na ordem inversa."
   ]
  },
  {
   "cell_type": "code",
   "execution_count": null,
   "id": "21b065e5",
   "metadata": {
    "id": "21b065e5",
    "outputId": "30a91e87-d1c9-4a41-841f-37a354a26b42"
   },
   "outputs": [
    {
     "name": "stdout",
     "output_type": "stream",
     "text": [
      "Digite um número real: 1\n",
      "Digite um número real: 2\n",
      "Digite um número real: 3\n",
      "Digite um número real: 4.4\n",
      "Digite um número real: 5\n",
      "Digite um número real: 6\n",
      "Digite um número real: 7\n",
      "Digite um número real: 8\n",
      "Digite um número real: 9\n",
      "Digite um número real: 10.1\n",
      "[10.1, 9.0, 8.0, 7.0, 6.0, 5.0, 4.4, 3.0, 2.0, 1.0]\n"
     ]
    }
   ],
   "source": [
    "lista = []\n",
    "\n",
    "for i in range (10):\n",
    "    numb = float(input('Digite um número real: '))\n",
    "    lista.append(numb)\n",
    "lista.sort(reverse = True)    \n",
    "print(lista)\n"
   ]
  },
  {
   "cell_type": "markdown",
   "id": "0b5e05cf",
   "metadata": {
    "id": "0b5e05cf"
   },
   "source": [
    "3. Faça um Programa que leia 40 notas, mostre as notas e a média na tela."
   ]
  },
  {
   "cell_type": "code",
   "execution_count": null,
   "id": "eaa4b7ca",
   "metadata": {
    "colab": {
     "base_uri": "https://localhost:8080/"
    },
    "id": "eaa4b7ca",
    "outputId": "d8d5ee62-3bcd-46c9-8943-bf790f7c90d4"
   },
   "outputs": [
    {
     "name": "stdout",
     "output_type": "stream",
     "text": [
      "Informe a 1ª nota: 10\n",
      "Informe a 2ª nota: -8\n",
      "Informe um valor positivo: 8.8\n",
      "Informe a 3ª nota: 9\n",
      "As notas são [10.0, 8.8, 9.0] e a média delas é 9.3\n"
     ]
    }
   ],
   "source": [
    "lista_notas = []\n",
    "\n",
    "for i in range (1, 4): #coloquei apenas 3\n",
    "    nota = float(input('Informe a ' + str(i) + 'ª nota: '))\n",
    "    while nota < 0:\n",
    "        nota = float(input('Informe um valor positivo: '))\n",
    "    lista_notas.append(nota)\n",
    "\n",
    "media = sum(lista_notas) / len(lista_notas)\n",
    "print(f\"As notas são {lista_notas} e a média delas é {media:.1f}\")"
   ]
  },
  {
   "cell_type": "markdown",
   "id": "9a2dfc9e",
   "metadata": {
    "id": "9a2dfc9e"
   },
   "source": [
    "4. Faça um Programa que leia 20 números inteiros e armazene-os numa lista. Armazene os números pares na lista PAR e os números IMPARES na lista impar. Imprima as três listas."
   ]
  },
  {
   "cell_type": "code",
   "execution_count": null,
   "id": "6b97cc6f",
   "metadata": {
    "colab": {
     "base_uri": "https://localhost:8080/"
    },
    "id": "6b97cc6f",
    "outputId": "a04ba562-39ff-403a-ad0e-e23d1738842f"
   },
   "outputs": [
    {
     "name": "stdout",
     "output_type": "stream",
     "text": [
      "Informe o 1º número inteiro:\n",
      "1\n",
      "Informe o 2º número inteiro:\n",
      "2\n",
      "Informe o 3º número inteiro:\n",
      "3\n",
      "Informe o 4º número inteiro:\n",
      "4\n",
      "---------------\n",
      "Os números informados foram [1, 2, 3, 4], dentre eles os números [2, 4] são pares e os números [1, 3] são impares.\n"
     ]
    }
   ],
   "source": [
    "todos = []\n",
    "pares = []\n",
    "impares = []\n",
    "\n",
    "for i in range(1, 5): #fiz com 4\n",
    "    num = float(input('Informe o ' + str(i) + 'º número inteiro:\\n'))\n",
    "    while num != int(num):\n",
    "        num = float(input('Erro: Informe um número INTEIRO:\\n'))\n",
    "    todos.append(int(num))\n",
    "    if num % 2 == 0:\n",
    "        pares.append(int(num))\n",
    "    else:\n",
    "        impares.append(int(num))\n",
    "\n",
    "print('-'*15)\n",
    "print(f\"Os números informados foram {todos}, dentre eles os números {pares} são pares e os números {impares} são impares.\")"
   ]
  },
  {
   "cell_type": "markdown",
   "id": "def6c2a2",
   "metadata": {
    "id": "def6c2a2"
   },
   "source": [
    "5. Faça um Programa que peça as quatro notas de 10 alunos, calcule e armazene numa lista a média de cada aluno, imprima o número de alunos com média maior ou igual a 7.0."
   ]
  },
  {
   "cell_type": "code",
   "execution_count": null,
   "id": "598c819d",
   "metadata": {
    "id": "598c819d",
    "outputId": "46611a88-87d2-43c3-ffe7-00a8f62bb281"
   },
   "outputs": [
    {
     "name": "stdout",
     "output_type": "stream",
     "text": [
      "1 º aluno------\n",
      "Digite a 1 ª nota: 10\n",
      "Digite a 2 ª nota: 9\n",
      "Digite a 3 ª nota: 8\n",
      "Digite a 4 ª nota: -7\n",
      "Informe um valor positivo: 7\n",
      "2 º aluno------\n",
      "Digite a 1 ª nota: 1\n",
      "Digite a 2 ª nota: 2\n",
      "Digite a 3 ª nota: 3\n",
      "Digite a 4 ª nota: -4\n",
      "Informe um valor positivo: 4\n",
      "Há 1 aluno(s) com a média maior ou igual a 7.\n"
     ]
    }
   ],
   "source": [
    "lista_media = []\n",
    "\n",
    "for alunos in range(1, 3): #3 alunos\n",
    "    soma = 0\n",
    "    print(alunos, 'º aluno------')\n",
    "    for notas in range(1, 5):\n",
    "        nota = float(input(f\"Digite a {notas} ª nota: \"))\n",
    "        while nota < 0 or nota > 10:\n",
    "            nota = float(input('Informe um valor positivo ou menor ou igual a 10: '))\n",
    "        soma += nota\n",
    "    media = soma / 4\n",
    "    lista_media.append(media)\n",
    "    \n",
    "cont = 0\n",
    "for i in lista_media:\n",
    "    if i >= 7:\n",
    "        cont += 1\n",
    "\n",
    "print(f\"Há {cont} aluno(s) com a média maior ou igual a 7.\")\n",
    "    "
   ]
  },
  {
   "cell_type": "markdown",
   "id": "8b6c841e",
   "metadata": {
    "id": "8b6c841e"
   },
   "source": [
    "6. Faça um Programa que leia e armazene 50 números inteiros, mostre a soma, a\n",
    "multiplicação e os números."
   ]
  },
  {
   "cell_type": "code",
   "execution_count": null,
   "id": "60416a47",
   "metadata": {
    "id": "60416a47"
   },
   "outputs": [],
   "source": [
    "numeros = []\n",
    "mult = 1\n",
    "print('Informe números inteiros: ')\n",
    "for i in range(4):\n",
    "    n = float(input())\n",
    "    while (n // 1 != n):\n",
    "          n = float(input(\"Por gentileza, informe um número inteiro: \"))\n",
    "    numeros.append(n)\n",
    "    mult *= n\n",
    "\n",
    "print('\\nOs números informados foram {}'.format(numeros))\n",
    "print(f\"A soma deles resulta em {int(sum(numeros))}.\")\n",
    "print(f\"A multiplicação entre eles resulta em {int(mult)}.\")"
   ]
  },
  {
   "cell_type": "markdown",
   "id": "92411a49",
   "metadata": {
    "id": "92411a49"
   },
   "source": [
    "7. Faça um Programa que peça a idade e a altura de 10 pessoas, armazene cada\n",
    "informação na sua respectiva lista. Imprima a idade da pessoa que possui\n",
    "maior altura."
   ]
  },
  {
   "cell_type": "code",
   "execution_count": null,
   "id": "0b04dc0e",
   "metadata": {
    "colab": {
     "base_uri": "https://localhost:8080/"
    },
    "id": "0b04dc0e",
    "outputId": "0f9fcb51-7315-435f-cdd7-dffcd06b32f1"
   },
   "outputs": [
    {
     "name": "stdout",
     "output_type": "stream",
     "text": [
      "Informe a sua idade: 15\n",
      "Informe a sua altura: 2\n",
      "Informe a sua idade: 16\n",
      "Informe a sua altura: 1.5\n",
      "Informe a sua idade: 14\n",
      "Informe a sua altura: 1.6\n",
      "\n",
      "A maior altura é 2.00.\n",
      "A idade da pessoa com maior altura é 15.\n"
     ]
    }
   ],
   "source": [
    "idade = float(input('Informe a sua idade: '))\n",
    "while idade < 0 or (idade // 1 != idade):\n",
    "  idade = float(input('Informe uma idade válida: '))\n",
    "altura = float(input('Informe a sua altura: '))\n",
    "while altura < 0:\n",
    "  altura = float(input('Informe uma altura positiva: ')) \n",
    "lista_idade = [idade]\n",
    "lista_altura = [altura]\n",
    "\n",
    "for i in range(2):\n",
    "  idade = float(input('Informe a sua idade: '))\n",
    "  while idade < 0 or (idade // 1 != idade):\n",
    "    idade = float(input('Informe uma idade válida: '))\n",
    "  altura = float(input('Informe a sua altura: '))\n",
    "  while altura < 0:\n",
    "    altura = float(input('Informe uma altura positiva: ')) \n",
    "    lista_idade.append(idade)\n",
    "    lista_altura.append(altura)\n",
    "\n",
    "maior_altura = (max(lista_altura))\n",
    "qtd_pessoas = lista_altura.count(maior_altura)\n",
    "posicao_maior_altura = lista_altura.index(maior_altura)\n",
    "idade_maior_altura = lista_idade[posicao_maior_altura]\n",
    "\n",
    "print(f\"\\nA maior altura é {maior_altura:.2f}.\")\n",
    "print(f\"A idade da pessoa com maior altura é {idade_maior_altura:.0f}.\")"
   ]
  },
  {
   "cell_type": "markdown",
   "id": "f880ca82",
   "metadata": {
    "id": "f880ca82"
   },
   "source": [
    "8. Faça um Programa que leia uma lista A com 10 números inteiros, calcule e\n",
    "mostre a soma dos quadrados dos elementos do vetor."
   ]
  },
  {
   "cell_type": "code",
   "execution_count": null,
   "id": "5e9a7399",
   "metadata": {
    "id": "5e9a7399",
    "outputId": "349565ba-7599-4976-a614-645d2a26bdf2"
   },
   "outputs": [
    {
     "name": "stdout",
     "output_type": "stream",
     "text": [
      "Digite um número inteiro: 1\n",
      "Digite um número inteiro: 2\n",
      "Digite um número inteiro: 3\n",
      "Digite um número inteiro: 4\n",
      "Digite um número inteiro: 5\n",
      "A soma dos quadrados dos elementos do vetor A é: 55\n"
     ]
    }
   ],
   "source": [
    "A = []\n",
    "for i in range(5):\n",
    "    num = float(input(\"Digite um número inteiro: \"))\n",
    "    while num != int(num):\n",
    "        num = float(input(\"Erro: Digite um número INTEIRO: \"))\n",
    "    A.append(num)\n",
    "\n",
    "soma_quadrados = 0\n",
    "for i in A:\n",
    "    soma_quadrados += i ** 2\n",
    "\n",
    "print(\"A soma dos quadrados dos elementos do vetor A é:\", int(soma_quadrados))"
   ]
  },
  {
   "cell_type": "markdown",
   "id": "c52f9683",
   "metadata": {
    "id": "c52f9683"
   },
   "source": [
    "9. Faça um Programa que leia duas listas com 10 elementos cada. Gere uma terceira lista de 20 elementos, cujos valores deverão ser compostos pelos elementos intercalados das duas outras listas."
   ]
  },
  {
   "cell_type": "code",
   "execution_count": null,
   "id": "00799f79",
   "metadata": {
    "id": "00799f79",
    "outputId": "040afe8e-7ffb-4ecc-de3e-c44dce767803"
   },
   "outputs": [
    {
     "name": "stdout",
     "output_type": "stream",
     "text": [
      "\n",
      "Digite o 1º elemento da lista 1: 5\n",
      "Digite o 1º elemento da lista 2: 4\n",
      "\n",
      "Digite o 2º elemento da lista 1: 3\n",
      "Digite o 2º elemento da lista 2: 2\n",
      "\n",
      "Digite o 3º elemento da lista 1: 1\n",
      "Digite o 3º elemento da lista 2: 0\n",
      "\n",
      "A lista 1 é [5, 3, 1], a lista 2 é [4, 2, 0]. \n",
      "A união dessas duas listas, de forma intercalada é [5, 4, 3, 2, 1, 0]\n"
     ]
    }
   ],
   "source": [
    "lista1 = []\n",
    "lista2 = []\n",
    "lista3 = []\n",
    "for i in range(1, 4):\n",
    "    num = float(input(f\"\\nDigite o {i}º elemento da lista 1: \"))\n",
    "    lista1.append(int(num))\n",
    "    num = float(input(f\"Digite o {i}º elemento da lista 2: \"))\n",
    "    lista2.append(int(num))\n",
    "\n",
    "for i in range(3):\n",
    "    lista3.append(lista1[i])\n",
    "    lista3.append(lista2[i])\n",
    "\n",
    "print(f\"\\nA lista 1 é {lista1}, a lista 2 é {lista2}. \\nA união dessas duas listas, de forma intercalada é {lista3}\")"
   ]
  },
  {
   "cell_type": "markdown",
   "id": "a4ba5f87",
   "metadata": {
    "id": "a4ba5f87"
   },
   "source": [
    "11. Foram anotadas as idades e alturas de 30 alunos. Faça um Programa que determine quantos alunos com mais de 13 anos possuem altura inferior à média de altura desses alunos."
   ]
  },
  {
   "cell_type": "code",
   "execution_count": null,
   "id": "f7d5a7d4",
   "metadata": {
    "id": "f7d5a7d4",
    "outputId": "6bfc647c-4902-4bbe-e2f4-718f46c2756a"
   },
   "outputs": [
    {
     "name": "stdout",
     "output_type": "stream",
     "text": [
      "A média de altura dos alunos é de 1.51\n",
      "A quantidade de alunos com mais de 13 anos que possuem a altura menor que a média é de 2\n"
     ]
    }
   ],
   "source": [
    "#Fiz com 8 alunos\n",
    "idade = [10, 11, 12, 13, 12, 14, 15, 16]\n",
    "altura = [1.40, 1.50, 1.40, 1.50, 1.60, 1.50, 1.75, 1.45]\n",
    "\n",
    "qnt_alunos = len(idade)\n",
    "media_altura = sum(altura) / qnt_alunos\n",
    "qnt_alunos_abaixo_media = 0\n",
    "\n",
    "for i in range(qnt_alunos):\n",
    "    if idade[i] > 13 and altura[i] < media_altura:\n",
    "        qnt_alunos_abaixo_media += 1\n",
    "\n",
    "print('A média de altura dos alunos é de {:.2f}'.format(media_altura))\n",
    "print('A quantidade de alunos com mais de 13 anos que possuem a altura menor que a média é de', qnt_alunos_abaixo_media)\n"
   ]
  },
  {
   "cell_type": "markdown",
   "id": "29190eeb",
   "metadata": {
    "id": "29190eeb"
   },
   "source": [
    "12. Escreva um algoritmo que permita a leitura dos nomes de 10 pessoas e armazene os nomes lidos em uma lista. Após isto, o algoritmo deve permitir a leitura de mais 1 nome qualquer de pessoa e depois escrever a mensagem ACHEI, se o nome estiver entre os 10 nomes lidos anteriormente (guardados\n",
    "na lista), ou NÃO ACHEI caso contrário."
   ]
  },
  {
   "cell_type": "code",
   "execution_count": null,
   "id": "e66286dd",
   "metadata": {
    "id": "e66286dd",
    "outputId": "224e39bf-20fb-468d-a45b-927fa9d82e84"
   },
   "outputs": [
    {
     "name": "stdout",
     "output_type": "stream",
     "text": [
      "Digite nomes: \n",
      "1º nome: maria\n",
      "2º nome: jose\n",
      "3º nome: pedro\n",
      "Informe um nome para procurar na lista: jose\n",
      "Achei\n"
     ]
    }
   ],
   "source": [
    "#fiz com 3\n",
    "\n",
    "lista_nomes = []\n",
    "print('Digite nomes: ')\n",
    "for i in range(1, 4):\n",
    "    nome = input(f\"{i}º nome: \")\n",
    "    lista_nomes.append(nome)\n",
    "\n",
    "nomeAProcurar = input('Informe um nome para procurar na lista: ')\n",
    "\n",
    "if nomeAProcurar in lista_nomes:\n",
    "    print(\"Achei\")\n",
    "else:\n",
    "    print(\"Não achei\")\n"
   ]
  },
  {
   "cell_type": "markdown",
   "id": "5172e7d0",
   "metadata": {
    "id": "5172e7d0"
   },
   "source": [
    "13. Faça um programa que receba a temperatura média de cada mês do ano e armazene-as em uma lista. Após isto, calcule a média anual das temperaturas e mostre todas as temperaturas acima da média anual, e em que mês elas ocorreram (mostrar o mês por extenso: 1 – Janeiro, 2 – Fevereiro, . . . )."
   ]
  },
  {
   "cell_type": "code",
   "execution_count": null,
   "id": "62f91b20",
   "metadata": {
    "id": "62f91b20",
    "outputId": "60b68bc3-18dc-4d37-acf3-ccbcd6d74d6e"
   },
   "outputs": [
    {
     "name": "stdout",
     "output_type": "stream",
     "text": [
      "Digite a temperatura média de Janeiro: 35\n",
      "Digite a temperatura média de Fevereiro: 34\n",
      "Digite a temperatura média de Março: 33\n",
      "Digite a temperatura média de Abril: 32\n",
      "Digite a temperatura média de Maio: 31\n",
      "Digite a temperatura média de Junho: 30\n",
      "Digite a temperatura média de Julho: 29\n",
      "Digite a temperatura média de Agosto: 28\n",
      "Digite a temperatura média de Setembro: 27\n",
      "Digite a temperatura média de Outubro: 26\n",
      "Digite a temperatura média de Novembro: 25\n",
      "Digite a temperatura média de Dezembro: 24\n",
      "\n",
      "Temperaturas acima da média anual (29.5):\n",
      "Janeiro: 35.0\n",
      "Fevereiro: 34.0\n",
      "Março: 33.0\n",
      "Abril: 32.0\n",
      "Maio: 31.0\n",
      "Junho: 30.0\n"
     ]
    }
   ],
   "source": [
    "meses = ['Janeiro', 'Fevereiro', 'Março', 'Abril', 'Maio', 'Junho', 'Julho', 'Agosto', 'Setembro'\n",
    ", 'Outubro', 'Novembro', 'Dezembro']\n",
    "temperatura = []\n",
    "for i in range(12):\n",
    "    temp = float(input(f\"Digite a temperatura média de {meses[i]}: \"))\n",
    "    temperatura.append(temp)\n",
    "    \n",
    "media = sum(temperatura) / 12\n",
    "\n",
    "temp_acima_media = []\n",
    "for i in range(12):\n",
    "    if temperatura[i] > media:\n",
    "        temp_acima_media.append((i, temperatura[i]))\n",
    "\n",
    "print(f\"\\nTemperaturas acima da média anual ({media:.1f}):\")\n",
    "for mes, temp in temp_acima_media:\n",
    "    print(f\"{meses[mes]}: {temp:.1f}\")\n"
   ]
  },
  {
   "cell_type": "markdown",
   "id": "f8557117",
   "metadata": {
    "id": "f8557117"
   },
   "source": [
    "14. Faça um programa que leia um número indeterminado de valores, correspondentes a notas, encerrando a entrada de dados quando for informado um valor igual a -1 (que não deve ser armazenado). Após esta entrada de dados, faça:\n",
    "\n",
    "a. Mostre a quantidade de valores que foram lidos;\n",
    "\n",
    "b. Exiba todos os valores na ordem em que foram informados\n",
    "\n",
    "c. Exiba todos os valores na ordem inversa à que foram informados\n",
    "\n",
    "d. Calcule e mostre a soma dos valores;\n",
    "\n",
    "e. Calcule e mostre a média dos valores;\n",
    "\n",
    "f. Calcule e mostre a quantidade de valores acima da média calculada;\n",
    "\n",
    "g. Calcule e mostre a quantidade de valores abaixo de sete;\n",
    "\n",
    "h. Encerre o programa com uma mensagem."
   ]
  },
  {
   "cell_type": "code",
   "execution_count": null,
   "id": "f8982e25",
   "metadata": {
    "id": "f8982e25",
    "outputId": "c7d734de-0020-422a-a763-1a890da8adbf"
   },
   "outputs": [
    {
     "name": "stdout",
     "output_type": "stream",
     "text": [
      "Informe um valor: 10\n",
      "Informe outro valor: -7\n",
      "Erro: Informe um valor POSITIVO: -8\n",
      "Erro: Informe um valor POSITIVO: 9\n",
      "Informe outro valor: 8\n",
      "Informe outro valor: -5\n",
      "Erro: Informe um valor POSITIVO: -6\n",
      "Erro: Informe um valor POSITIVO: 7\n",
      "Informe outro valor: -1\n",
      "Programa encerrado.\n",
      "\n",
      "A quantidade de valores lidos foi de 4\n",
      "Os valores na ordem em que foram informados é [10.0, 9.0, 8.0, 7.0]\n",
      "Os valores na ordem inversa à que foram informados é [7.0, 8.0, 9.0, 10.0]\n",
      "O resultado da soma de todos os valores é de 34.0\n",
      "A média dos valores informados é de 8.5\n",
      "A quantidade de valores acima da média é de 2\n",
      "A quantidade de valores abaixo de 7 é de 0\n",
      "------------------ \n",
      "Programa encerrado!\n",
      "------------------\n"
     ]
    }
   ],
   "source": [
    "valores = []\n",
    "\n",
    "v = float(input('Informe um valor: ')) \n",
    "valores.append(v)\n",
    "if v == -1:\n",
    "    print('Programa encerrado.')\n",
    "\n",
    "elif v < 0:\n",
    "    while v < 0 and v < -1:\n",
    "        v = float(input('Informe um valor positivo: ')) \n",
    "\n",
    "else:\n",
    "    while v >= 0:\n",
    "        v = float(input('Informe outro valor: ')) \n",
    "        if v >= 0:\n",
    "            valores.append(v)\n",
    "        elif v == -1:\n",
    "          print(\"Programa encerrado.\")\n",
    "        while v < 0 and v != -1:\n",
    "            v = float(input('Erro: Informe um valor POSITIVO: '))\n",
    "            if v >= 0:\n",
    "              valores.append(v)\n",
    "            \n",
    "media = sum(valores) / len(valores)\n",
    "valor_acima = 0\n",
    "valor_abaixo = 0\n",
    "for i in range(len(valores)):\n",
    "    if valores[i] > media:\n",
    "        valor_acima += 1\n",
    "for i in range(len(valores)):\n",
    "    if valores[i] < 7:\n",
    "        valor_abaixo += 1\n",
    "            \n",
    "print(f\"\"\"\\nA quantidade de valores lidos foi de {len(valores)}\n",
    "Os valores na ordem em que foram informados é {valores}\n",
    "Os valores na ordem inversa à que foram informados é {list(reversed(valores))}\n",
    "O resultado da soma de todos os valores é de {sum(valores)}\n",
    "A média dos valores informados é de {media}\n",
    "A quantidade de valores acima da média é de {valor_acima}\n",
    "A quantidade de valores abaixo de 7 é de {valor_abaixo}\"\"\")\n",
    "            \n",
    "print('-'*18, '\\nPrograma encerrado!\\n' + '-'*18)\n",
    "    "
   ]
  },
  {
   "cell_type": "markdown",
   "id": "33472628",
   "metadata": {
    "id": "33472628"
   },
   "source": [
    "15. Uma empresa de pesquisas precisa tabular os resultados da seguinte enquete feita a uma grande quantidade de organizações:\n",
    "&quot;Qual o melhor Sistema Operacional para uso em servidores?&quot;\n",
    "As possíveis respostas são:\n",
    "\n",
    "1- Windows Server\n",
    "\n",
    "2- Unix\n",
    "\n",
    "3- Linux\n",
    "\n",
    "4- Netware\n",
    "\n",
    "5- Mac OS\n",
    "\n",
    "6- Outro\n",
    "\n",
    "Você foi contratado para desenvolver um programa que leia o resultado da enquete e informe ao final o resultado da mesma. O programa deverá ler os valores até ser informado o valor 0, que encerra a entrada dos dados. Não deverão ser aceitos valores além dos válidos para o programa (0 a 6). Os valores referentes a cada uma das opções devem ser armazenados numa lista. Após os dados terem sido\n",
    "completamente informados, o programa deverá calcular o percentual de cada um dos concorrentes e informar o vencedor da enquete. O formato da saída foi dado pela empresa, e é o seguinte:\n",
    "\n",
    "Sistema Operacional Votos %\n",
    "\n",
    "------------------- ----- ---\n",
    "\n",
    "Windows Server 1500 17%\n",
    "\n",
    "Unix 3500 40%\n",
    "\n",
    "Linux 3000 34%\n",
    "\n",
    "Netware 500 5%\n",
    "\n",
    "Mac OS 150 2%\n",
    "\n",
    "Outro 150 2%\n",
    "\n",
    "------------------- -----\n",
    "\n",
    "Total 8800\n",
    "\n",
    "O Sistema Operacional mais votado foi o Unix, com 3500 votos, correspondendo a 40% dos votos."
   ]
  },
  {
   "cell_type": "code",
   "execution_count": null,
   "id": "40b08a04",
   "metadata": {
    "id": "40b08a04",
    "outputId": "c7166f0b-e16a-4e6b-9157-d632b549892f"
   },
   "outputs": [
    {
     "name": "stdout",
     "output_type": "stream",
     "text": [
      "VOTE: Qual o melhor Sistema Operacional para uso em servidores?\n",
      "1ª resposta: 5.5\n",
      "Valor inválido. Digite um número correspondente às opções acima. \n",
      "1ª resposta: 5\n",
      "2ª resposta: 0\n",
      "\n",
      "Enquete encerrada.\n",
      "O resultado da enquete foi:\n",
      "--------------------------------------------------\n",
      "Sistema Operacional        Votos       %\n",
      "--------------------------------------------------\n",
      "Windows Server               0        0.00%\n",
      "Unix                         0        0.00%\n",
      "Linux                        0        0.00%\n",
      "Netware                      0        0.00%\n",
      "Mac OS                       1        100.00%\n",
      "Outro                        0        0.00%\n",
      "--------------------------------------------------\n",
      "TOTAL DE VOTOS: 1\n",
      "\n",
      "\n"
     ]
    }
   ],
   "source": [
    "enquete = []\n",
    "resposta = numeracao = 1\n",
    "print('VOTE: Qual o melhor Sistema Operacional para uso em servidores?')\n",
    "while resposta != 0:\n",
    "    resposta = float(input(f\"{numeracao}ª resposta: \"))\n",
    "    if resposta == 0:\n",
    "        print('\\nEnquete encerrada.')\n",
    "    elif resposta < 0 or resposta > 6 or resposta != int(resposta):\n",
    "        while resposta < 0 or resposta > 6 or resposta != int(resposta):\n",
    "            print('Valor inválido. Digite um número correspondente às opções acima. ')\n",
    "            resposta = float(input(f\"{numeracao}ª resposta: \"))\n",
    "    if 0 < resposta <= 6:\n",
    "        enquete.append(resposta)\n",
    "    numeracao += 1\n",
    "\n",
    "total_votos = len(enquete)\n",
    "\n",
    "print(f\"\"\"O resultado da enquete foi:\n",
    "{'-' * 50}\n",
    "Sistema Operacional        Votos       %\n",
    "{'-' * 50}\n",
    "Windows Server               {enquete.count(1)}        {((enquete.count(1)) / total_votos) * 100:.2f}%\n",
    "Unix                         {enquete.count(2)}        {((enquete.count(2)) / total_votos) * 100:.2f}%\n",
    "Linux                        {enquete.count(3)}        {((enquete.count(3)) / total_votos) * 100:.2f}%\n",
    "Netware                      {enquete.count(4)}        {((enquete.count(4)) / total_votos) * 100:.2f}%\n",
    "Mac OS                       {enquete.count(5)}        {((enquete.count(5)) / total_votos) * 100:.2f}%\n",
    "Outro                        {enquete.count(6)}        {((enquete.count(6)) / total_votos) * 100:.2f}%\n",
    "{'-' * 50}\n",
    "TOTAL DE VOTOS: {total_votos}\n",
    "\n",
    "\"\"\")\n"
   ]
  },
  {
   "cell_type": "markdown",
   "id": "e444e6cd",
   "metadata": {
    "id": "e444e6cd"
   },
   "source": [
    "16. Escreva um programa em Python para encontrar o segundo maior elemento de uma lista com 20 números inteiros.\n",
    "\n",
    "OBS: todos os valores informados serão de valores diferentes e a solução não deve fazer este tratamento das entradas. Além disso, a solução não deve modificar a lista original com a ordem fornecida dos números."
   ]
  },
  {
   "cell_type": "code",
   "execution_count": null,
   "id": "4a93994c",
   "metadata": {
    "id": "4a93994c",
    "outputId": "85131408-834e-45be-978a-050f03c82ea8"
   },
   "outputs": [
    {
     "name": "stdout",
     "output_type": "stream",
     "text": [
      "Informe 5 números inteiros: \n",
      "1\n",
      "2\n",
      "-3\n",
      "5.5\n",
      "Erro: Informe um valor positivo: 6.6\n",
      "7\n",
      "O segundo maior valor informado é 2.\n"
     ]
    }
   ],
   "source": [
    "elementos = []\n",
    "\n",
    "print('Informe 5 números inteiros: ')\n",
    "for i in range(5):\n",
    "    numero = float(input())\n",
    "    if numero != int(numero): \n",
    "        numero = float(input('Erro: Informe um valor positivo: '))\n",
    "    else:\n",
    "        elementos.append(numero)\n",
    "    \n",
    "maior = max(elementos)\n",
    "elementos.remove(maior) # Remove o maior elemento da lista\n",
    "segundo_maior = max(elementos)\n",
    "\n",
    "print('O segundo maior valor informado é {}.'.format(int(segundo_maior)))"
   ]
  },
  {
   "cell_type": "markdown",
   "id": "a97b07e7",
   "metadata": {
    "id": "a97b07e7"
   },
   "source": [
    "17. Escreva um programa em Python para converter um número inteiro em binário\n",
    "de acordo com a representação de grandeza com sinal (sinal e magnitude). O\n",
    "programa deve receber um número inteiro e produzir como saída uma lista com\n",
    "os bits do número convertido (um bit para cada posição da lista). Além disso\n",
    "deve ser feita a verificação se o número pode ser representado, considere uma\n",
    "representação com 8 bits (um para o sinal e 7 para a magnitude)."
   ]
  },
  {
   "cell_type": "code",
   "execution_count": null,
   "id": "721d0dc5",
   "metadata": {
    "id": "721d0dc5"
   },
   "outputs": [],
   "source": [
    "num  = int(input(\"Informe o número: \"))\n",
    "numBinario =[] \n",
    "\n",
    "if num > 127 or num < -127:\n",
    "    print(\"Não é possível representar\")\n",
    "\n",
    "else: \n",
    "    # Analisa o sinal\n",
    "    if num < 0 : \n",
    "        sinal = 1\n",
    "        num = num * (-1) # Converte o número para um valor positivo - facilitar condição do while\n",
    "        \n",
    "    else: \n",
    "        sinal = 0\n",
    "   \n",
    "    # Calcula a magnitude\n",
    "    while num > 0:\n",
    "            resto = num % 2\n",
    "            numBinario.append(resto)\n",
    "            num = num // 2\n",
    "   \n",
    "    # Completa com zero, se necessário. Deve ter um total de 7 bits (magnitude)\n",
    "    for i in range(7-len(numBinario)):\n",
    "        numBinario.append(0)\n",
    "        \n",
    "    numBinario.append(sinal) # adiciona o sinal\n",
    "   \n",
    "    #Inverte o número\n",
    "    numBinario.reverse()\n",
    "    print(numBinario)"
   ]
  },
  {
   "cell_type": "markdown",
   "id": "5a422013",
   "metadata": {
    "id": "5a422013"
   },
   "source": [
    "18. Leia uma matriz 4 x 4, conte e escreva quantos valores maiores que 10 ela possui."
   ]
  },
  {
   "cell_type": "code",
   "execution_count": null,
   "id": "f09dc756",
   "metadata": {
    "id": "f09dc756",
    "outputId": "7b119e89-2024-4684-ecfb-0e95e46066a9"
   },
   "outputs": [
    {
     "name": "stdout",
     "output_type": "stream",
     "text": [
      "[1, 2, 3, 14]\n",
      "[1, 1, 2, 13]\n",
      "[7, 8, 9, 10]\n",
      "[4, 5, 6, 17]\n",
      "\n",
      "A matriz possui 3 valores maiores que 10.\n"
     ]
    }
   ],
   "source": [
    "'''\n",
    "matriz = [[0, 0, 0, 0], [0, 0, 0, 0], [0, 0, 0, 0], [0, 0, 0, 0]]\n",
    "for linha in range(0, 4):\n",
    "    for coluna in range(0, 4):\n",
    "        resposta = float(input(f\"Digite um valor para [{linha}, {coluna}] : \"))\n",
    "        if resposta < 0 or resposta != int(resposta):\n",
    "            while resposta < 0 or resposta != int(resposta):\n",
    "                resposta = float(input(f\"Digite um valor INTEIRO E POSITIVO para [{linha}, {coluna}]: \"))\n",
    "        if resposta > 0 and resposta == int(resposta):\n",
    "            matriz[linha][coluna] = int(resposta)\n",
    "print('-=' * 30)\n",
    "'''\n",
    "\n",
    "matriz = [[1, 2, 3, 14], [1, 1, 2, 13], [7, 8, 9, 10], [4, 5, 6, 17]]        \n",
    "        \n",
    "for i in range(len(matriz)):\n",
    "    print(matriz[i])\n",
    "\n",
    "#para descobrir quantos valores são maiores que 10:\n",
    "contador = 0\n",
    "for linha in range(0, 4):\n",
    "    for coluna in range(0, 4):\n",
    "        if matriz[linha][coluna] > 10:\n",
    "            contador += 1\n",
    "\n",
    "print(f\"\\nA matriz possui {contador} valores maiores que 10.\")\n",
    " "
   ]
  },
  {
   "cell_type": "markdown",
   "id": "6a6ca319",
   "metadata": {
    "id": "6a6ca319"
   },
   "source": [
    "19. Declare uma matriz 5 x 5. Preencha com 1 a diagonal principal e com 0 os demais elementos. Escreva ao ﬁnal a matriz obtida."
   ]
  },
  {
   "cell_type": "code",
   "execution_count": null,
   "id": "f1626150",
   "metadata": {
    "id": "f1626150",
    "outputId": "e3c7dfad-e300-4c6b-8351-d6d4fd870bc3"
   },
   "outputs": [
    {
     "name": "stdout",
     "output_type": "stream",
     "text": [
      "[1, 0, 0, 0, 0]\n",
      "[0, 1, 0, 0, 0]\n",
      "[0, 0, 1, 0, 0]\n",
      "[0, 0, 0, 1, 0]\n",
      "[0, 0, 0, 0, 1]\n"
     ]
    }
   ],
   "source": [
    "matriz = [[0, 0, 0, 0, 0], [0, 0, 0, 0, 0], [0, 0, 0, 0, 0], [0, 0, 0, 0, 0], [0, 0, 0, 0, 0]]\n",
    "for linha in range(5):\n",
    "    for coluna in range(5):\n",
    "        if linha == coluna:  # se a posição atual estiver na diagonal principal\n",
    "            matriz[linha][coluna] = 1  # atribui o valor 1\n",
    "\n",
    "for linha in matriz:\n",
    "    print(linha)"
   ]
  },
  {
   "cell_type": "markdown",
   "id": "d58f2f78",
   "metadata": {
    "id": "d58f2f78"
   },
   "source": [
    "20. Leia uma matriz 5 x 5. Leia também um valor X. O programa deverá fazer uma busca desse valor na matriz e, ao ﬁnal, escrever a localizacão (linha e coluna) ou uma mensagem de “não encontrado”."
   ]
  },
  {
   "cell_type": "code",
   "execution_count": null,
   "id": "c214372f",
   "metadata": {
    "id": "c214372f",
    "outputId": "af594236-0e27-47d1-df5c-eefead11baea"
   },
   "outputs": [
    {
     "name": "stdout",
     "output_type": "stream",
     "text": [
      "Digite um valor para procurar na matriz: 10\n",
      "O elemento 10.0 foi encontrado na posição [2, 3]\n"
     ]
    }
   ],
   "source": [
    "'''\n",
    "matriz = [[0, 0, 0, 0, 0], [0, 0, 0, 0, 0], [0, 0, 0, 0, 0], [0, 0, 0, 0, 0], [0, 0, 0, 0, 0]]\n",
    "for linha in range(0, 5):\n",
    "    for coluna in range(0, 5):\n",
    "        resposta = float(input(f\"Digite um valor para [{linha}, {coluna}] : \"))\n",
    "        if resposta < 0 or resposta != int(resposta):\n",
    "            while resposta < 0 or resposta != int(resposta):\n",
    "                resposta = float(input(f\"Digite um valor INTEIRO E POSITIVO para [{linha}, {coluna}]: \"))\n",
    "        if resposta > 0 and resposta == int(resposta):\n",
    "            matriz[linha][coluna] = int(resposta)\n",
    "print('-=' * 30)\n",
    "'''\n",
    "\n",
    "matriz = [[1, 2, 3, 14, 32], [1, 4, 2, 13, 77], [7, 8, 9, 10, 5], [4, 5, 6, 17, 20]]  \n",
    "\n",
    "elementoAProcurar = float(input('Digite um valor para procurar na matriz: '))\n",
    "\n",
    "achou = False\n",
    "posicao = []\n",
    "\n",
    "for linha in range(len(matriz)):\n",
    "    for coluna in range(len(matriz[linha])):\n",
    "        if matriz[linha][coluna] == elementoAProcurar:\n",
    "            posicao = [linha, coluna]\n",
    "            achou = True\n",
    "\n",
    "if achou:\n",
    "    print(f'O elemento {elementoAProcurar} foi encontrado na posição {posicao}')\n",
    "else:\n",
    "    print('O elemento não foi encontrado na matriz.')\n"
   ]
  },
  {
   "cell_type": "markdown",
   "id": "ba86413d",
   "metadata": {
    "id": "ba86413d"
   },
   "source": [
    "21. Leia duas matrizes 4x4 e escreva uma terceira com os maiores valores de\n",
    "cada posição das matrizes lidas."
   ]
  },
  {
   "cell_type": "code",
   "execution_count": null,
   "id": "1087b535",
   "metadata": {
    "id": "1087b535",
    "outputId": "a9da092f-cccf-4649-b966-1a9b6e38e704"
   },
   "outputs": [
    {
     "name": "stdout",
     "output_type": "stream",
     "text": [
      "[16, 15, 14, 13]\n",
      "[12, 11, 10, 9]\n",
      "[9, 10, 11, 12]\n",
      "[13, 14, 15, 16]\n"
     ]
    }
   ],
   "source": [
    "'''\n",
    "matriz1 = []\n",
    "matriz2 = []\n",
    "\n",
    "print(\"Digite os elementos da primeira matriz 4x4:\")\n",
    "for i in range(4):\n",
    "    linha = []\n",
    "    for j in range(4):\n",
    "        elemento = int(input(f\"Digite o elemento [{i}][{j}]: \"))\n",
    "        linha.append(elemento)\n",
    "    matriz1.append(linha)\n",
    "    \n",
    "print(\"Digite os elementos da segunda matriz 4x4:\")\n",
    "for i in range(4):\n",
    "    linha = []\n",
    "    for j in range(4):\n",
    "        elemento = int(input(f\"Digite o elemento [{i}][{j}]: \"))\n",
    "        linha.append(elemento)\n",
    "    matriz2.append(linha)\n",
    "'''\n",
    "matriz1 = [[1, 2, 3, 4], [5, 6, 7, 8], [9, 10, 11, 12], [13, 14, 15, 16]]\n",
    "matriz2 = [[16, 15, 14, 13], [12, 11, 10, 9], [8, 7, 6, 5], [4, 3, 2, 1]]\n",
    "\n",
    "matriz_resultante = []\n",
    "for i in range(4):\n",
    "    linha = []\n",
    "    for j in range(4):\n",
    "        maior = max(matriz1[i][j], matriz2[i][j])\n",
    "        linha.append(maior)\n",
    "    matriz_resultante.append(linha)\n",
    "\n",
    "for i in range(len(matriz_resultante)):\n",
    "    print(matriz_resultante[i])"
   ]
  },
  {
   "cell_type": "markdown",
   "id": "f0ed1988",
   "metadata": {
    "id": "f0ed1988"
   },
   "source": [
    "22. Gerar e imprimir uma matriz de tamanho 10 x 10, onde seus elementos são da\n",
    "forma:\n",
    "a. A[i][j] = 2i + 7j −2 se i &lt; j;\n",
    "b. A[i][j] = 3i 2 −1 se i = j;\n",
    "c. A[i][j] = 4i 3 −5j 2 + 1 se i &gt; j."
   ]
  },
  {
   "cell_type": "code",
   "execution_count": 1,
   "id": "8c546b53",
   "metadata": {
    "colab": {
     "base_uri": "https://localhost:8080/"
    },
    "id": "8c546b53",
    "outputId": "148a2e6f-5cb7-476e-b1ae-057d621088fb"
   },
   "outputs": [
    {
     "name": "stdout",
     "output_type": "stream",
     "text": [
      "[-1, 5, 12, 19, 26, 33, 40, 47, 54, 61]\n",
      "[5, 2, 14, 21, 28, 35, 42, 49, 56, 63]\n",
      "[33, 28, 11, 23, 30, 37, 44, 51, 58, 65]\n",
      "[109, 104, 89, 26, 32, 39, 46, 53, 60, 67]\n",
      "[257, 252, 237, 212, 47, 41, 48, 55, 62, 69]\n",
      "[501, 496, 481, 456, 421, 74, 50, 57, 64, 71]\n",
      "[865, 860, 845, 820, 785, 740, 107, 59, 66, 73]\n",
      "[1373, 1368, 1353, 1328, 1293, 1248, 1193, 146, 68, 75]\n",
      "[2049, 2044, 2029, 2004, 1969, 1924, 1869, 1804, 191, 77]\n",
      "[2917, 2912, 2897, 2872, 2837, 2792, 2737, 2672, 2597, 242]\n"
     ]
    }
   ],
   "source": [
    "matriz = []\n",
    "\n",
    "for i in range(10):\n",
    "  matriz.append([])\n",
    "  for j in range(10):\n",
    "    matriz[i].append(0)\n",
    "\n",
    "for i in range(10):\n",
    "  for j in range(10):\n",
    "    if i < j:\n",
    "      matriz[i][j] = 2*i + 7*j - 2 \n",
    "    else:\n",
    "      if i == j:\n",
    "        matriz[i][j] = 3*(i**2) - 1 \n",
    "      else:\n",
    "        if i > j:\n",
    "            matriz[i][j] = 4*(i**3) - 5*(j**2) + 1 \n",
    "\n",
    "for i in range(len(matriz)):\n",
    "  print(matriz[i])\n"
   ]
  },
  {
   "cell_type": "markdown",
   "id": "a1fa2bfc",
   "metadata": {
    "id": "a1fa2bfc"
   },
   "source": [
    "23. Leia uma matriz de 3 x 3 elementos. Calcule a soma dos elementos que estão\n",
    "acima da diagonal principal."
   ]
  },
  {
   "cell_type": "code",
   "execution_count": null,
   "id": "846b8cc6",
   "metadata": {
    "id": "846b8cc6",
    "outputId": "733b03cd-c015-4534-fcd6-5b1454a53357"
   },
   "outputs": [
    {
     "name": "stdout",
     "output_type": "stream",
     "text": [
      "Digite os elementos da matriz 3x3:\n",
      "Digite o elemento [0][0]: 1\n",
      "Digite o elemento [0][1]: 2\n",
      "Digite o elemento [0][2]: 3\n",
      "Digite o elemento [1][0]: 1\n",
      "Digite o elemento [1][1]: 2\n",
      "Digite o elemento [1][2]: 3\n",
      "Digite o elemento [2][0]: 1\n",
      "Digite o elemento [2][1]: 2\n",
      "Digite o elemento [2][2]: 3\n",
      "A soma dos elementos acima da diagonal principal é: 8\n"
     ]
    }
   ],
   "source": [
    "matriz = []\n",
    "\n",
    "print(\"Digite os elementos da matriz 3x3:\")\n",
    "for i in range(3):\n",
    "    linha = []\n",
    "    for j in range(3):\n",
    "        elemento = float(input(f\"Digite o elemento [{i}][{j}]: \"))\n",
    "        linha.append(elemento)\n",
    "    matriz.append(linha)\n",
    "\n",
    "soma = 0\n",
    "for i in range(3):\n",
    "    for j in range(3):\n",
    "        if j > i:\n",
    "            soma += matriz[i][j]\n",
    "            \n",
    "print(\"A soma dos elementos acima da diagonal principal é:\", soma)"
   ]
  },
  {
   "cell_type": "markdown",
   "id": "b576ccca",
   "metadata": {
    "id": "b576ccca"
   },
   "source": [
    "24. Leia uma matriz de 3 x 3 elementos. Calcule a soma dos elementos que estão\n",
    "na diagonal principal."
   ]
  },
  {
   "cell_type": "code",
   "execution_count": null,
   "id": "2b819d55",
   "metadata": {
    "colab": {
     "base_uri": "https://localhost:8080/"
    },
    "id": "2b819d55",
    "outputId": "0c49160b-53ad-4bae-90ea-d65b5773a7a5"
   },
   "outputs": [
    {
     "name": "stdout",
     "output_type": "stream",
     "text": [
      "A soma dos elementos da diagonal principal é: 6\n"
     ]
    }
   ],
   "source": [
    "'''\n",
    "matriz = []\n",
    "print(\"Digite os elementos da matriz 3x3:\")\n",
    "for i in range(3):\n",
    "    linha = []\n",
    "    for j in range(3):\n",
    "        elemento = float(input(f\"Digite o elemento [{i}][{j}]: \"))\n",
    "        linha.append(elemento)\n",
    "    matriz.append(linha)\n",
    "'''\n",
    "\n",
    "matriz = [[1, 2, 3], [1, 2, 3], [1, 2, 3]]\n",
    "soma = 0\n",
    "for i in range(3):   \n",
    "    soma += matriz[i][i]\n",
    "\n",
    "print(\"A soma dos elementos da diagonal principal é:\", soma)"
   ]
  },
  {
   "cell_type": "markdown",
   "id": "8fd100b1",
   "metadata": {
    "id": "8fd100b1"
   },
   "source": [
    "25. Leia uma matriz de 3 x 3 elementos. Calcule a soma dos elementos que estão\n",
    "na diagonal secundária."
   ]
  },
  {
   "cell_type": "code",
   "execution_count": null,
   "id": "9f1a3122",
   "metadata": {
    "colab": {
     "base_uri": "https://localhost:8080/"
    },
    "id": "9f1a3122",
    "outputId": "f3f65744-e35c-4212-8acf-59139e211b7f"
   },
   "outputs": [
    {
     "name": "stdout",
     "output_type": "stream",
     "text": [
      "Digite os elementos da matriz 3x3:\n",
      "Digite o elemento [0][0]: 1\n",
      "Digite o elemento [0][1]: 2\n",
      "Digite o elemento [0][2]: 3\n",
      "Digite o elemento [1][0]: 4\n",
      "Digite o elemento [1][1]: 5\n",
      "Digite o elemento [1][2]: 6\n",
      "Digite o elemento [2][0]: 7\n",
      "Digite o elemento [2][1]: 8\n",
      "Digite o elemento [2][2]: 9\n",
      "A soma dos elementos da diagonal secundária é 15.0\n"
     ]
    }
   ],
   "source": [
    "'''\n",
    "matriz = []\n",
    "print(\"Digite os elementos da matriz 3x3:\")\n",
    "for i in range(3):\n",
    "    linha = []\n",
    "    for j in range(3):\n",
    "        elemento = float(input(f\"Digite o elemento [{i}][{j}]: \"))\n",
    "        linha.append(elemento)\n",
    "    matriz.append(linha)\n",
    "'''\n",
    "\n",
    "matriz = [[1, 2, 3], [1, 2, 3], [1, 2, 3]]\n",
    "\n",
    "soma = 0\n",
    "for i in range(3):\n",
    "    for j in range(3):\n",
    "        if j == 2 - i:\n",
    "            soma += matriz[i][j]\n",
    "print(\"A soma dos elementos da diagonal secundária é\", soma)"
   ]
  },
  {
   "cell_type": "markdown",
   "id": "4ba93bd7",
   "metadata": {
    "id": "4ba93bd7"
   },
   "source": [
    "26. Escreva um programa que transforme uma matriz 4x4 numa matriz triangular\n",
    "inferior, ou seja, atribuindo zero a todos os elementos acima da diagonal\n",
    "principal. Imprima a matriz original e a matriz transformada."
   ]
  },
  {
   "cell_type": "code",
   "execution_count": null,
   "id": "f4de6d42",
   "metadata": {
    "colab": {
     "base_uri": "https://localhost:8080/"
    },
    "id": "f4de6d42",
    "outputId": "84c887f0-87a5-4189-c6a2-2e68ee07deec"
   },
   "outputs": [
    {
     "name": "stdout",
     "output_type": "stream",
     "text": [
      "Matriz original:\n",
      "[1, 2, 3, 4]\n",
      "[5, 6, 7, 8]\n",
      "[1, 2, 3, 4]\n",
      "[5, 6, 7, 8]\n",
      "\n",
      "Matriz transformada:\n",
      "[1, 0, 0, 0]\n",
      "[5, 6, 0, 0]\n",
      "[1, 2, 3, 0]\n",
      "[5, 6, 7, 8]\n"
     ]
    }
   ],
   "source": [
    "matriz = [[1, 2, 3, 4], [5, 6, 7, 8], [1, 2, 3, 4], [5, 6, 7, 8]]\n",
    "\n",
    "print('Matriz original:')\n",
    "for i in range(len(matriz)):\n",
    "    print(matriz[i])\n",
    "\n",
    "for i in range(4):\n",
    "    for j in range(4):\n",
    "        if j > i:\n",
    "            matriz[i][j] = 0\n",
    "\n",
    "print('\\nMatriz transformada:')\n",
    "for i in range(len(matriz)):\n",
    "    print(matriz[i])"
   ]
  },
  {
   "cell_type": "markdown",
   "id": "a2d4c05c",
   "metadata": {
    "id": "a2d4c05c"
   },
   "source": [
    "27. Faça um programa que leia duas matrizes 2 x 2 com valores reais. Ofereça ao\n",
    "usuário um menu de opções: (a) somar as duas matrizes (b) subtrair a primeira\n",
    "matriz da segunda (c) adicionar uma constante `as duas matrizes (d) imprimir\n",
    "as matrizes. Nas duas primeiras opções uma terceira matriz deve ser criada.\n",
    "Na terceira opção o valor da constante deve ser lido e o resultado da adição da\n",
    "constante deve ser armazenado na própria matriz."
   ]
  },
  {
   "cell_type": "code",
   "execution_count": null,
   "id": "f2b5a487",
   "metadata": {
    "colab": {
     "base_uri": "https://localhost:8080/"
    },
    "id": "f2b5a487",
    "outputId": "a54e66a1-4caf-42f2-9534-83bd88a82423"
   },
   "outputs": [
    {
     "name": "stdout",
     "output_type": "stream",
     "text": [
      "-=-=-=-=-=-=-=-=-=-=-=-=-=-=-=-=-=-=-=-=-=-=-=-=-=\n",
      "MENU DE OPÇÕES:\n",
      "\n",
      "a) Somar as duas matrizes\n",
      "b) Subtrair a primeira matriz da segunda\n",
      "c) Adicionar uma constante às duas matrizes\n",
      "d) Imprimir as matrizes\n",
      "\n",
      "Digite 0 para sair: \n",
      "-------------------------\n",
      "Informe qual operação deseja realizar (a, b, c ou d): a\n",
      "\n",
      "O resultado da soma da matriz 1 com a matriz 2 é:\n",
      "[7, 8]\n",
      "[8, 9]\n",
      "-------------------------\n",
      "Informe qual operação deseja realizar (a, b, c ou d): b\n",
      "\n",
      "O resultado da subtração da matriz 1 com a matriz 2 é:\n",
      "[-3, -2]\n",
      "[-4, -3]\n",
      "-------------------------\n",
      "Informe qual operação deseja realizar (a, b, c ou d): 0\n",
      "PROGRAMA ENCERRADO.\n"
     ]
    }
   ],
   "source": [
    "'''  \n",
    "matriz1 = [[0, 0], [0, 0]]\n",
    "matriz2 = [[0, 0], [0, 0]]\n",
    "\n",
    "print(\"Digite os valores para a primeira matriz:\")\n",
    "for i in range(2):\n",
    "    for j in range(2):\n",
    "        matriz1[i][j] = float(input(f\"Digite o valor da posição ({i}, {j}): \"))\n",
    "\n",
    "print(\"Digite os valores para a segunda matriz:\")\n",
    "for i in range(2):\n",
    "    for j in range(2):\n",
    "        matriz2[i][j] = float(input(f\"Digite o valor da posição ({i}, {j}): \"))\n",
    "'''      \n",
    "matriz1 = [[5, 5], [6, 6]]\n",
    "matriz2 = [[2, 3], [2, 3]]\n",
    "    \n",
    "print(f\"\"\"{'-=' * 25}\n",
    "MENU DE OPÇÕES:\n",
    "\n",
    "a) Somar as duas matrizes\n",
    "b) Subtrair a primeira matriz da segunda\n",
    "c) Adicionar uma constante às duas matrizes\n",
    "d) Imprimir as matrizes\n",
    "\"\"\")\n",
    "\n",
    "print('Digite 0 para sair: ')\n",
    "operacao = 'a'\n",
    "while operacao != '0':\n",
    "    print('-' * 25)\n",
    "    operacao = (input('Informe qual operação deseja realizar (a, b, c ou d): '))\n",
    "\n",
    "    if operacao == 'a' or operacao == 'A':\n",
    "        #soma de matrizes\n",
    "        matriz3 = [[0, 0], [0, 0]]       \n",
    "        for i in range(len(matriz1)):\n",
    "            for j in range(len(matriz1)):\n",
    "                matriz3[i][j] = matriz1[i][j] + matriz2[i][j]\n",
    "        print('\\nO resultado da soma da matriz 1 com a matriz 2 é:')\n",
    "        for i in range(len(matriz3)):\n",
    "            print(matriz3[i])\n",
    "\n",
    "    elif operacao == 'b' or operacao == 'B':\n",
    "        #subtraição de matrizes\n",
    "        matriz3 = [[0, 0], [0, 0]]  \n",
    "        for i in range(len(matriz1)):\n",
    "            for j in range(len(matriz1)):\n",
    "                matriz3[i][j] = matriz2[i][j] - matriz1[i][j]\n",
    "        print('\\nO resultado da subtração da matriz 1 com a matriz 2 é:')\n",
    "        for i in range(len(matriz3)):\n",
    "            print(matriz3[i])\n",
    "\n",
    "    elif operacao == 'c' or operacao == 'C':\n",
    "        num = int(input('Qual constante deseja adicionar:'))\n",
    "        for i in range(len(matriz1)):\n",
    "            for j in range(len(matriz1[0])):\n",
    "              matriz1[i][j] = matriz1[i][j] + num\n",
    "              matriz2[i][j] = matriz2[i][j] + num\n",
    "\n",
    "        print('Matrizes com constantes adicionadas.')\n",
    "\n",
    "        print('Matriz 1:')\n",
    "        for i in range(len(matriz1)):\n",
    "            print(matriz1[i])\n",
    "        print('Matriz 2:')\n",
    "        for i in range(len(matriz2)):\n",
    "            print(matriz2[1])\n",
    "\n",
    "    elif operacao == 'd' or operacao == 'D':\n",
    "        print('Matriz 1:')\n",
    "        for i in range(len(matriz1)):\n",
    "            print(matriz1[i])\n",
    "        print('Matriz 2:')\n",
    "        for i in range(len(matriz2)):\n",
    "            print(matriz2[1])\n",
    "            \n",
    "    elif operacao == '0':\n",
    "        print('PROGRAMA ENCERRADO.')\n",
    "        \n",
    "    else:\n",
    "        print('Valor inválido. Digite novamente.')\n",
    "    "
   ]
  },
  {
   "cell_type": "markdown",
   "id": "24579baa",
   "metadata": {
    "id": "24579baa"
   },
   "source": [
    "28. Escreva um programa em Python para corrigir uma prova com 10 questões de\n",
    "múltipla escolha (a, b, c, d ou e), em uma turma com 15 alunos. Cada questão\n",
    "vale 1 ponto. Leia o gabarito apenas uma vez, e para cada aluno leia sua\n",
    "matricula (número inteiro) e suas respostas. Calcule e escreva para cada aluno:\n",
    "sua matrícula, suas respostas, e sua nota. OBS: utilizar matrizes na solução."
   ]
  },
  {
   "cell_type": "code",
   "execution_count": null,
   "id": "c6bd1039",
   "metadata": {
    "id": "c6bd1039"
   },
   "outputs": [],
   "source": [
    "matrizAlunos = []\n",
    "gabarito = [\"a\", \"b\",\"a\", \"b\",\"a\", \"b\",\"a\", \"b\",\"a\", \"b\"]\n",
    "\n",
    "for i in range(2): # 15, para todos os 15 alunos\n",
    "    linha = []\n",
    "    contrespostasCertas = 0\n",
    "    matricula = int(input())\n",
    "    linha.append(matricula)\n",
    "    for i in range(10):\n",
    "        resposta = input(\"Resposta questão \" + str(i+1))\n",
    "        linha.append(resposta)\n",
    "        if resposta == gabarito[i]:\n",
    "            contrespostasCertas += 1\n",
    "    linha.append(contrespostasCertas)\n",
    "    matrizAlunos.append(linha)\n",
    "    \n",
    "print(\"g= \", gabarito)\n",
    "\n",
    "for i in range(len(matrizAlunos)):\n",
    "    print(matrizAlunos[i])\n",
    "    \n",
    "print(matrizAlunos)"
   ]
  },
  {
   "cell_type": "markdown",
   "id": "4535d465",
   "metadata": {
    "id": "4535d465"
   },
   "source": [
    "29. Uma loja vende sapatos femininos de três marcas: A, B e C e tamanhos de 35 a 40. O gerente da loja lhe solicitou um programa para manipular dados referentes ao estoque desta loja. Desta forma, você deve ler para cada marca de sapato e numeração a sua respectiva quantidade e informar a numeração que possui a maior quantidade em estoque. A seguir é apresentado um exemplo de tabela com\n",
    "os dados do estoque.\n",
    "\n",
    "Tamanhos\n",
    "\n",
    "Numeração com maior\n",
    "quantidade em estoque: 36 (270\n",
    "\n",
    "unidades)\n",
    "OBS: a solução deve utilizar\n",
    "matrizes.\n",
    "\n",
    "3\n",
    "5\n",
    "36 3\n",
    "7\n",
    "38 3\n",
    "9\n",
    "4\n",
    "0\n",
    "\n",
    "Marca\n",
    "A\n",
    "3\n",
    "0\n",
    "50 2\n",
    "0\n",
    "20 1\n",
    "8\n",
    "1\n",
    "0\n",
    "\n",
    "Marca\n",
    "B\n",
    "4\n",
    "0\n",
    "10\n",
    "0\n",
    "3\n",
    "0\n",
    "10 1\n",
    "8\n",
    "3\n",
    "\n",
    "Marca\n",
    "C\n",
    "5\n",
    "0\n",
    "12\n",
    "0\n",
    "6\n",
    "5\n",
    "11 4 6"
   ]
  },
  {
   "cell_type": "code",
   "execution_count": null,
   "id": "5e0277fa",
   "metadata": {
    "colab": {
     "base_uri": "https://localhost:8080/"
    },
    "id": "5e0277fa",
    "outputId": "a0cb85e8-4fec-47aa-ebdc-7fb737ac080c"
   },
   "outputs": [
    {
     "name": "stdout",
     "output_type": "stream",
     "text": [
      "O tamanho com maior quantidade de sapatos em estoque é: 36, com 270 unidades.\n"
     ]
    }
   ],
   "source": [
    "'''\n",
    "estoque = [[0]*6 for i in range(3)]\n",
    "# Inserir a quantidade de sapatos em estoque para cada marca e tamanho\n",
    "for i in range(3):\n",
    "    if i == 0:\n",
    "      print(f\"Insira a quantidade de sapatos da marca A:\")\n",
    "    elif i == 1:\n",
    "        print(f\"Insira a quantidade de sapatos da marca B:\")\n",
    "    elif i == 2:\n",
    "        print(f\"Insira a quantidade de sapatos da marca C:\")\n",
    "    for j in range(6):\n",
    "        tamanho = 35+j\n",
    "        quantidade = int(input(f\"Tamanho {tamanho}:\\n\"))\n",
    "        estoque[i][j] = quantidade\n",
    "print(estoque)\n",
    "'''\n",
    "estoque = [[30, 50, 20, 20, 18, 10], [40, 100, 30, 10, 18, 3], [50, 120, 65, 11, 4, 6]]\n",
    "\n",
    "# Encontrar o tamanho com a maior quantidade de sapatos em estoque\n",
    "maior_quantidade = 0\n",
    "tamanho_max = 35\n",
    "for j in range(6):\n",
    "    quantidade_total = sum([estoque[i][j] for i in range(3)])\n",
    "    if quantidade_total > maior_quantidade:\n",
    "        maior_quantidade = quantidade_total\n",
    "        tamanho_max = 35+j\n",
    "\n",
    "# Imprimir o tamanho com a maior quantidade de sapatos em estoque\n",
    "print(f\"O tamanho com maior quantidade de sapatos em estoque é: {tamanho_max}, com {maior_quantidade} unidades.\")\n"
   ]
  },
  {
   "cell_type": "markdown",
   "id": "3e975cd3",
   "metadata": {
    "id": "3e975cd3"
   },
   "source": [
    "30. Um produtor agrícola lhe contratou para desenvolver um sistema de controle de grãos\n",
    "produzidos em três regiões; Sul, Sudeste e Centro-Oeste. A ideia da solução consistem\n",
    "em inserir a quantidade de grãos produzidos por cada região nos anos de 2017 e 2018\n",
    "e ao final o programa deve gerar uma nova matriz com previsão de produção para o\n",
    "ano de 2019. A previsão é calculada a partir da porcentagem de crescimento para cada\n",
    "tipo de grão, que se mantém fixa a cada ano. A seguir é apresentado um exemplo de\n",
    "tabelas com os dados fornecidos pelo produtor.\n",
    "\n",
    "Ano de 2017\n",
    "\n",
    "Produção de Grãos (miT)\n",
    "Soja Feijão Arroz Milho\n",
    "Sudeste 100 200 300 400\n",
    "\n",
    "Centro-Oeste 2700 450 600 1000\n",
    "Sul 600 400 550 450\n",
    "\n",
    "Ano de 2018\n",
    "\n",
    "Produção de Grãos (miT)\n",
    "Soja Feijão Arroz Milho\n",
    "Sudeste 130 230 600 500\n",
    "Centro-Oeste 3000 500 700 1200\n",
    "Sul 800 450 700 600\n",
    "\n",
    "Ano de 2019\n",
    "\n",
    "Previsão da Produção de Grãos (miT)\n",
    "Soja Feijão Arroz Milho\n",
    "\n",
    "Sudeste 169\n",
    "(30%)\n",
    "264,5\n",
    "(15%)\n",
    "\n",
    "1200\n",
    "(100%)\n",
    "625\n",
    "(25%)\n",
    "\n",
    "Centro-Oeste\n",
    "Sul"
   ]
  },
  {
   "cell_type": "code",
   "execution_count": null,
   "id": "aa4d6a2b",
   "metadata": {
    "id": "aa4d6a2b"
   },
   "outputs": [],
   "source": [
    "ano_2017 = [[100,200,300,400],[2700,450,600,1200],[600,400,550,450]]\n",
    "\n",
    "ano_2018 = [[130,230,600,500],[3000,500,700,1200],[500,200,200,100]]\n",
    "\n",
    "ano_2019 = [[0,0,0,0],[0,0,0,0],[0,0,0,0]]\n",
    "\n",
    "\n",
    "#ano_2017 = [] \n",
    "#for i in range(3): \n",
    "#    linha = [] \n",
    "#    for j in range(4): \n",
    "#        linha.append(int(input('Informe a quantidade de grãos'))) \n",
    "#    ano_2017.append(linha)\n",
    "\n",
    "\n",
    "for i in range(len(ano_2017)):\n",
    "    for j in range(len(ano_2017[0])):\n",
    "        porcentagem = (ano_2018[i][j] - ano_2017[i][j])/ano_2017[i][j]\n",
    "        ano_2019[i][j] = (1 + porcentagem) * ano_2018[i][j]\n",
    "\n",
    "\n",
    "for i in range(len(ano_2019)):\n",
    "    print(ano_2019[i])"
   ]
  }
 ],
 "metadata": {
  "colab": {
   "provenance": []
  },
  "kernelspec": {
   "display_name": "Python 3 (ipykernel)",
   "language": "python",
   "name": "python3"
  },
  "language_info": {
   "codemirror_mode": {
    "name": "ipython",
    "version": 3
   },
   "file_extension": ".py",
   "mimetype": "text/x-python",
   "name": "python",
   "nbconvert_exporter": "python",
   "pygments_lexer": "ipython3",
   "version": "3.10.9"
  }
 },
 "nbformat": 4,
 "nbformat_minor": 5
}
