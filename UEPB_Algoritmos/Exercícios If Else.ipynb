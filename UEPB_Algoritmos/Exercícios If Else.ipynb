{
  "cells": [
    {
      "cell_type": "markdown",
      "metadata": {
        "id": "t-BNohOZ7vJJ"
      },
      "source": [
        "# Lista de exercícios I \n"
      ]
    },
    {
      "cell_type": "markdown",
      "metadata": {
        "id": "G02FLd-J-JPj"
      },
      "source": [
        "**1. Faça um programa que peça um número e então mostre a mensagem: O número informado foi [número].**"
      ]
    },
    {
      "cell_type": "code",
      "execution_count": 1,
      "metadata": {
        "id": "0VdyZC2uOGl7",
        "colab": {
          "base_uri": "https://localhost:8080/"
        },
        "outputId": "c1b970d5-e78f-4b2f-fa7e-2e0a74731269"
      },
      "outputs": [
        {
          "output_type": "stream",
          "name": "stdout",
          "text": [
            "Digite um número: 5\n",
            "O número informado foi 5.0\n"
          ]
        }
      ],
      "source": [
        "n= float(input('Digite um número: '))\n",
        "print('O número informado foi', n)"
      ]
    },
    {
      "cell_type": "markdown",
      "metadata": {
        "id": "ljNmgpMx-W__"
      },
      "source": [
        "**2. Faça um programa que peça dois números e imprima a soma.**"
      ]
    },
    {
      "cell_type": "code",
      "execution_count": null,
      "metadata": {
        "colab": {
          "base_uri": "https://localhost:8080/"
        },
        "id": "1UOpqiXxq568",
        "outputId": "76766cf0-40b7-41e1-e905-19c686cd7b15"
      },
      "outputs": [
        {
          "name": "stdout",
          "output_type": "stream",
          "text": [
            "Digite um número: 6.2894\n",
            "Digite outro número: 9.18489\n",
            "O resultado da soma é 15.47\n"
          ]
        }
      ],
      "source": [
        "n1= float(input('Digite um número: '))\n",
        "n2= float(input('Digite outro número: '))\n",
        "soma = n1 + n2\n",
        "print('O resultado da soma é {:.2f}.'.format(soma))"
      ]
    },
    {
      "cell_type": "markdown",
      "metadata": {
        "id": "koVjammB-ctE"
      },
      "source": [
        "**3. Faça um Programa que peça as 4 notas bimestrais e mostre a média.**"
      ]
    },
    {
      "cell_type": "code",
      "execution_count": null,
      "metadata": {
        "colab": {
          "base_uri": "https://localhost:8080/"
        },
        "id": "E80ddVV6s1V-",
        "outputId": "13f46be9-3d5a-411b-8596-69ddcdd8c053"
      },
      "outputs": [
        {
          "name": "stdout",
          "output_type": "stream",
          "text": [
            "Nota do 1º bimestre: 7.3\n",
            "Nota do 2º bimestre: 8.2\n",
            "Nota do 3º bimestre: 9.4\n",
            "Nota do 4º bimestre: 6.6\n",
            "A média é 7.9\n"
          ]
        }
      ],
      "source": [
        "b1= float(input('Nota do 1º bimestre: '))\n",
        "b2= float(input('Nota do 2º bimestre: '))\n",
        "b3= float(input('Nota do 3º bimestre: '))\n",
        "b4= float(input('Nota do 4º bimestre: '))\n",
        "\n",
        "media = (b1+b2+b3+b4)/4\n",
        "\n",
        "print('A média é {:.1f}.'.format(media))"
      ]
    },
    {
      "cell_type": "markdown",
      "metadata": {
        "id": "88ZC35SQ-ivS"
      },
      "source": [
        "**4. Faça um programa que converta metros para centímetros.**"
      ]
    },
    {
      "cell_type": "code",
      "execution_count": null,
      "metadata": {
        "colab": {
          "base_uri": "https://localhost:8080/"
        },
        "id": "ghoAW_t2w2UD",
        "outputId": "599c7c54-830f-4d54-c8d1-eeecdda71fac"
      },
      "outputs": [
        {
          "name": "stdout",
          "output_type": "stream",
          "text": [
            "Conversão de metros para centímetros\n",
            "Metros: 0.4564787\n",
            "Centímetros: 45.65\n"
          ]
        }
      ],
      "source": [
        "print('Conversão de metros para centímetros')\n",
        "m = float(input('Metros: '))\n",
        "cm= m*100\n",
        "\n",
        "print('Centímetros: {:.2f}'.format(cm))\n"
      ]
    },
    {
      "cell_type": "markdown",
      "metadata": {
        "id": "5BciNXkq-nX1"
      },
      "source": [
        "**5. Faça um Programa que peça o raio de um círculo, calcule e mostre sua área.**"
      ]
    },
    {
      "cell_type": "code",
      "execution_count": null,
      "metadata": {
        "colab": {
          "base_uri": "https://localhost:8080/"
        },
        "id": "S1gtcZzmzFKo",
        "outputId": "580003ed-675a-478c-b928-1087d510024a"
      },
      "outputs": [
        {
          "name": "stdout",
          "output_type": "stream",
          "text": [
            "Raio do círculo: 5\n",
            "A área do círculo é 78.54\n"
          ]
        }
      ],
      "source": [
        "import math\n",
        "raio = float(input('Raio do círculo: '))\n",
        "area = math.pi * (raio**2)\n",
        "print('A área do círculo é {:.2f}'.format(area))"
      ]
    },
    {
      "cell_type": "markdown",
      "metadata": {
        "id": "uOJqv5YW-sij"
      },
      "source": [
        "**6. Faça um programa que calcule a área de um quadrado, em seguida mostre o dobro desta área para o usuário.**"
      ]
    },
    {
      "cell_type": "code",
      "execution_count": null,
      "metadata": {
        "colab": {
          "base_uri": "https://localhost:8080/"
        },
        "id": "roZKVrcfd98w",
        "outputId": "eac004b2-2965-44f6-913c-5e62ebbe135e"
      },
      "outputs": [
        {
          "name": "stdout",
          "output_type": "stream",
          "text": [
            "Valor do lado do quadrado em cm: 5\n",
            "O dobro da área do quadrado é 50.0 cm²\n"
          ]
        }
      ],
      "source": [
        "lado= float(input('Valor do lado do quadrado em cm: '))\n",
        "area= lado**2\n",
        "print('O dobro da área do quadrado é {} cm²'.format(area*2))"
      ]
    },
    {
      "cell_type": "markdown",
      "metadata": {
        "id": "cdtR5NmJ-th6"
      },
      "source": [
        "**7. Faça um Programa que pergunte quanto você ganha por hora e o número de horas trabalhadas no mês. Calcule e mostre o total do seu salário no referido mês.**"
      ]
    },
    {
      "cell_type": "code",
      "execution_count": null,
      "metadata": {
        "colab": {
          "base_uri": "https://localhost:8080/"
        },
        "id": "5i0OrPxvgq46",
        "outputId": "fef8a65d-4a69-4f3a-8ac5-85fa8dcab4b6"
      },
      "outputs": [
        {
          "name": "stdout",
          "output_type": "stream",
          "text": [
            "Quanto você ganha por hora? R$ 7.5\n",
            "Qual o número de horas trabalhadas no mês? 107\n",
            "O seu salário do mês é R$ 802.50\n"
          ]
        }
      ],
      "source": [
        "valor= float(input('Quanto você ganha por hora? R$ '))\n",
        "horas= float(input('Qual o número de horas trabalhadas no mês? '))\n",
        "print('O seu salário do mês é R$ {:.2f}'.format(valor*horas))"
      ]
    },
    {
      "cell_type": "markdown",
      "metadata": {
        "id": "B3nglNiG-uLC"
      },
      "source": [
        "**8. Faça um programa que peça a temperatura em graus Farenheit, transforme e mostre a temperatura em graus Celsius.**"
      ]
    },
    {
      "cell_type": "code",
      "execution_count": null,
      "metadata": {
        "colab": {
          "base_uri": "https://localhost:8080/"
        },
        "id": "WTRm6bnhiRDi",
        "outputId": "f65b0367-826e-47c1-d3df-290767726045"
      },
      "outputs": [
        {
          "name": "stdout",
          "output_type": "stream",
          "text": [
            "Informe a temperatura em graus Fahrenheit: 320\n",
            "Essa temperatura em graus Celsius é 160.0\n"
          ]
        }
      ],
      "source": [
        "f= float(input('Informe a temperatura em graus Fahrenheit: '))\n",
        "c= (f-32)/1.8\n",
        "print('Essa temperatura em graus Celsius é {:.1f}'.format(c))"
      ]
    },
    {
      "cell_type": "markdown",
      "metadata": {
        "id": "NsNn_886-t16"
      },
      "source": [
        "**9. Faça um programa que peça a temperatura em graus Celsius, transforme e mostre em graus Farenheit.**"
      ]
    },
    {
      "cell_type": "code",
      "execution_count": null,
      "metadata": {
        "colab": {
          "base_uri": "https://localhost:8080/"
        },
        "id": "gdzZ9_Xfl77B",
        "outputId": "bcef7e3a-9728-4504-988d-078416b0da8b"
      },
      "outputs": [
        {
          "name": "stdout",
          "output_type": "stream",
          "text": [
            "Informe a temperatura em graus Celsius: 21\n",
            "Essa temperatura em graus Fahrenheit é 69.8\n"
          ]
        }
      ],
      "source": [
        "c= float(input('Informe a temperatura em graus Celsius: '))\n",
        "f= (c*1.8)+32\n",
        "print('Essa temperatura em graus Fahrenheit é {:.1f}'.format(f))"
      ]
    },
    {
      "cell_type": "markdown",
      "metadata": {
        "id": "x1P1SvxsD6lT"
      },
      "source": [
        "**10. Elaborar um algoritmo que efetue a apresentação do valor da conversão em real (R$) de um valor lido em dólar (US). O algoritmo deverá solicitar o valor da cotação do dólar e também a quantidade de dólares disponíveis com o usuário.**"
      ]
    },
    {
      "cell_type": "code",
      "execution_count": null,
      "metadata": {
        "colab": {
          "base_uri": "https://localhost:8080/"
        },
        "id": "h_RW5KhzEIlC",
        "outputId": "3b7021d5-488b-4f07-f269-8101510327fc"
      },
      "outputs": [
        {
          "name": "stdout",
          "output_type": "stream",
          "text": [
            "Qual o valor da cotação do dólar? 5.37\n",
            "Qual a quantidade de dólares? 10\n",
            "10.0 dólares são 53.7 reais.\n"
          ]
        }
      ],
      "source": [
        "cotacao= float(input('Qual o valor da cotação do dólar? '))\n",
        "quantDolar= float(input('Qual a quantidade de dólares? '))\n",
        "real= cotacao*quantDolar\n",
        "print('{} dólares são {:.2f} reais.'.format(quantDolar, real))"
      ]
    },
    {
      "cell_type": "markdown",
      "metadata": {
        "id": "QlFOddO9Fqpj"
      },
      "source": [
        "**11. Faça um algoritmo que receba um valor que foi depositado e exiba o valor com rendimento após um mês. Considere fixo o juro da poupança em 0,70% a. m.**"
      ]
    },
    {
      "cell_type": "code",
      "execution_count": null,
      "metadata": {
        "colab": {
          "base_uri": "https://localhost:8080/"
        },
        "id": "d5hEjGFvFulu",
        "outputId": "3f619aae-ab03-4d99-e08c-e0a8d21373bc"
      },
      "outputs": [
        {
          "name": "stdout",
          "output_type": "stream",
          "text": [
            "Qual o valor do deposito? 50.69\n",
            "O valor depositado após 1 mês de rendimento ficou de R$ 51.04\n"
          ]
        }
      ],
      "source": [
        "deposito= float(input('Qual o valor do deposito? '))\n",
        "juros= deposito * 0.7/100\n",
        "rendimento= deposito + juros\n",
        "print('O valor depositado após 1 mês de rendimento ficou de R$ {:.2f}'.format(rendimento))"
      ]
    },
    {
      "cell_type": "markdown",
      "metadata": {
        "id": "qiGkAdlyIXhx"
      },
      "source": [
        "**12. A Loja Mamão com Açúcar está vendendo seus produtos em 5 (cinco) prestações sem juros. Faça um algoritmo que receba um valor de uma compra e mostre o valor das prestações.**"
      ]
    },
    {
      "cell_type": "code",
      "execution_count": null,
      "metadata": {
        "colab": {
          "base_uri": "https://localhost:8080/"
        },
        "id": "yJ2CJX4JIVLQ",
        "outputId": "d85c1e4e-334a-4801-bd92-35ab140c9397"
      },
      "outputs": [
        {
          "name": "stdout",
          "output_type": "stream",
          "text": [
            "Insira o valor da compra: R$ 501.789\n",
            "O valor de cada prestação fica de R$ 100.36\n"
          ]
        }
      ],
      "source": [
        "valor= float(input('Insira o valor da compra: R$ '))\n",
        "prestacoes= valor/5\n",
        "print('O valor de cada prestação fica de R$ {:.2f}.'.format(prestacoes))"
      ]
    },
    {
      "cell_type": "markdown",
      "metadata": {
        "id": "9QfqKnpPK04R"
      },
      "source": [
        "**13. Faça um algoritmo que receba o preço de custo de um produto e mostre o valor de venda. Sabe-se que o preço de custo receberá um acréscimo de acordo com um percentual informado pelo usuário.**"
      ]
    },
    {
      "cell_type": "code",
      "execution_count": null,
      "metadata": {
        "colab": {
          "base_uri": "https://localhost:8080/"
        },
        "id": "_EQSuwgAK5FT",
        "outputId": "2236ce89-8c5f-4a7e-a492-192ae05d9bb4"
      },
      "outputs": [
        {
          "name": "stdout",
          "output_type": "stream",
          "text": [
            "Preço de custo do produto: R$ 1025\n",
            "Percentual de lucro (%): 0.70\n",
            "O valor de venda deste produto é de R$1032.17\n"
          ]
        }
      ],
      "source": [
        "custo= float(input('Preço de custo do produto: R$ '))\n",
        "acrescimo= float(input('Percentual de lucro (%): '))\n",
        "valorvenda= custo + (custo*acrescimo/100)\n",
        "print('O valor de venda deste produto é de R$ {:.2f}'.format(valorvenda))"
      ]
    },
    {
      "cell_type": "markdown",
      "metadata": {
        "id": "hhM2QhLMr0Gh"
      },
      "source": [
        "**14. Escrever um algoritmo para determinar o consumo médio de um automóvel sendo fornecida a distância total percorrida pelo automóvel e o total de combustível gasto.**"
      ]
    },
    {
      "cell_type": "code",
      "execution_count": null,
      "metadata": {
        "colab": {
          "base_uri": "https://localhost:8080/"
        },
        "id": "pmdy4VZbr4-T",
        "outputId": "79b505b7-b6db-48c7-863a-544f3be54c4b"
      },
      "outputs": [
        {
          "name": "stdout",
          "output_type": "stream",
          "text": [
            "Distância total percorrida (km): 600.59\n",
            "Total de combustível gasto (l): 100\n",
            "O consumo médio do automóvel é de 6.01 km/L\n"
          ]
        }
      ],
      "source": [
        "distancia= float(input('Distância total percorrida (km): '))\n",
        "combustivel= float(input('Total de combustível gasto (l): '))\n",
        "consumo= distancia/combustivel\n",
        "print('O consumo médio do automóvel é de {:.2f} km/L'.format(consumo))"
      ]
    },
    {
      "cell_type": "markdown",
      "metadata": {
        "id": "K9NaQ81Tvy2y"
      },
      "source": [
        "**15. Escreva um programa que leia três números inteiros e positivos (A, B, C) e calcule a seguinte expressão:** \n",
        "\n",
        "D = R + S / 2 , onde\n",
        "\n",
        "R = (A + B)² \n",
        ",\n",
        "S = (B + C)²\n"
      ]
    },
    {
      "cell_type": "code",
      "execution_count": null,
      "metadata": {
        "colab": {
          "base_uri": "https://localhost:8080/"
        },
        "id": "k3kUw7r1_Ukp",
        "outputId": "1a1a8e51-869f-417d-c4d0-b62f538a8f99"
      },
      "outputs": [
        {
          "name": "stdout",
          "output_type": "stream",
          "text": [
            "Digite três números inteiros e positivos:\n",
            "Primeiro número: 8\n",
            "Segundo número: 5\n",
            "Terceiro número: 9\n",
            "O valor de R é [169] e o valor de S é [196]. \n",
            "Calculando a expressão, temos que D = 182\n"
          ]
        }
      ],
      "source": [
        "print('Digite três números inteiros e positivos:')\n",
        "A = float(input('Primeiro número: '))\n",
        "B = float(input('Segundo número: '))\n",
        "C = float(input('Terceiro número: '))\n",
        "\n",
        "if A // 1 != A or B // 1 != B or C // 1 != C:\n",
        "  print('Informe valores inteiros')\n",
        "else:\n",
        "  if A < 0 or B < 0 or C < 0:\n",
        "    print('Digite novamente os números, porém positivos.')\n",
        "  else:\n",
        "    R = ((A + B) ** 2)\n",
        "    S = ((B + C) ** 2)\n",
        "    D = (R + S) / 2\n",
        "    print('O valor de R é [{}] e o valor de S é [{}]. \\nCalculando a expressão, temos que D = {}'.format(int(R),int(S),int(D)))  "
      ]
    },
    {
      "cell_type": "markdown",
      "metadata": {
        "id": "JlQNW5NDAYAR"
      },
      "source": [
        "**16. Escrever um algoritmo que leia o nome de um vendedor, o seu salário fixo e o total de vendas efetuadas por ele no mês (em dinheiro). Sabendo que este vendedor ganha 15% de comissão sobre suas vendas efetuadas, informar o seu nome, o salário fixo e salário no final do mês.**"
      ]
    },
    {
      "cell_type": "code",
      "execution_count": null,
      "metadata": {
        "colab": {
          "base_uri": "https://localhost:8080/"
        },
        "id": "Vm450N8fAoNM",
        "outputId": "3b1f2c26-f0aa-4a17-8b86-747973841a64"
      },
      "outputs": [
        {
          "name": "stdout",
          "output_type": "stream",
          "text": [
            "Nome do vendedor: jose\n",
            "Salário fixo de jose: 1000\n",
            "Valor total de vendas efetuadas por jose no mês (em dinheiro): R$ 1000\n",
            "O vendedor jose recebe um salário fixo de R$ 1000.0. Com a aplicação do bônus de comissão, seu salário final do mês é 1150.00\n"
          ]
        }
      ],
      "source": [
        "nome= str(input('Nome do vendedor: '))\n",
        "salario= float(input('Salário fixo de {}: '.format(nome)))\n",
        "vendas= float(input('Valor total de vendas efetuadas por {} no mês (em dinheiro): R$ '.format(nome)))\n",
        "comissao= vendas * 15/100\n",
        "\n",
        "print('O vendedor {} recebe um salário fixo de R$ {}. Com a aplicação do bônus de comissão, seu salário final do mês é {:.2f}'.format(nome, salario, salario + comissao))"
      ]
    },
    {
      "cell_type": "markdown",
      "metadata": {
        "id": "iGDE1xrqIAA2"
      },
      "source": [
        "**17. Faça um Programa que peça 2 números inteiros e um número real. Calcule e mostre:**\n",
        "*   **O produto do dobro do primeiro com metade do segundo**\n",
        "*   **A soma do triplo do primeiro com o terceiro.**\n",
        "*   **O terceiro elevado ao cubo.**\n",
        "\n",
        "\n",
        "\n"
      ]
    },
    {
      "cell_type": "code",
      "execution_count": null,
      "metadata": {
        "colab": {
          "base_uri": "https://localhost:8080/"
        },
        "id": "Qx7sXElGIjIQ",
        "outputId": "1e319c48-8e3e-4cd1-d88a-d323115f8d8e"
      },
      "outputs": [
        {
          "name": "stdout",
          "output_type": "stream",
          "text": [
            "Informe dois números inteiros:\n",
            "9\n",
            "8\n",
            "Informe um número real:\n",
            "6\n",
            "O produto do dobro do primeiro com metade do segundo é igual a 72.0. \n",
            "A soma do triplo do primeiro com o terceiro é igual a 33.0. \n",
            "O terceiro elevado ao cubo é igual a 216.00.\n"
          ]
        }
      ],
      "source": [
        "print('Informe dois números inteiros:')\n",
        "a= float(input(''))\n",
        "b= float(input(''))\n",
        "\n",
        "if a // 1 != a or b // 1 != b:\n",
        "  print('Informe números inteiros')\n",
        "else:\n",
        "  print('Informe um número real:')\n",
        "  c= float(input(''))\n",
        "\n",
        "  produto= (a*2) * (b/2)\n",
        "  soma= (a*3) + c\n",
        "  cubo= c**3\n",
        "\n",
        "  print('O produto do dobro do primeiro com metade do segundo é igual a {}. \\nA soma do triplo do primeiro com o terceiro é igual a {}. \\nO terceiro elevado ao cubo é igual a {:.2f}.'.format(produto, soma, cubo))\n"
      ]
    },
    {
      "cell_type": "markdown",
      "metadata": {
        "id": "YLYqRoQWL4_I"
      },
      "source": [
        "**18. Tendo como dados de entrada a altura de uma pessoa, construa um algoritmo que calcule seu peso ideal, usando a seguinte fórmula: (72.7*altura) – 58.**"
      ]
    },
    {
      "cell_type": "code",
      "execution_count": null,
      "metadata": {
        "colab": {
          "base_uri": "https://localhost:8080/"
        },
        "id": "zsbawmpLL-LL",
        "outputId": "01625971-41b6-4cc5-96b1-4c966e046e7b"
      },
      "outputs": [
        {
          "name": "stdout",
          "output_type": "stream",
          "text": [
            "Informe a altura (em metros): 1.58\n",
            "Seu peso ideal é 56.9\n"
          ]
        }
      ],
      "source": [
        "altura= float(input('Informe a altura (em metros): '))\n",
        "pesoideal= (72.7*altura)-58\n",
        "print('Seu peso ideal é {:.1f}'.format(pesoideal))"
      ]
    },
    {
      "cell_type": "markdown",
      "metadata": {
        "id": "6_6FW6ZYPMHP"
      },
      "source": [
        "**19. Faça um programa que peça o tamanho de um arquivo para download (em MB) e a velocidade de um link de Internet (em MBps), calcule e informe o tempo aproximado de download do arquivo usando este link (em minutos).**"
      ]
    },
    {
      "cell_type": "code",
      "execution_count": null,
      "metadata": {
        "colab": {
          "base_uri": "https://localhost:8080/"
        },
        "id": "Kql6QD-CPQfb",
        "outputId": "7894afd6-2f71-4c93-8ec6-dbbab6517b78"
      },
      "outputs": [
        {
          "name": "stdout",
          "output_type": "stream",
          "text": [
            "Informe o tamanho do arquivo (em MB): 150\n",
            "Informe a velocidade de internet (MBps): 5\n",
            "O tempo aproximado de download é de 4.00 min\n"
          ]
        }
      ],
      "source": [
        "tamanho= float(input('Informe o tamanho do arquivo (em MB): '))\n",
        "velocidade= float(input('Informe a velocidade de internet (MBps): '))\n",
        "velocidade= tamanho/(velocidade/8)\n",
        "minutos= velocidade/60\n",
        "\n",
        "print('O tempo aproximado de download é de {:.2f} min'.format(minutos))"
      ]
    },
    {
      "cell_type": "markdown",
      "metadata": {
        "id": "Ex66vCwtRMCH"
      },
      "source": [
        "**20. Ler dois valores para as variáveis A e B, e efetuar as trocas dos valores de forma que a variável A passe a possuir o valor da variável B e a variável B passe a possuir o valor da variável A. Apresentar os valores trocados.**"
      ]
    },
    {
      "cell_type": "code",
      "execution_count": null,
      "metadata": {
        "colab": {
          "base_uri": "https://localhost:8080/"
        },
        "id": "rdxmVeWJRPiu",
        "outputId": "ad84d301-fbfb-4417-8142-bdb3a9382197"
      },
      "outputs": [
        {
          "name": "stdout",
          "output_type": "stream",
          "text": [
            "Digite um valor: 1\n",
            "Digite outro valor: 2\n",
            "A = 2.0. \n",
            "B = 1.0\n"
          ]
        }
      ],
      "source": [
        "a= float(input('Digite um valor: '))\n",
        "b= float(input('Digite outro valor: '))\n",
        "\n",
        "aux = a\n",
        "a = b\n",
        "b = aux\n",
        "\n",
        "print('A = {}. \\nB = {}'.format(a, b))\n"
      ]
    },
    {
      "cell_type": "markdown",
      "metadata": {
        "id": "6hipWtXKTm-t"
      },
      "source": [
        "**21. Faça um Programa que pergunte quanto você ganha por hora e o número de horas\n",
        "trabalhadas no mês. Calcule e mostre o total do seu salário no referido mês, sabendo-se que são descontados 11% para o Imposto de Renda, 8% para o INSS e 5% para o sindicato, faça um programa que nos dê:**\n",
        "\n",
        "*   salário bruto\n",
        "*   quanto pagou ao INSS\n",
        "*   quanto pagou ao sindicato\n",
        "*   o salário líquido\n",
        "\n",
        "**Calcule os descontos e o salário líquido, conforme a tabela abaixo:**\n",
        "\n",
        "Salário Bruto : R$\n",
        "*   IR (11%) : RS\n",
        "*   INSS (8%) : RS\n",
        "*   Sindicato ( 5%) : RS\n",
        "*   Salário Liquido : RS\n"
      ]
    },
    {
      "cell_type": "code",
      "execution_count": null,
      "metadata": {
        "colab": {
          "base_uri": "https://localhost:8080/"
        },
        "id": "bOWvrJC-Uo8r",
        "outputId": "6dfa5ba0-f178-4316-b663-cb0dcac86b65"
      },
      "outputs": [
        {
          "name": "stdout",
          "output_type": "stream",
          "text": [
            "Quanto você ganha por hora?: R$ 7.5\n",
            "Informe o número de horas trabalhadas: 105\n",
            "Salário bruto: R$ 787.50. \n",
            "Imposto de renda: R$ 86.62. \n",
            "Sindicato: R$ 39.38. \n",
            "Salário líquido: R$ 598.50\n"
          ]
        }
      ],
      "source": [
        "valorhora= float(input('Quanto você ganha por hora?: R$ '))\n",
        "horastrab= float(input('Informe o número de horas trabalhadas: '))\n",
        "salariobruto= valorhora * horastrab\n",
        "imposto= salariobruto * (11/100)\n",
        "inss= salariobruto * (8/100)\n",
        "sindicato= salariobruto * (5/100)\n",
        "salarioliquido= salariobruto - imposto - inss - sindicato\n",
        "print('Salário bruto: R$ {:.2f}. \\nImposto de renda: R$ {:.2f}. \\nSindicato: R$ {:.2f}. \\nSalário líquido: R$ {:.2f}.'.format(salariobruto, imposto, sindicato, salarioliquido))\n"
      ]
    },
    {
      "cell_type": "markdown",
      "metadata": {
        "id": "BJR-GoWUE7fC"
      },
      "source": [
        "# Lista de exercícios II"
      ]
    },
    {
      "cell_type": "markdown",
      "metadata": {
        "id": "OmWqidm4E_VW"
      },
      "source": [
        "**22. Faça um programa que peça dois números e imprima o maior deles.**"
      ]
    },
    {
      "cell_type": "code",
      "execution_count": null,
      "metadata": {
        "colab": {
          "base_uri": "https://localhost:8080/"
        },
        "id": "3c87PfhOFkSL",
        "outputId": "f0b4b8ca-c72e-405e-973e-79869fe7726a"
      },
      "outputs": [
        {
          "name": "stdout",
          "output_type": "stream",
          "text": [
            "Digite um número: 5\n",
            "Digite outro número: 5.1\n",
            "O número 5.1 é maior que 5.0\n"
          ]
        }
      ],
      "source": [
        "n1 = float(input('Digite um número: '))\n",
        "n2 = float(input('Digite outro número: '))\n",
        "if n1 > n2:\n",
        "  print('O número {} é maior que {}'.format(n1, n2))\n",
        "else:\n",
        "    print('O número {} é maior que {}'.format(n2, n1))\n",
        "  "
      ]
    },
    {
      "cell_type": "markdown",
      "metadata": {
        "id": "b-vb6vkwHmvV"
      },
      "source": [
        "**23. Faça um programa que peça um valor e mostre na tela se o valor é positivo ou negativo.**"
      ]
    },
    {
      "cell_type": "code",
      "execution_count": null,
      "metadata": {
        "colab": {
          "base_uri": "https://localhost:8080/"
        },
        "id": "ylBCxYyFHrLK",
        "outputId": "987dea23-a849-4abf-97cf-3fd738f668f1"
      },
      "outputs": [
        {
          "name": "stdout",
          "output_type": "stream",
          "text": [
            "Digite um número: -2\n",
            "-2.0 é um valor negativo.\n"
          ]
        }
      ],
      "source": [
        "n = float(input('Digite um número: '))\n",
        "if n >= 0:\n",
        "  print(n, 'é um valor positivo.')\n",
        "else:\n",
        "  print(n, 'é um valor negativo.')"
      ]
    },
    {
      "cell_type": "markdown",
      "metadata": {
        "id": "Souk1H2tJGI6"
      },
      "source": [
        "**24. Faça um Programa que verifique se uma letra digitada é &quot;F&quot; ou &quot;M&quot;. Conforme a letra\n",
        "escrever: F - Feminino, M - Masculino, Sexo Inválido.**"
      ]
    },
    {
      "cell_type": "code",
      "execution_count": null,
      "metadata": {
        "colab": {
          "base_uri": "https://localhost:8080/"
        },
        "id": "4p4ZcHjeLDD4",
        "outputId": "933aa1b8-85d2-4e58-9c69-8f97ccf582b7"
      },
      "outputs": [
        {
          "name": "stdout",
          "output_type": "stream",
          "text": [
            "Digite F para Feminino ou M para Masculino: 1\n",
            "Sexo inválido.\n"
          ]
        }
      ],
      "source": [
        "sexo = str(input('Digite F para Feminino ou M para Masculino: '))\n",
        "if sexo == 'F' or sexo == 'f':\n",
        "    print('Sexo feminino.')\n",
        "else:\n",
        "    if sexo == 'M' or sexo == 'm': \n",
        "        print('Sexo masculino.')\n",
        "    else:\n",
        "        print('Sexo inválido.') "
      ]
    },
    {
      "cell_type": "markdown",
      "metadata": {
        "id": "xR8UWgclOl42"
      },
      "source": [
        "**25. Faça um programa para a leitura de duas notas parciais de um aluno. O programa deve calcular a média alcançada por aluno e apresentar:**\n",
        "\n",
        "*** A mensagem &quot;Aprovado&quot;, se a média alcançada for maior ou igual a sete;**\n",
        "\n",
        "*** A mensagem &quot;Reprovado&quot;, se a média for menor do que sete;**\n",
        "\n",
        "*** A mensagem &quot;Aprovado com Distinção&quot;, se a média for igual a dez.**"
      ]
    },
    {
      "cell_type": "code",
      "execution_count": null,
      "metadata": {
        "colab": {
          "base_uri": "https://localhost:8080/"
        },
        "id": "Dmu56g9cOyDr",
        "outputId": "3843bbb5-9c30-4723-913c-a242892c8481"
      },
      "outputs": [
        {
          "name": "stdout",
          "output_type": "stream",
          "text": [
            "Digite a primeira nota: 10\n",
            "Digite a segunda nota: 10\n",
            "Aprovado com distinção.\n"
          ]
        }
      ],
      "source": [
        "n1 = float(input('Digite a primeira nota: '))\n",
        "if n1 < 0:\n",
        "  print('Informe um valor positivo.')\n",
        "else:\n",
        "  n2 = float(input('Digite a segunda nota: '))\n",
        "  if n2 < 0:\n",
        "      print('Informe um valor positivo.')\n",
        "  else:\n",
        "    m = (n1 + n2) / 2\n",
        "    if m == 10:\n",
        "      print('Aprovado com distinção.')\n",
        "    else:\n",
        "      if m >= 7:\n",
        "        print('Aprovado.')\n",
        "      else:\n",
        "        print('Reprovado.')"
      ]
    },
    {
      "cell_type": "markdown",
      "metadata": {
        "id": "U6wRGRpsREF_"
      },
      "source": [
        "**26. Faça um programa que leia três números e mostre o maior deles.**"
      ]
    },
    {
      "cell_type": "code",
      "execution_count": null,
      "metadata": {
        "colab": {
          "base_uri": "https://localhost:8080/"
        },
        "id": "abXFoOCsRNq2",
        "outputId": "bd87d822-e9b8-4b19-bd46-a67831c37299"
      },
      "outputs": [
        {
          "name": "stdout",
          "output_type": "stream",
          "text": [
            "Digite um número: 7\n",
            "Digite um segundo número: 8\n",
            "Digite um terceiro número: 8.1\n",
            "8.1 é o maior número.\n"
          ]
        }
      ],
      "source": [
        "n1 = float(input('Digite um número: '))\n",
        "n2 = float(input('Digite um segundo número: '))\n",
        "n3 = float(input('Digite um terceiro número: '))\n",
        "\n",
        "if n1 == n2 == n3:\n",
        "  print('Os três números têm o mesmo valor.')\n",
        "elif n1 > n2:\n",
        "  if n1 > n3:\n",
        "    print(n1, 'é o maior número.')\n",
        "  else:\n",
        "    print(n3, 'é o maior número.')   \n",
        "else:\n",
        "  if n2 > n3:\n",
        "    print(n2, 'é o maior número.')\n",
        "  else:\n",
        "    print(n3, 'é o maior número.')\n",
        "  "
      ]
    },
    {
      "cell_type": "markdown",
      "metadata": {
        "id": "Cw-a6qNwZ1nJ"
      },
      "source": [
        "**27. Faça um programa que pergunte o preço de três produtos e informe qual produto você deve comprar, sabendo que a decisão é sempre pelo mais barato.**"
      ]
    },
    {
      "cell_type": "code",
      "execution_count": null,
      "metadata": {
        "colab": {
          "base_uri": "https://localhost:8080/"
        },
        "id": "Yn6LScNQZ7rd",
        "outputId": "53c9d853-990b-49cd-8027-734af1b38ab3"
      },
      "outputs": [
        {
          "name": "stdout",
          "output_type": "stream",
          "text": [
            "Informe o preço do primeiro produto: 1\n",
            "Informe o preço do segundo produto: 2\n",
            "Informe o preço do terceiro produto: 3\n",
            "Você deve comprar o primeiro produto, pois é o mais barato.\n"
          ]
        }
      ],
      "source": [
        "p1 = float(input('Informe o preço do primeiro produto: '))\n",
        "#Checando se os valores são positivos.\n",
        "if p1 < 0:\n",
        "  print('Informe um valor positivo.')\n",
        "else:\n",
        "  p2 = float(input('Informe o preço do segundo produto: '))\n",
        "  if p2 < 0:\n",
        "    print('Informe um valor positivo.')\n",
        "  else:\n",
        "    p3 = float(input('Informe o preço do terceiro produto: '))\n",
        "    if p3 < 0:\n",
        "      print('Informe um valor positivo.')\n",
        "#Checando se os valores são iguais.    \n",
        "    else:\n",
        "      if p1 == p2 == p3:\n",
        "        print('Os três produtos têm o mesmo valor.')\n",
        "#Comparando valores.      \n",
        "      else:\n",
        "        if p1 < p2:\n",
        "          if p1 < p3:\n",
        "            print('Você deve comprar o primeiro produto, pois é o mais barato.')\n",
        "          else:\n",
        "            print('Você deve comprar terceiro produto, pois é o mais barato.')\n",
        "          \n",
        "        else:\n",
        "          if p2 < p3:\n",
        "            print('Você deve comprar o segundo produto, pois é o mais barato.')\n",
        "          else:\n",
        "            print('Você deve comprar o terceiro produto, pois é o mais barato.')"
      ]
    },
    {
      "cell_type": "markdown",
      "metadata": {
        "id": "9qWZNe0tcDy2"
      },
      "source": [
        "**28. Faça um Programa que pergunte em que turno você estuda. Peça para digitar M-\n",
        "matutino ou V-Vespertino ou N- Noturno. Imprima a mensagem &quot;Bom Dia!&quot;, &quot;Boa Tarde!&quot; ou &quot;Boa Noite!&quot; ou &quot;Valor Inválido!&quot;, conforme o caso.**"
      ]
    },
    {
      "cell_type": "code",
      "execution_count": null,
      "metadata": {
        "colab": {
          "base_uri": "https://localhost:8080/"
        },
        "id": "4xwdchijcQuk",
        "outputId": "1cc6e233-0064-4581-e273-cc6acde48efb"
      },
      "outputs": [
        {
          "name": "stdout",
          "output_type": "stream",
          "text": [
            "Em qual turno você estuda? Digite M para matutino, V para Vespertino ou N para Noturno: m\n",
            "Bom dia!\n"
          ]
        }
      ],
      "source": [
        "turno = str(input('Em qual turno você estuda? Digite M para matutino, V para Vespertino ou N para Noturno: '))\n",
        "if turno == 'M' or turno == 'm':\n",
        "  print('Bom dia!')\n",
        "else:\n",
        "  if turno == 'V' or turno == 'v':\n",
        "    print('Boa tarde!')\n",
        "  else:\n",
        "    if turno == 'N' or turno == 'n':\n",
        "      print('Boa noite!')\n",
        "    else:\n",
        "      print('Valor inválido!')"
      ]
    },
    {
      "cell_type": "markdown",
      "metadata": {
        "id": "SJuTyy6OdmwE"
      },
      "source": [
        "**29. As Organizações Tabajara resolveram dar um aumento de salário aos seus\n",
        "colaboradores e lhe contrataram para desenvolver o programa que calculará os\n",
        "reajustes. Faça um programa que recebe o salário de um colaborador e o reajuste\n",
        "segundo o seguinte critério, baseado no salário atual:**\n",
        "\n",
        "***salários até RS 280,00 (incluindo): aumento de 20%**\n",
        "\n",
        "***salários entre RS 280,00 e R$ 700,00: aumento de 15%**\n",
        "\n",
        "***salários entre RS 700,00 e R$ 1500,00: aumento de 10%**\n",
        "\n",
        "***salários de RS 1500,00 em diante: aumento de 5%**\n",
        "\n",
        "**Após o aumento ser realizado, informe na tela:**\n",
        "\n",
        "***o salário antes do reajuste;**\n",
        "***o percentual de aumento aplicado;**\n",
        "***o valor do aumento;**\n",
        "***o novo salário após o aumento.**"
      ]
    },
    {
      "cell_type": "code",
      "execution_count": null,
      "metadata": {
        "colab": {
          "base_uri": "https://localhost:8080/"
        },
        "id": "p4dYKHVfdmZ-",
        "outputId": "79bc00ad-44e8-4f8c-e1ed-2fd38910238f"
      },
      "outputs": [
        {
          "name": "stdout",
          "output_type": "stream",
          "text": [
            "Digite o salário atual: 8\n",
            "O salário antes do reajuste era de 8.0. \n",
            "O percentual de aumento aplicado foi de 20%. \n",
            "O valor do aumento foi de 1.6. \n",
            "O valor do salário após o aumento ficou de 9.6\n"
          ]
        }
      ],
      "source": [
        "salarioatual = float(input('Digite o salário atual: '))\n",
        "\n",
        "#Checar se o valor é positivo\n",
        "if salarioatual < 0:\n",
        "  print('Informe um valor positivo.')\n",
        "#Chegar o percentual do reajuste\n",
        "else:\n",
        "  if salarioatual <= 280:\n",
        "    percentual = 20\n",
        "  else:\n",
        "    if salarioatual > 280 and salarioatual <= 700:\n",
        "      percentual = 15\n",
        "    else:\n",
        "      if salarioatual > 700 and salarioatual <= 1500:\n",
        "        percentual = 10\n",
        "      else:\n",
        "        percentual = 5\n",
        "  aumento = salarioatual * (percentual/100)\n",
        "  novosalario = salarioatual + aumento\n",
        "  print('O salário antes do reajuste era de {}. \\nO percentual de aumento aplicado foi de {}%. \\nO valor do aumento foi de {}. \\nO valor do salário após o aumento ficou de {}'.format(salarioatual, percentual, aumento, novosalario))"
      ]
    },
    {
      "cell_type": "markdown",
      "metadata": {
        "id": "sWCGCrsx2MKg"
      },
      "source": [
        "**30. Faça um programa para o cálculo de uma folha de pagamento, sabendo que os\n",
        "descontos são do Imposto de Renda, que depende do salário bruto (conforme tabela\n",
        "abaixo) e 3% para o Sindicato e que o FGTS corresponde a 11% do Salário Bruto, mas não é descontado (é a empresa que deposita). O Salário Líquido corresponde ao Salário Bruto menos os descontos. O programa deverá pedir ao usuário o valor da sua hora e a quantidade de horas trabalhadas no mês.**\n",
        "\n",
        "**Desconto do IR:\n",
        "Salário Bruto até 900 (inclusive) - isento\n",
        "Salário Bruto até 1500 (inclusive) - desconto de 5%\n",
        "Salário Bruto até 2500 (inclusive) - desconto de 10%\n",
        "Salário Bruto acima de 2500 - desconto de 20% Imprima na tela as informações,\n",
        "dispostas conforme o exemplo abaixo. No exemplo o valor da hora é 5 e a quantidade de hora é 220.**\n",
        "\n",
        "i. Salário Bruto: (5 * 220) : R$ 1100,00\n",
        "\n",
        "ii. (-) IR (5%) : R$ 55,00\n",
        "\n",
        "iii. (-) INSS ( 10%) : R$ 110,00\n",
        "\n",
        "iv. FGTS (11%) : R$ 121,00\n",
        "\n",
        "v. Total de descontos : R$ 165,00\n",
        "\n",
        "vi. Salário Liquido : R$ 935,00"
      ]
    },
    {
      "cell_type": "code",
      "execution_count": null,
      "metadata": {
        "colab": {
          "base_uri": "https://localhost:8080/"
        },
        "id": "PyrMgM8W2ggJ",
        "outputId": "7a7d8f5e-8db2-4273-f20f-69eecf1699de"
      },
      "outputs": [
        {
          "name": "stdout",
          "output_type": "stream",
          "text": [
            "Qual o valor da hora trabalhada?: 7\n",
            "Qual a quantidade de horas trabalhadas?: 95.3\n",
            "i. Salário Bruto: (7.0 * 95.3) : R$ 667.10\n",
            "ii. (-) IR (0%): R$ 0.00\n",
            "iii. (-) Sindicato (3%): R$ 20.01\n",
            "iv. FGTS (11%): R$ 73.38\n",
            "v. Total de descontos: R$ 20.01\n",
            "vi. Salário líquido: R$ 647.09\n"
          ]
        }
      ],
      "source": [
        "valorhora = float(input('Qual o valor da hora trabalhada?: '))\n",
        "horatrabalhada = float(input('Qual a quantidade de horas trabalhadas?: '))\n",
        "salariobruto = valorhora * horatrabalhada\n",
        "#Checando o valor do desconto do imposto de renda:\n",
        "if salariobruto <= 900:\n",
        "  porcentagem = 0\n",
        "else: \n",
        "  if salariobruto <= 1500:\n",
        "    porcentagem = 5\n",
        "  else:\n",
        "    if salariobruto <= 2500:\n",
        "      porcentagem = 10\n",
        "    else:\n",
        "      porcentagem = 20\n",
        "\n",
        "ir = salariobruto * (porcentagem/100)\n",
        "sindicato = salariobruto * (3/100)\n",
        "fgts = salariobruto * (11/100)\n",
        "descontos = ir + sindicato\n",
        "\n",
        "print('i. Salário Bruto: ({} * {}) : R$ {:.2f}'.format(valorhora, horatrabalhada, salariobruto))\n",
        "print('ii. (-) IR ({}%): R$ {:.2f}'.format(porcentagem, ir))\n",
        "print('iii. (-) Sindicato (3%): R$ {:.2f}'.format(sindicato))\n",
        "print('iv. FGTS (11%): R$ {:.2f}'.format(fgts))\n",
        "print('v. Total de descontos: R$ {:.2f}'.format(descontos))\n",
        "print('vi. Salário líquido: R$ {:.2f}'.format(salariobruto - descontos))"
      ]
    },
    {
      "cell_type": "markdown",
      "metadata": {
        "id": "IsKIaIFx9Irw"
      },
      "source": [
        "**Segunda versão da questão 30: Incluindo INSS dito no exemplo.**"
      ]
    },
    {
      "cell_type": "code",
      "execution_count": null,
      "metadata": {
        "colab": {
          "base_uri": "https://localhost:8080/"
        },
        "id": "Yoj4NrXn9Tc7",
        "outputId": "0a8d4e2d-6047-43f7-90cd-87c5ab4c8645"
      },
      "outputs": [
        {
          "name": "stdout",
          "output_type": "stream",
          "text": [
            "Qual o valor da hora trabalhada?: 7\n",
            "Qual a quantidade de horas trabalhadas?: 95.3\n",
            "i. Salário Bruto: (7.0 * 95.3) : R$ 667.10\n",
            "ii. (-) IR (0%): R$ 0.00\n",
            "iii. (-) Sindicato (3%): R$ 20.01\n",
            "iv. (-) INSS (10%): R$ 66.71\n",
            "v. FGTS (11%): R$ 73.38\n",
            "vi. Total de descontos: R$ 86.72\n",
            "vii. Salário líquido: R$ 580.38\n"
          ]
        }
      ],
      "source": [
        "valorhora = float(input('Qual o valor da hora trabalhada?: '))\n",
        "horatrabalhada = float(input('Qual a quantidade de horas trabalhadas?: '))\n",
        "salariobruto = valorhora * horatrabalhada\n",
        "\n",
        "if salariobruto <= 900:\n",
        "  porcentagem = 0\n",
        "else: \n",
        "  if salariobruto <= 1500:\n",
        "    porcentagem = 5\n",
        "  else:\n",
        "    if salariobruto <= 2500:\n",
        "      porcentagem = 10\n",
        "    else:\n",
        "      porcentagem = 20\n",
        "\n",
        "ir = salariobruto * (porcentagem/100)\n",
        "sindicato = salariobruto * (3/100)\n",
        "fgts = salariobruto * (11/100)\n",
        "inss = salariobruto * (10/100)\n",
        "descontos = ir + sindicato + inss\n",
        "\n",
        "print('i. Salário Bruto: ({} * {}) : R$ {:.2f}'.format(valorhora, horatrabalhada, salariobruto))\n",
        "print('ii. (-) IR ({}%): R$ {:.2f}'.format(porcentagem, ir))\n",
        "print('iii. (-) Sindicato (3%): R$ {:.2f}'.format(sindicato))\n",
        "print('iv. (-) INSS (10%): R$ {:.2f}'.format(inss))\n",
        "print('v. FGTS (11%): R$ {:.2f}'.format(fgts))\n",
        "print('vi. Total de descontos: R$ {:.2f}'.format(descontos))\n",
        "print('vii. Salário líquido: R$ {:.2f}'.format(salariobruto - descontos))"
      ]
    },
    {
      "cell_type": "markdown",
      "metadata": {
        "id": "GGjrud4wBY9D"
      },
      "source": [
        "**31. Faça um Programa que leia um número e exiba o dia correspondente da semana. (1- Domingo, 2- Segunda, etc.), se digitar outro valor deve aparecer valor inválido.**"
      ]
    },
    {
      "cell_type": "code",
      "execution_count": null,
      "metadata": {
        "colab": {
          "base_uri": "https://localhost:8080/"
        },
        "id": "-vdYcM9hBrPq",
        "outputId": "2166da1b-314b-49b5-f4c3-93c2c26fc025"
      },
      "outputs": [
        {
          "name": "stdout",
          "output_type": "stream",
          "text": [
            "Digite um número correspondente ao dia da semana (1-7): -9\n",
            "Valor inválido.\n"
          ]
        }
      ],
      "source": [
        "numero = float(input('Digite um número correspondente ao dia da semana (1-7): '))\n",
        "\n",
        "if numero == 1:\n",
        "  print('Domingo!')\n",
        "else:\n",
        "  if numero == 2:\n",
        "    print('Segunda-feira!')\n",
        "  else:\n",
        "    if numero == 3:\n",
        "      print('Terça-feira!')\n",
        "    else:\n",
        "      if numero == 4:\n",
        "        print('Quarta-feira!')\n",
        "      else:\n",
        "        if numero == 5:\n",
        "          print('Quinta-feira!')\n",
        "        else:\n",
        "          if numero == 6:\n",
        "            print('Sexta-feira!')\n",
        "          else:\n",
        "            if numero == 7:\n",
        "              print('Sábado!')\n",
        "            else:\n",
        "              print('Valor inválido.')"
      ]
    },
    {
      "cell_type": "markdown",
      "metadata": {
        "id": "m7N8LAWdG49z"
      },
      "source": [
        "**32. Faça um programa que lê as duas notas parciais obtidas por um aluno numa disciplina ao longo de um semestre, e calcule a sua média. A atribuição de conceitos obedece à tabela abaixo:**\n",
        "\n",
        "Média de Aproveitamento Conceito\n",
        "\n",
        "Entre 9.0 e 10.0 A\n",
        "\n",
        "Entre 7.5 e 9.0 B\n",
        "\n",
        "Entre 6.0 e 7.5 C\n",
        "\n",
        "Entre 4.0 e 6.0 D\n",
        "\n",
        "Entre 4.0 e zero E\n",
        "\n",
        "**O algoritmo deve mostrar na tela as notas, a média, o conceito correspondente e a mensagem “APROVADO” se o conceito for A, B ou C ou “REPROVADO” se o conceito\n",
        "for D ou E.**"
      ]
    },
    {
      "cell_type": "code",
      "execution_count": null,
      "metadata": {
        "colab": {
          "base_uri": "https://localhost:8080/"
        },
        "id": "OjFp0E1sHQcm",
        "outputId": "23ca712b-26fa-43e9-8f3b-e78659f86328"
      },
      "outputs": [
        {
          "name": "stdout",
          "output_type": "stream",
          "text": [
            "Digite a primeira nota: -8\n",
            "Digite a segunda nota: -9\n",
            "As duas notas parciais foram -8.0 e -9.0. \n",
            "Média = -8.5. \n",
            "Aproveitamento = E\n",
            "REPROVADO\n"
          ]
        }
      ],
      "source": [
        "n1 = float(input('Digite a primeira nota: '))\n",
        "n2 = float(input('Digite a segunda nota: '))\n",
        "media = (n1 + n2)/2\n",
        "aproveitamento = ''\n",
        "if media > 9 and media <= 10:\n",
        "  aproveitamento = 'A'\n",
        "else:\n",
        "  if media > 7.5 and media <= 9:\n",
        "    aproveitamento = 'B'\n",
        "  else:\n",
        "    if media > 6 and media <= 7.5:\n",
        "      aproveitamento = 'C'\n",
        "    else:\n",
        "      if media > 4 and media <= 6:\n",
        "        aproveitamento = 'D'\n",
        "      else:\n",
        "        aproveitamento = 'E'\n",
        "  \n",
        "print('As duas notas parciais foram {} e {}. \\nMédia = {}. \\nAproveitamento = {}'.format(n1, n2, media, aproveitamento))\n",
        "if aproveitamento == 'A' or aproveitamento == 'B' or aproveitamento == 'C':\n",
        "  print('APROVADO')\n",
        "else:\n",
        "  print('REPROVADO')"
      ]
    },
    {
      "cell_type": "markdown",
      "metadata": {
        "id": "mcQi-eByJ3tw"
      },
      "source": [
        "**33. Faça um Programa que peça os 3 lados de um triângulo. O programa deverá informar se os valores podem ser um triângulo. Indique, caso os lados formem um triângulo, se o mesmo é: equilátero, isósceles ou escaleno.**\n",
        "\n",
        "**Dicas: Três lados formam um triângulo quando a soma de quaisquer dois lados for maior que o terceiro;**\n",
        "\n",
        "**Triângulo Equilátero: três lados iguais;**\n",
        "\n",
        "**Triângulo isósceles: quaisquer dois lados iguais;**\n",
        "\n",
        "**Triângulo Escaleno: três lados diferentes;**"
      ]
    },
    {
      "cell_type": "code",
      "execution_count": null,
      "metadata": {
        "colab": {
          "base_uri": "https://localhost:8080/"
        },
        "id": "Iq6ZTaRbKN0R",
        "outputId": "e192bf2d-b391-4864-db9b-1a345b5a7fdc"
      },
      "outputs": [
        {
          "name": "stdout",
          "output_type": "stream",
          "text": [
            "Informe três valores para a definição do triângulo\n",
            "Valor do primeiro lado: 3\n",
            "Valor do segundo lado: 4\n",
            "Valor do terceiro lado: 8\n",
            "Não é um triângulo.\n"
          ]
        }
      ],
      "source": [
        "print('Informe três valores para a definição do triângulo')\n",
        "l1 = float(input('Valor do primeiro lado: '))\n",
        "l2 = float(input('Valor do segundo lado: '))\n",
        "l3 = float(input('Valor do terceiro lado: '))\n",
        "\n",
        "if (l1 + l2) > l3:\n",
        "  if l1 == l2 == l3:\n",
        "    print('Triângulo Equilátero.')\n",
        "  else:\n",
        "    if l1 != l2 != l3:\n",
        "      print('Triângulo Escaleno.')\n",
        "    else:\n",
        "      print('Triângulo Isósceles.')\n",
        "else:\n",
        "  print('Não é um triângulo.')"
      ]
    },
    {
      "cell_type": "markdown",
      "metadata": {
        "id": "AS4purPw9TDd"
      },
      "source": [
        "**34. Faça um programa que calcule as raízes de uma equação do segundo grau, na forma ax² + bx + c. O programa deverá pedir os valores de a, b e c e fazer as consistências, informando ao usuário nas seguintes situações:**\n",
        "\n",
        "**Se o usuário informar o valor de A igual a zero, a equação não é do segundo grau e o programa não deve fazer pedir os demais valores, sendo encerrado;**\n",
        "\n",
        "**Se o delta calculado for negativo, a equação não possui raizes reais. Informe ao usuáro e encerre o programa;**"
      ]
    },
    {
      "cell_type": "code",
      "execution_count": null,
      "metadata": {
        "colab": {
          "base_uri": "https://localhost:8080/"
        },
        "id": "MtFqdPAk-wE7",
        "outputId": "e093f0aa-b029-49df-aacf-e649830afe32"
      },
      "outputs": [
        {
          "name": "stdout",
          "output_type": "stream",
          "text": [
            "Digite o valor de A: 0\n",
            "Sendo o valor de A = 0, a equação não é do segundo grau.\n"
          ]
        }
      ],
      "source": [
        "import math\n",
        "\n",
        "a = float(input('Digite o valor de A: '))\n",
        "if a == 0:\n",
        "  print('Sendo o valor de A = 0, a equação não é do segundo grau.')\n",
        "else:\n",
        "  b = float(input('Digite o valor de B: '))\n",
        "  c = float(input('Digite o valor de C: ')) \n",
        "  delta = (b ** 2) - (4 * a * c)\n",
        "  if delta < 0 :\n",
        "    print('O valor de delta é negativo ({}), logo a equação não possui raízes.'.format(delta))\n",
        "  else:\n",
        "    x1 = (- b + math.sqrt(delta)) / (2*a)\n",
        "    x2 = (- b - math.sqrt(delta)) / (2*a)\n",
        "    print('Raíz 1: {}. \\nRaíz 2: {}'.format(x1, x2))"
      ]
    },
    {
      "cell_type": "markdown",
      "metadata": {
        "id": "l5M7s7uFIDwB"
      },
      "source": [
        "**35. Se o delta calculado for igual a zero a equação possui apenas uma raiz real; informe-a ao usuário;\n",
        "Se o delta for positivo, a equação possui duas raizes reais; informe-as ao usuário;**"
      ]
    },
    {
      "cell_type": "code",
      "execution_count": null,
      "metadata": {
        "colab": {
          "base_uri": "https://localhost:8080/"
        },
        "id": "ZQ3nl_9nIayS",
        "outputId": "3c82e55e-347a-4ce4-8e11-c8166f54a14a"
      },
      "outputs": [
        {
          "name": "stdout",
          "output_type": "stream",
          "text": [
            "Digite o valor de A: 2\n",
            "Digite o valor de B: 4\n",
            "Digite o valor de C: -6\n",
            "Raíz 1: 1.0. \n",
            "Raíz 2: -3.0\n"
          ]
        }
      ],
      "source": [
        "import math\n",
        "\n",
        "a = float(input('Digite o valor de A: '))\n",
        "if a == 0:\n",
        "  print('Sendo o valor de A = 0, a equação não é do segundo grau.')\n",
        "else:\n",
        "  b = float(input('Digite o valor de B: '))\n",
        "  c = float(input('Digite o valor de C: ')) \n",
        "  delta = (b ** 2) - (4 * a * c)\n",
        "  if delta < 0 :\n",
        "    print('O valor de delta é negativo ({}), logo a equação não possui raízes.'.format(delta))\n",
        "  else:\n",
        "    if delta == 0:\n",
        "      x0 = (- b /(2*a))\n",
        "      print('O valor de delta é 0, logo equação possui apenas uma raíz real: \\nRaíz:', x0)\n",
        "    else:\n",
        "      x1 = (- b + math.sqrt(delta)) / (2*a)\n",
        "      x2 = (- b - math.sqrt(delta)) / (2*a)\n",
        "      print('Raíz 1: {}. \\nRaíz 2: {}'.format(x1, x2))"
      ]
    },
    {
      "cell_type": "markdown",
      "metadata": {
        "id": "3x2ySy9kR2Rv"
      },
      "source": [
        "**36. Faça um Programa que peça um número correspondente a um determinado ano e em seguida informe se este ano é ou não bissexto.**"
      ]
    },
    {
      "cell_type": "code",
      "execution_count": null,
      "metadata": {
        "colab": {
          "base_uri": "https://localhost:8080/"
        },
        "id": "tmgLcmYeTC72",
        "outputId": "8b21f1f3-cb9c-467e-8935-3bd687535b64"
      },
      "outputs": [
        {
          "name": "stdout",
          "output_type": "stream",
          "text": [
            "Digite um ano para analisar: 2016.5\n",
            "Digite um número inteiro.\n"
          ]
        }
      ],
      "source": [
        "ano = float(input('Digite um ano para analisar: '))\n",
        "\n",
        "if ano // 1 == ano:\n",
        "  if ano % 4 == 0 and ano % 100 != 0 or ano % 400 == 0:\n",
        "    print('O ano {} é bissexto.'.format(int(ano)))\n",
        "  else:\n",
        "    print('O ano {} não é bissexto.'.format(int(ano))) \n",
        "else:\n",
        "  print('Digite um número inteiro.')"
      ]
    },
    {
      "cell_type": "markdown",
      "metadata": {
        "id": "BTju9vqRVVel"
      },
      "source": [
        "**37. Faça um Programa para leitura de três notas parciais de um aluno. O programa deve calcular a média alcançada por aluno e apresentar:**\n",
        "\n",
        "**A mensagem &quot;Aprovado&quot;, se a média for maior ou igual a 7, com a respectiva média alcançada;**\n",
        "\n",
        "**A mensagem &quot;Reprovado&quot;, se a média for menor do que 7, com a respectiva média alcançada;**\n",
        "\n",
        "**A mensagem &quot;Aprovado com Distinção&quot;, se a média for igual a 10.**"
      ]
    },
    {
      "cell_type": "code",
      "execution_count": null,
      "metadata": {
        "colab": {
          "base_uri": "https://localhost:8080/"
        },
        "id": "THMPAphnVj-2",
        "outputId": "1874e467-9462-4e28-8a43-c802b387c37b"
      },
      "outputs": [
        {
          "name": "stdout",
          "output_type": "stream",
          "text": [
            "Primeira nota: 5\n",
            "Segunda nota: 7\n",
            "Terceira nota: 9\n",
            "Aprovado com média 7.0\n"
          ]
        }
      ],
      "source": [
        "('Digite as três notas parciais para obter a média:')\n",
        "n1 = float(input('Primeira nota: '))\n",
        "n2 = float(input('Segunda nota: '))\n",
        "n3 = float(input('Terceira nota: '))\n",
        "media = (n1 + n2 + n3) / 3\n",
        "\n",
        "if media == 10:\n",
        "  print('Aprovado com distinção.')\n",
        "else:\n",
        "  if media >= 7:\n",
        "    print('Aprovado com média {:.1f}'.format(media))\n",
        "  else:\n",
        "    print('Reprovado com média {:.1f}'.format(media))"
      ]
    },
    {
      "cell_type": "markdown",
      "metadata": {
        "id": "uEzjqapPYQk_"
      },
      "source": [
        "**38. Faça um Programa para um caixa eletrônico. O programa deverá perguntar ao usuário o valor do saque e depois informar quantas notas de cada valor serão fornecidas. As notas disponíveis serão as de 1, 5, 10, 50 e 100 reais. O valor mínimo é de 10 reais e o máximo de 600 reais. O programa não deve se preocupar com a quantidade de notas existentes na máquina.**\n",
        "\n",
        "**Exemplo 1: Para sacar a quantia de 256 reais, o programa fornece duas notas de 100, uma nota de 50, uma nota de 5 e uma nota de 1;**\n",
        "\n",
        "**Exemplo 2: Para sacar a quantia de 399 reais, o programa fornece três notas de 100, uma nota de 50, quatro notas de 10, uma nota de 5 e quatro notas de 1.**"
      ]
    },
    {
      "cell_type": "code",
      "execution_count": null,
      "metadata": {
        "colab": {
          "base_uri": "https://localhost:8080/"
        },
        "id": "Kcp-k1QbJ-LQ",
        "outputId": "47f3337f-68c4-4655-9507-154fcf0443eb"
      },
      "outputs": [
        {
          "name": "stdout",
          "output_type": "stream",
          "text": [
            "Qual será o valor do saque?: R$ 399\n",
            "Você terá 3 nota(s) de cem, 1 nota(s) de cinquenta, 4 nota(s) de dez, 1 nota(s) de cinco, 4 nota(s) de um.\n"
          ]
        }
      ],
      "source": [
        "saqueinicial = float(input('Qual será o valor do saque?: R$ '))\n",
        "saque = saqueinicial\n",
        "notaCem = int(saque // 100) #valor inteiro da divisao por 100\n",
        "saque -= (notaCem * 100) #retirando as centenas já contadas\n",
        "notaCinquenta = int(saque // 50)\n",
        "saque -= (notaCinquenta * 50)\n",
        "notaDez = int(saque // 10)\n",
        "saque -= (notaDez * 10)\n",
        "notaCinco = int(saque // 5)\n",
        "saque -= (notaCinco * 5)\n",
        "notaUm = int(saque // 1)\n",
        "\n",
        "if saqueinicial // 1 == saqueinicial:\n",
        "  if saqueinicial < 10 or saqueinicial > 600:\n",
        "    print('O valor mínimo para saque é de R$ 10 e o máximo é de R$ 600.')\n",
        "  else:\n",
        "    if saqueinicial > 100: \n",
        "      print('Você terá {} nota(s) de cem, {} nota(s) de cinquenta, {} nota(s) de dez, {} nota(s) de cinco, {} nota(s) de um.'.format(notaCem, notaCinquenta, notaDez, notaCinco, notaUm))\n",
        "    else: \n",
        "      if saqueinicial >= 50 and saqueinicial < 100:\n",
        "        print('Você terá {} nota(s) de cinquenta, {} nota(s) de dez, {} nota(s) de cinco, {} nota(s) de um.'.format(notaCinquenta, notaDez, notaCinco, notaUm))\n",
        "      else:\n",
        "        print('Você terá {} nota(s) de dez, {} nota(s) de cinco, {} nota(s) de um.'.format(notaDez, notaCinco, notaUm))\n",
        "else: \n",
        "  print('Valor inválido, digite um número inteiro.')"
      ]
    },
    {
      "cell_type": "markdown",
      "metadata": {
        "id": "SJT2K8jwAkf5"
      },
      "source": [
        "**39. Faça um Programa que peça um número inteiro e determine se ele é par ou impar.**"
      ]
    },
    {
      "cell_type": "code",
      "execution_count": null,
      "metadata": {
        "colab": {
          "base_uri": "https://localhost:8080/"
        },
        "id": "H2df69ZnAqH7",
        "outputId": "f84fbaa8-0c60-401d-c6d6-0c80de3e452d"
      },
      "outputs": [
        {
          "name": "stdout",
          "output_type": "stream",
          "text": [
            "Digite um número inteiro: -9\n",
            "O número -9 é impar\n"
          ]
        }
      ],
      "source": [
        "n = float(input('Digite um número inteiro: '))\n",
        "\n",
        "if n // 1 != n:\n",
        "  print('Informe um número inteiro')\n",
        "else:\n",
        "  if n % 2 == 0:\n",
        "    print('O número {} é par'.format(int(n)))\n",
        "  else:\n",
        "      print('O número {} é impar'.format(int(n)))"
      ]
    },
    {
      "cell_type": "markdown",
      "metadata": {
        "id": "5XeP77JDBpi4"
      },
      "source": [
        "**40. Faça um Programa que leia 2 números e em seguida pergunte ao usuário qual\n",
        "operação ele deseja realizar. O resultado da operação deve ser acompanhado de uma frase que diga se o número é:**\n",
        "\n",
        "**par ou ímpar;**\n",
        "\n",
        "**positivo ou negativo;**\n",
        "\n",
        "**inteiro ou decimal.**"
      ]
    },
    {
      "cell_type": "code",
      "execution_count": null,
      "metadata": {
        "colab": {
          "base_uri": "https://localhost:8080/"
        },
        "id": "RzgExfO9B4-x",
        "outputId": "a4058c0e-4214-43c6-9b25-4189ea8ff0ec"
      },
      "outputs": [
        {
          "name": "stdout",
          "output_type": "stream",
          "text": [
            "Digite um número: 10\n",
            "Digite outro número: 5\n",
            "Qual operação você deseja realizar?\n",
            "( + ) ADIÇÃO; \n",
            "( - ) SUBTRAÇÃO; \n",
            "( * ) MULTIPLICAÇÃO; \n",
            "( / ) DIVISÃO; \n",
            "Digite o símbolo correspondente ( +, -, *, /): +\n",
            "O resultado da operação (10.0 + 5.0) é de 15.0.\n",
            "O número 15.0 é ÍMPAR\n",
            "O número 15.0 é POSITIVO.\n",
            "O número 15.0 é INTEIRO.\n"
          ]
        }
      ],
      "source": [
        "n1 = float(input('Digite um número: '))\n",
        "n2 = float(input('Digite outro número: '))\n",
        "print('Qual operação você deseja realizar?')\n",
        "print('( + ) ADIÇÃO; \\n( - ) SUBTRAÇÃO; \\n( * ) MULTIPLICAÇÃO; \\n( / ) DIVISÃO; ')\n",
        "operacao = str(input('Digite o símbolo correspondente ( +, -, *, /): '))\n",
        "\n",
        "if operacao == ('+') :\n",
        "  resultado = (n1 + n2)\n",
        "else:\n",
        "  if operacao == ('-'):\n",
        "    resultado = (n1 - n2)\n",
        "  else:\n",
        "    if operacao == ('*'):\n",
        "      resultado = (n1 * n2)\n",
        "    else:\n",
        "      if operacao == ('/'):\n",
        "        resultado = (n1 / n2)\n",
        "      else:\n",
        "        print('Resposta inválida.')\n",
        "\n",
        "if operacao == '+' or operacao == '-' or operacao == '*' or operacao == '/':\n",
        "  print('O resultado da operação ({} {} {}) é de {:.1f}.'.format(n1, operacao, n2, resultado))\n",
        "  if resultado % 2 == 0:\n",
        "    print('O número {:.1f} é PAR.'.format(resultado))\n",
        "  else:\n",
        "    print('O número {:.1f} é ÍMPAR'.format(resultado))\n",
        "\n",
        "  if resultado >= 0:\n",
        "    print('O número {:.1f} é POSITIVO.'.format(resultado))\n",
        "  else:\n",
        "    print('O número {:.1f} é NEGATIVO'.format(resultado))\n",
        "\n",
        "  if int(resultado) == resultado :\n",
        "    print('O número {:.1f} é INTEIRO.'.format(resultado))\n",
        "  else:\n",
        "    print('O número {:.1f} é DECIMAL'.format(resultado))"
      ]
    },
    {
      "cell_type": "markdown",
      "metadata": {
        "id": "UysF1KX4Nt-0"
      },
      "source": [
        "**41. Faça um programa que faça 5 perguntas para uma pessoa sobre um crime. As\n",
        "perguntas são:**\n",
        "\n",
        "**&quot;Telefonou para a vítima?&quot;**\n",
        "\n",
        "**&quot;Esteve no local do crime?&quot;**\n",
        "\n",
        "**&quot;Mora perto da vítima?&quot;**\n",
        "\n",
        "**&quot;Devia para a vítima?&quot;**\n",
        "\n",
        "**&quot;Já trabalhou com a vítima?&quot;**\n",
        "\n",
        "**O programa deve no final emitir uma classificação sobre a participação da pessoa no crime. Se a pessoa responder positivamente a 2 questões ela deve ser classificada como &quot;Suspeita&quot;, entre 3 e 4 como &quot;Cúmplice&quot; e 5 como &quot;Assassino&quot;. Caso contrário, ele será classificado como &quot;Inocente&quot;.**"
      ]
    },
    {
      "cell_type": "code",
      "execution_count": null,
      "metadata": {
        "colab": {
          "base_uri": "https://localhost:8080/"
        },
        "id": "Et3iII2KN8AC",
        "outputId": "f2363a29-4be5-47f8-e187-9ce9089a9470"
      },
      "outputs": [
        {
          "name": "stdout",
          "output_type": "stream",
          "text": [
            "Responda 5 perguntas sobre o crime: Informe 1 para SIM e 0 para NÃO \n",
            "Telefonou para a vítima? (1/0): 1\n",
            "Esteve no local do crime? (1/0): 0\n",
            "Mora perto da vítima? (1/0): 0\n",
            "Devia para a vítima? (1/0): 1\n",
            "Já trabalhou com a vítima? (1/0)): 0\n",
            "Suspeita!\n"
          ]
        }
      ],
      "source": [
        "print('Responda 5 perguntas sobre o crime: Informe 1 para SIM e 0 para NÃO ')\n",
        "r1 = int(input('Telefonou para a vítima? (1/0): '))\n",
        "r2 = int(input('Esteve no local do crime? (1/0): '))\n",
        "r3 = int(input('Mora perto da vítima? (1/0): '))\n",
        "r4 = int(input('Devia para a vítima? (1/0): '))\n",
        "r5 = int(input('Já trabalhou com a vítima? (1/0)): '))\n",
        "\n",
        "soma = r1 + r2 + r3 + r4 + r5\n",
        "if soma == 2:\n",
        "    print('Suspeita!')\n",
        "else:\n",
        "  if soma == 3 or soma == 4:\n",
        "    print('Cúmplice!')\n",
        "  else:\n",
        "    if soma == 5:\n",
        "      print('Assassino!')\n",
        "    else:\n",
        "      print('Inocente!')"
      ]
    },
    {
      "cell_type": "markdown",
      "metadata": {
        "id": "VzBAuYpfQdJR"
      },
      "source": [
        "**42. Um posto está vendendo combustíveis com a seguinte tabela de descontos:**\n",
        "\n",
        "**Álcool:**\n",
        "\n",
        "**até 20 litros, desconto de 3% por litro**\n",
        "\n",
        "**acima de 20 litros, desconto de 5% por litro**\n",
        "\n",
        "**Gasolina:**\n",
        "\n",
        "**até 20 litros, desconto de 4% por litro\n",
        "acima de 20 litros, desconto de 6% por litro.**\n",
        "\n",
        "**Escreva um programa que leia o número de litros vendidos, o tipo de combustível (codificado da seguinte forma: A-álcool, G-gasolina), calcule e imprima o valor a ser pago pelo cliente sabendo-se que o preço do litro da gasolina é R$ 2,50 o preço do litro do álcool é R$ 1,90.**"
      ]
    },
    {
      "cell_type": "code",
      "execution_count": null,
      "metadata": {
        "colab": {
          "base_uri": "https://localhost:8080/"
        },
        "id": "DzTbp6FPRMPW",
        "outputId": "27415f1a-6316-44a5-955b-e86b5ecce79d"
      },
      "outputs": [
        {
          "name": "stdout",
          "output_type": "stream",
          "text": [
            "Qual a quantidade de litros? -8\n",
            "Informe um valor positivo.\n"
          ]
        }
      ],
      "source": [
        "litros = float(input('Qual a quantidade de litros? '))\n",
        "valorA = 1.9\n",
        "valorG = 2.5\n",
        "precoA = litros * valorA\n",
        "precoG = litros * valorG\n",
        "\n",
        "if litros < 0:\n",
        "  print('Informe um valor positivo.')\n",
        "else: \n",
        "  combustivel = str(input('Qual o tipo de combustível? \\nDigite A para álcool e G para gasolina: '))\n",
        "  if combustivel == 'A' or combustivel == 'a':\n",
        "    if litros > 20:\n",
        "      desconto = precoA * (5/100)\n",
        "      precofinal = precoA - desconto\n",
        "      print('O valor a ser pago é de {:.2f}'.format(precofinal))\n",
        "    else:\n",
        "      desconto = precoA * (3/100)\n",
        "      precofinal = precoA - desconto\n",
        "      print('O valor a ser pago é de {:.2f}'.format(precofinal))\n",
        "  elif combustivel == 'G' or combustivel == 'g':\n",
        "    if litros > 20:\n",
        "      desconto = precoG * (6/100)\n",
        "      precofinal = precoG - desconto\n",
        "      print('O valor a ser pago é de {:.2f}'.format(precofinal))\n",
        "    else:\n",
        "      desconto = precoG * (4/100)\n",
        "      precofinal = precoG - desconto\n",
        "      print('O valor a ser pago é de {:.2f}'.format(precofinal))\n",
        "  else:\n",
        "    print('Resposta inválida.')\n",
        "\n"
      ]
    },
    {
      "cell_type": "markdown",
      "metadata": {
        "id": "R1wPLValVVW3"
      },
      "source": [
        "**43. Uma fruteira está vendendo frutas com a seguinte tabela de preços:**\n",
        "\n",
        "Até 5 Kg-------------------------------------Acima de 5 Kg\n",
        "\n",
        "Morango R$ 2,50 por Kg-----------RS 2,20 por Kg\n",
        "\n",
        "Maçã R$ 1,80 por Kg---------------- RS 1,50 por Kg\n",
        "\n",
        "**Se o cliente comprar mais de 8 Kg em frutas ou o valor total da compra ultrapassar R$ 25,00, receberá ainda um desconto de 10% sobre este total. Escreva um algoritmo para ler a quantidade (em Kg) de morangos e a quantidade (em Kg) de maças adquiridas e escreva o valor a ser pago pelo cliente.**"
      ]
    },
    {
      "cell_type": "code",
      "execution_count": null,
      "metadata": {
        "colab": {
          "base_uri": "https://localhost:8080/"
        },
        "id": "KAPg0jzCV-NX",
        "outputId": "60e6873b-0e31-4d7a-f1ab-b5c6aa177910"
      },
      "outputs": [
        {
          "name": "stdout",
          "output_type": "stream",
          "text": [
            "Digite a quantidade de morangos (em Kg) a serem adquiridos: 10\n",
            "Digite a quantidade de maçãs (em Kg) a serem adquiridas: 5\n",
            "O valor a ser pago será de R$27.90\n"
          ]
        }
      ],
      "source": [
        "morangoAteCinco = 2.5\n",
        "morangoAcimaCinco = 2.2\n",
        "macaAteCinco = 1.8\n",
        "macaAcimaCinco = 1.5\n",
        "\n",
        "kgmorango = float(input('Digite a quantidade de morangos (em Kg) a serem adquiridos: '))\n",
        "\n",
        "#Checando se é positivo.\n",
        "if kgmorango < 0:\n",
        "  print('Informe um valor positivo.')\n",
        "else:\n",
        "  kgmaca = float(input('Digite a quantidade de maçãs (em Kg) a serem adquiridas: '))\n",
        "  if kgmaca < 0:\n",
        "    print('Informe um valor positivo.') \n",
        "  else:\n",
        "#Calculando Desconto    \n",
        "    if kgmorango > 5:\n",
        "      precomorango = kgmorango * morangoAcimaCinco\n",
        "    else:\n",
        "      precomorango = kgmorango * morangoAteCinco\n",
        "\n",
        "    if kgmaca > 5:\n",
        "      precomaca = kgmaca * macaAcimaCinco\n",
        "    else:\n",
        "      precomaca = kgmaca * macaAteCinco\n",
        "\n",
        "    precototal = precomorango + precomaca\n",
        "\n",
        "    if (kgmorango + kgmaca) > 8 or (precomorango + precomaca) > 25:\n",
        "      precofinal = precototal - (precototal * (10/100))\n",
        "    else:\n",
        "      precofinal = precototal\n",
        "\n",
        "    print('O valor a ser pago será de R${:.2f}'.format(precofinal))"
      ]
    },
    {
      "cell_type": "markdown",
      "metadata": {
        "id": "Pzs3WLFYaYnv"
      },
      "source": [
        "**44. Elabore um algoritmo que dada a idade de um nadador classifica-o em uma das seguintes categorias:**\n",
        "\n",
        "**infantil A = 5 - 7 anos;**\n",
        "\n",
        "**infantil B = 8-10 anos;** \n",
        "\n",
        "**juvenil A = 11-13 anos;** \n",
        "\n",
        "**juvenil B = 14-17 anos;** \n",
        "\n",
        "**adulto = maiores de 18 anos.**"
      ]
    },
    {
      "cell_type": "code",
      "execution_count": 2,
      "metadata": {
        "colab": {
          "base_uri": "https://localhost:8080/"
        },
        "id": "6ZiiPR5yaouQ",
        "outputId": "767ef166-0bb4-4372-f4b9-0858b348800c"
      },
      "outputs": [
        {
          "output_type": "stream",
          "name": "stdout",
          "text": [
            "Digite a idade do nadador: 11\n",
            "A classificação é Juvenil A\n"
          ]
        }
      ],
      "source": [
        "idade = float(input('Digite a idade do nadador: '))\n",
        "\n",
        "if idade < 5:\n",
        "  print('Classificação indefinida.')\n",
        "elif idade >= 5 and idade <= 7:\n",
        "  classificacao = 'Infantil A'\n",
        "  print('A classificação é', classificacao)\n",
        "elif idade >= 8 and idade <= 10:\n",
        "  classificacao = 'Infatil B'\n",
        "  print('A classificação é', classificacao)\n",
        "elif idade >= 11 and idade <= 13:\n",
        "  classificacao = 'Juvenil A'\n",
        "  print('A classificação é', classificacao)\n",
        "elif idade >= 14 and idade <= 17:\n",
        "  classificacao = 'Juvenil B'\n",
        "  print('A classificação é', classificacao)\n",
        "else:\n",
        "  classificacao = 'Adulto'\n",
        "  print('A classificação é', classificacao)\n"
      ]
    },
    {
      "cell_type": "markdown",
      "metadata": {
        "id": "SywpD3GCdqx1"
      },
      "source": [
        "**45. Tendo como dados de entrada a altura e o sexo de uma pessoa, construa um algoritmo que calcule seu peso ideal, utilizando as seguintes fórmulas: para homens: (72.7*h) – 58 e para mulheres: (62.1*h) - 44.7 (h = altura)**"
      ]
    },
    {
      "cell_type": "code",
      "execution_count": null,
      "metadata": {
        "colab": {
          "base_uri": "https://localhost:8080/"
        },
        "id": "oSrMSQ9edyzP",
        "outputId": "43ef32ae-6b08-496f-ca2e-0159fd81e52f"
      },
      "outputs": [
        {
          "name": "stdout",
          "output_type": "stream",
          "text": [
            "Digite a altura (em metros): 1.58\n",
            "Digite o sexo (F para feminino, M para masculino): f\n",
            "O peso ideal é de 53.4 kg\n"
          ]
        }
      ],
      "source": [
        "altura = float(input('Digite a altura (em metros): '))\n",
        "\n",
        "if altura < 0:\n",
        "  print('Informe um valor positivo.')\n",
        "else: \n",
        "  sexo = str(input('Digite o sexo (F para feminino, M para masculino): '))\n",
        "  if sexo == 'F' or sexo == 'f':\n",
        "    pesoideal = (62.1 * altura) - 44.7\n",
        "    print('O peso ideal é de {:.1f} kg'.format(pesoideal))\n",
        "  else:\n",
        "    if sexo == 'M' or sexo == 'm':\n",
        "      pesoideal = (72.7 * altura) - 58\n",
        "      print('O peso ideal é de {:.1f} kg'.format(pesoideal))\n",
        "    else:\n",
        "      print('Sexo inválido')\n",
        "  "
      ]
    }
  ],
  "metadata": {
    "colab": {
      "provenance": []
    },
    "kernelspec": {
      "display_name": "Python 3",
      "name": "python3"
    },
    "language_info": {
      "name": "python"
    }
  },
  "nbformat": 4,
  "nbformat_minor": 0
}